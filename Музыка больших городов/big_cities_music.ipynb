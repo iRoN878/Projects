{
 "cells": [
  {
   "cell_type": "markdown",
   "metadata": {
    "deletable": false,
    "editable": false,
    "id": "E0vqbgi9ay0H"
   },
   "source": [
    "# Яндекс.Музыка"
   ]
  },
  {
   "cell_type": "markdown",
   "metadata": {
    "deletable": false,
    "editable": false,
    "id": "VUC88oWjTJw2"
   },
   "source": [
    "Сравнение Москвы и Петербурга окружено мифами. Например:\n",
    " * Москва — мегаполис, подчинённый жёсткому ритму рабочей недели;\n",
    " * Петербург — культурная столица, со своими вкусами.\n",
    "\n",
    "На данных Яндекс Музыки вы сравните поведение пользователей двух столиц.\n",
    "\n",
    "**Цель исследования** — проверьте три гипотезы:\n",
    "1. Активность пользователей зависит от дня недели. Причём в Москве и Петербурге это проявляется по-разному.\n",
    "2. В понедельник утром в Москве преобладают одни жанры, а в Петербурге — другие. Так же и вечером пятницы преобладают разные жанры — в зависимости от города. \n",
    "3. Москва и Петербург предпочитают разные жанры музыки. В Москве чаще слушают поп-музыку, в Петербурге — русский рэп.\n",
    "\n",
    "**Ход исследования**\n",
    "\n",
    "Данные о поведении пользователей вы получите из файла `yandex_music_project.csv`. О качестве данных ничего не известно. Поэтому перед проверкой гипотез понадобится обзор данных. \n",
    "\n",
    "Вы проверите данные на ошибки и оцените их влияние на исследование. Затем, на этапе предобработки вы поищете возможность исправить самые критичные ошибки данных.\n",
    " \n",
    "Таким образом, исследование пройдёт в три этапа:\n",
    " 1. Обзор данных.\n",
    " 2. Предобработка данных.\n",
    " 3. Проверка гипотез.\n",
    "\n"
   ]
  },
  {
   "cell_type": "markdown",
   "metadata": {
    "deletable": false,
    "editable": false,
    "id": "Ml1hmfXC_Zcs"
   },
   "source": [
    "## Обзор данных\n",
    "\n",
    "Составьте первое представление о данных Яндекс Музыки.\n",
    "\n",
    "\n"
   ]
  },
  {
   "cell_type": "markdown",
   "metadata": {
    "deletable": false,
    "editable": false,
    "id": "57eAOGIz_Zcs",
    "tags": [
     "start_task"
    ]
   },
   "source": [
    "**Задание 1**\n",
    "\n",
    "Основной инструмент аналитика — `pandas`. Импортируйте эту библиотеку."
   ]
  },
  {
   "cell_type": "code",
   "execution_count": 1,
   "metadata": {
    "deletable": false,
    "id": "AXN7PHPN_Zcs"
   },
   "outputs": [],
   "source": [
    "import pandas as pd # импорт библиотеки pandas"
   ]
  },
  {
   "cell_type": "markdown",
   "metadata": {
    "deletable": false,
    "editable": false,
    "id": "SG23P8tt_Zcs",
    "tags": [
     "start_task"
    ]
   },
   "source": [
    "**Задание 2**\n",
    "\n",
    "Прочитайте файл `yandex_music_project.csv` из папки `/datasets` и сохраните его в переменной `df`:"
   ]
  },
  {
   "cell_type": "code",
   "execution_count": 2,
   "metadata": {
    "deletable": false,
    "id": "fFVu7vqh_Zct"
   },
   "outputs": [],
   "source": [
    "df = pd.read_csv('/datasets/yandex_music_project.csv') # чтение файла с данными и сохранение в df"
   ]
  },
  {
   "cell_type": "markdown",
   "metadata": {
    "deletable": false,
    "editable": false,
    "id": "rDoOMd3uTqnZ",
    "tags": [
     "start_task"
    ]
   },
   "source": [
    "**Задание 3**\n",
    "\n",
    "\n",
    "Выведите на экран первые десять строк таблицы:"
   ]
  },
  {
   "cell_type": "code",
   "execution_count": 3,
   "metadata": {
    "deletable": false,
    "id": "oWTVX3gW_Zct",
    "scrolled": false
   },
   "outputs": [
    {
     "data": {
      "text/html": [
       "<div>\n",
       "<style scoped>\n",
       "    .dataframe tbody tr th:only-of-type {\n",
       "        vertical-align: middle;\n",
       "    }\n",
       "\n",
       "    .dataframe tbody tr th {\n",
       "        vertical-align: top;\n",
       "    }\n",
       "\n",
       "    .dataframe thead th {\n",
       "        text-align: right;\n",
       "    }\n",
       "</style>\n",
       "<table border=\"1\" class=\"dataframe\">\n",
       "  <thead>\n",
       "    <tr style=\"text-align: right;\">\n",
       "      <th></th>\n",
       "      <th>userID</th>\n",
       "      <th>Track</th>\n",
       "      <th>artist</th>\n",
       "      <th>genre</th>\n",
       "      <th>City</th>\n",
       "      <th>time</th>\n",
       "      <th>Day</th>\n",
       "    </tr>\n",
       "  </thead>\n",
       "  <tbody>\n",
       "    <tr>\n",
       "      <th>0</th>\n",
       "      <td>FFB692EC</td>\n",
       "      <td>Kamigata To Boots</td>\n",
       "      <td>The Mass Missile</td>\n",
       "      <td>rock</td>\n",
       "      <td>Saint-Petersburg</td>\n",
       "      <td>20:28:33</td>\n",
       "      <td>Wednesday</td>\n",
       "    </tr>\n",
       "    <tr>\n",
       "      <th>1</th>\n",
       "      <td>55204538</td>\n",
       "      <td>Delayed Because of Accident</td>\n",
       "      <td>Andreas Rönnberg</td>\n",
       "      <td>rock</td>\n",
       "      <td>Moscow</td>\n",
       "      <td>14:07:09</td>\n",
       "      <td>Friday</td>\n",
       "    </tr>\n",
       "    <tr>\n",
       "      <th>2</th>\n",
       "      <td>20EC38</td>\n",
       "      <td>Funiculì funiculà</td>\n",
       "      <td>Mario Lanza</td>\n",
       "      <td>pop</td>\n",
       "      <td>Saint-Petersburg</td>\n",
       "      <td>20:58:07</td>\n",
       "      <td>Wednesday</td>\n",
       "    </tr>\n",
       "    <tr>\n",
       "      <th>3</th>\n",
       "      <td>A3DD03C9</td>\n",
       "      <td>Dragons in the Sunset</td>\n",
       "      <td>Fire + Ice</td>\n",
       "      <td>folk</td>\n",
       "      <td>Saint-Petersburg</td>\n",
       "      <td>08:37:09</td>\n",
       "      <td>Monday</td>\n",
       "    </tr>\n",
       "    <tr>\n",
       "      <th>4</th>\n",
       "      <td>E2DC1FAE</td>\n",
       "      <td>Soul People</td>\n",
       "      <td>Space Echo</td>\n",
       "      <td>dance</td>\n",
       "      <td>Moscow</td>\n",
       "      <td>08:34:34</td>\n",
       "      <td>Monday</td>\n",
       "    </tr>\n",
       "    <tr>\n",
       "      <th>5</th>\n",
       "      <td>842029A1</td>\n",
       "      <td>Преданная</td>\n",
       "      <td>IMPERVTOR</td>\n",
       "      <td>rusrap</td>\n",
       "      <td>Saint-Petersburg</td>\n",
       "      <td>13:09:41</td>\n",
       "      <td>Friday</td>\n",
       "    </tr>\n",
       "    <tr>\n",
       "      <th>6</th>\n",
       "      <td>4CB90AA5</td>\n",
       "      <td>True</td>\n",
       "      <td>Roman Messer</td>\n",
       "      <td>dance</td>\n",
       "      <td>Moscow</td>\n",
       "      <td>13:00:07</td>\n",
       "      <td>Wednesday</td>\n",
       "    </tr>\n",
       "    <tr>\n",
       "      <th>7</th>\n",
       "      <td>F03E1C1F</td>\n",
       "      <td>Feeling This Way</td>\n",
       "      <td>Polina Griffith</td>\n",
       "      <td>dance</td>\n",
       "      <td>Moscow</td>\n",
       "      <td>20:47:49</td>\n",
       "      <td>Wednesday</td>\n",
       "    </tr>\n",
       "    <tr>\n",
       "      <th>8</th>\n",
       "      <td>8FA1D3BE</td>\n",
       "      <td>И вновь продолжается бой</td>\n",
       "      <td>NaN</td>\n",
       "      <td>ruspop</td>\n",
       "      <td>Moscow</td>\n",
       "      <td>09:17:40</td>\n",
       "      <td>Friday</td>\n",
       "    </tr>\n",
       "    <tr>\n",
       "      <th>9</th>\n",
       "      <td>E772D5C0</td>\n",
       "      <td>Pessimist</td>\n",
       "      <td>NaN</td>\n",
       "      <td>dance</td>\n",
       "      <td>Saint-Petersburg</td>\n",
       "      <td>21:20:49</td>\n",
       "      <td>Wednesday</td>\n",
       "    </tr>\n",
       "  </tbody>\n",
       "</table>\n",
       "</div>"
      ],
      "text/plain": [
       "     userID                        Track            artist   genre  \\\n",
       "0  FFB692EC            Kamigata To Boots  The Mass Missile    rock   \n",
       "1  55204538  Delayed Because of Accident  Andreas Rönnberg    rock   \n",
       "2    20EC38            Funiculì funiculà       Mario Lanza     pop   \n",
       "3  A3DD03C9        Dragons in the Sunset        Fire + Ice    folk   \n",
       "4  E2DC1FAE                  Soul People        Space Echo   dance   \n",
       "5  842029A1                    Преданная         IMPERVTOR  rusrap   \n",
       "6  4CB90AA5                         True      Roman Messer   dance   \n",
       "7  F03E1C1F             Feeling This Way   Polina Griffith   dance   \n",
       "8  8FA1D3BE     И вновь продолжается бой               NaN  ruspop   \n",
       "9  E772D5C0                    Pessimist               NaN   dance   \n",
       "\n",
       "             City        time        Day  \n",
       "0  Saint-Petersburg  20:28:33  Wednesday  \n",
       "1            Moscow  14:07:09     Friday  \n",
       "2  Saint-Petersburg  20:58:07  Wednesday  \n",
       "3  Saint-Petersburg  08:37:09     Monday  \n",
       "4            Moscow  08:34:34     Monday  \n",
       "5  Saint-Petersburg  13:09:41     Friday  \n",
       "6            Moscow  13:00:07  Wednesday  \n",
       "7            Moscow  20:47:49  Wednesday  \n",
       "8            Moscow  09:17:40     Friday  \n",
       "9  Saint-Petersburg  21:20:49  Wednesday  "
      ]
     },
     "execution_count": 3,
     "metadata": {},
     "output_type": "execute_result"
    }
   ],
   "source": [
    "df.head(10) # получение первых 10 строк таблицы df"
   ]
  },
  {
   "cell_type": "markdown",
   "metadata": {
    "deletable": false,
    "editable": false,
    "id": "EO73Kwic_Zct",
    "tags": [
     "start_task"
    ]
   },
   "source": [
    "**Задание 4**\n",
    "\n",
    "\n",
    "Одной командой получить общую информацию о таблице c помощью метода `info()`:"
   ]
  },
  {
   "cell_type": "code",
   "execution_count": 4,
   "metadata": {
    "deletable": false,
    "id": "DSf2kIb-_Zct"
   },
   "outputs": [
    {
     "name": "stdout",
     "output_type": "stream",
     "text": [
      "<class 'pandas.core.frame.DataFrame'>\n",
      "RangeIndex: 65079 entries, 0 to 65078\n",
      "Data columns (total 7 columns):\n",
      " #   Column    Non-Null Count  Dtype \n",
      "---  ------    --------------  ----- \n",
      " 0     userID  65079 non-null  object\n",
      " 1   Track     63848 non-null  object\n",
      " 2   artist    57876 non-null  object\n",
      " 3   genre     63881 non-null  object\n",
      " 4     City    65079 non-null  object\n",
      " 5   time      65079 non-null  object\n",
      " 6   Day       65079 non-null  object\n",
      "dtypes: object(7)\n",
      "memory usage: 3.5+ MB\n"
     ]
    }
   ],
   "source": [
    "df.info()# получение общей информации о данных в таблице df"
   ]
  },
  {
   "cell_type": "markdown",
   "metadata": {
    "deletable": false,
    "editable": false,
    "id": "TaQ2Iwbr_Zct"
   },
   "source": [
    "Итак, в таблице семь столбцов. Тип данных во всех столбцах — `object`.\n",
    "\n",
    "Согласно документации к данным:\n",
    "* `userID` — идентификатор пользователя;\n",
    "* `Track` — название трека;  \n",
    "* `artist` — имя исполнителя;\n",
    "* `genre` — название жанра;\n",
    "* `City` — город пользователя;\n",
    "* `time` — время начала прослушивания;\n",
    "* `Day` — день недели.\n",
    "\n",
    "Количество значений в столбцах различается. Значит, в данных есть пропущенные значения."
   ]
  },
  {
   "cell_type": "markdown",
   "metadata": {
    "deletable": false,
    "editable": false,
    "id": "4P0UCWzswgEm",
    "tags": [
     "start_task"
    ]
   },
   "source": [
    "**Задание 5**\n",
    "\n",
    "**Вопрос со свободной формой ответа**\n",
    "\n",
    "В названиях колонок видны три нарушения стиля:\n",
    "1. Строчные буквы сочетаются с прописными.\n",
    "2. Встречаются пробелы."
   ]
  },
  {
   "cell_type": "code",
   "execution_count": 5,
   "metadata": {
    "id": "c137-ZstwgEm"
   },
   "outputs": [],
   "source": [
    "# Напишите ваш ответ здесь комментарием. Не удаляйте символ #. Не меняйте тип этой ячейки на Markdown."
   ]
  },
  {
   "cell_type": "markdown",
   "metadata": {
    "deletable": false,
    "editable": false,
    "id": "MCB6-dXG_Zct"
   },
   "source": [
    "**Выводы**\n",
    "\n",
    "В каждой строке таблицы — данные о прослушанном треке. Часть колонок описывает саму композицию: название, исполнителя и жанр. Остальные данные рассказывают о пользователе: из какого он города, когда он слушал музыку. \n",
    "\n",
    "Предварительно можно утверждать, что, данных достаточно для проверки гипотез. Но встречаются пропуски в данных, а в названиях колонок — расхождения с хорошим стилем.\n",
    "\n",
    "Чтобы двигаться дальше, нужно устранить проблемы в данных."
   ]
  },
  {
   "cell_type": "markdown",
   "metadata": {
    "deletable": false,
    "editable": false,
    "id": "SjYF6Ub9_Zct"
   },
   "source": [
    "## Предобработка данных\n",
    "Исправьте стиль в заголовках столбцов, исключите пропуски. Затем проверьте данные на дубликаты."
   ]
  },
  {
   "cell_type": "markdown",
   "metadata": {
    "deletable": false,
    "editable": false,
    "id": "dIaKXr29_Zct",
    "tags": [
     "start_task"
    ]
   },
   "source": [
    "### Стиль заголовков\n",
    "\n",
    "**Задание 6**\n",
    "\n",
    "Выведите на экран названия столбцов:"
   ]
  },
  {
   "cell_type": "code",
   "execution_count": 6,
   "metadata": {
    "deletable": false,
    "id": "oKOTdF_Q_Zct"
   },
   "outputs": [
    {
     "name": "stdout",
     "output_type": "stream",
     "text": [
      "Index(['  userID', 'Track', 'artist', 'genre', '  City  ', 'time', 'Day'], dtype='object')\n"
     ]
    }
   ],
   "source": [
    "print(df.columns)# перечень названий столбцов таблицы df"
   ]
  },
  {
   "cell_type": "markdown",
   "metadata": {
    "deletable": false,
    "editable": false,
    "id": "zj5534cv_Zct",
    "tags": [
     "start_task"
    ]
   },
   "source": [
    "**Задание 7**\n",
    "\n",
    "\n",
    "Приведите названия в соответствие с хорошим стилем:\n",
    "* несколько слов в названии запишите в «змеином_регистре»,\n",
    "* все символы сделайте строчными,\n",
    "* устраните пробелы.\n",
    "\n",
    "Для этого переименуйте колонки так:\n",
    "* `'  userID'` → `'user_id'`;\n",
    "* `'Track'` → `'track'`;\n",
    "* `'  City  '` → `'city'`;\n",
    "* `'Day'` → `'day'`."
   ]
  },
  {
   "cell_type": "code",
   "execution_count": 7,
   "metadata": {
    "deletable": false,
    "id": "ISlFqs5y_Zct"
   },
   "outputs": [],
   "source": [
    "df = df.rename(columns = {'  userID' : 'user_id', 'Track' : 'track', '  City  ' : 'city', 'Day' : 'day'}) # переименование столбцов"
   ]
  },
  {
   "cell_type": "markdown",
   "metadata": {
    "deletable": false,
    "editable": false,
    "id": "1dqbh00J_Zct",
    "tags": [
     "start_task"
    ]
   },
   "source": [
    "**Задание 8**\n",
    "\n",
    "\n",
    "Проверьте результат. Для этого ещё раз выведите на экран названия столбцов:"
   ]
  },
  {
   "cell_type": "code",
   "execution_count": 8,
   "metadata": {
    "deletable": false,
    "id": "d4NOAmTW_Zct"
   },
   "outputs": [
    {
     "name": "stdout",
     "output_type": "stream",
     "text": [
      "Index(['user_id', 'track', 'artist', 'genre', 'city', 'time', 'day'], dtype='object')\n"
     ]
    }
   ],
   "source": [
    "print(df.columns)# проверка результатов - перечень названий столбцов"
   ]
  },
  {
   "cell_type": "markdown",
   "metadata": {
    "deletable": false,
    "editable": false,
    "id": "5ISfbcfY_Zct",
    "tags": [
     "start_task"
    ]
   },
   "source": [
    "### Пропуски значений\n",
    "\n",
    "**Задание 9**\n",
    "\n",
    "Сначала посчитайте, сколько в таблице пропущенных значений. Для этого достаточно двух методов `pandas`:"
   ]
  },
  {
   "cell_type": "code",
   "execution_count": 9,
   "metadata": {
    "deletable": false,
    "id": "RskX29qr_Zct",
    "scrolled": true
   },
   "outputs": [
    {
     "name": "stdout",
     "output_type": "stream",
     "text": [
      "user_id       0\n",
      "track      1231\n",
      "artist     7203\n",
      "genre      1198\n",
      "city          0\n",
      "time          0\n",
      "day           0\n",
      "dtype: int64\n"
     ]
    }
   ],
   "source": [
    "print(df.isna().sum())# подсчёт пропусков"
   ]
  },
  {
   "cell_type": "markdown",
   "metadata": {
    "deletable": false,
    "editable": false,
    "id": "qubhgnlO_Zct"
   },
   "source": [
    "Не все пропущенные значения влияют на исследование. Так в `track` и `artist` пропуски не важны для вашей работы. Достаточно заменить их явными обозначениями.\n",
    "\n",
    "Но пропуски в `genre` могут помешать сравнению музыкальных вкусов в Москве и Санкт-Петербурге. На практике было бы правильно установить причину пропусков и восстановить данные. Такой возможности нет в учебном проекте. Придётся:\n",
    "* заполнить и эти пропуски явными обозначениями,\n",
    "* оценить, насколько они повредят расчётам. "
   ]
  },
  {
   "cell_type": "markdown",
   "metadata": {
    "deletable": false,
    "editable": false,
    "id": "fSv2laPA_Zct",
    "tags": [
     "start_task"
    ]
   },
   "source": [
    "**Задание 10**\n",
    "\n",
    "Замените пропущенные значения в столбцах `track`, `artist` и `genre` на строку `'unknown'`. Для этого создайте список `columns_to_replace`, переберите его элементы циклом `for` и для каждого столбца выполните замену пропущенных значений:"
   ]
  },
  {
   "cell_type": "code",
   "execution_count": 10,
   "metadata": {
    "deletable": false,
    "id": "KplB5qWs_Zct"
   },
   "outputs": [],
   "source": [
    "columns_to_replace = ['track', 'artist', 'genre']\n",
    "for column in columns_to_replace:\n",
    "    df[column] = df[column].fillna('unknown')\n",
    "\n",
    "    # перебор названий столбцов в цикле и замена пропущенных значений на 'unknown'"
   ]
  },
  {
   "cell_type": "markdown",
   "metadata": {
    "deletable": false,
    "editable": false,
    "id": "Ilsm-MZo_Zct",
    "tags": [
     "start_task"
    ]
   },
   "source": [
    "**Задание 11**\n",
    "\n",
    "Убедитесь, что в таблице не осталось пропусков. Для этого ещё раз посчитайте пропущенные значения."
   ]
  },
  {
   "cell_type": "code",
   "execution_count": 11,
   "metadata": {
    "deletable": false,
    "id": "Tq4nYRX4_Zct",
    "scrolled": true
   },
   "outputs": [
    {
     "name": "stdout",
     "output_type": "stream",
     "text": [
      "user_id    0\n",
      "track      0\n",
      "artist     0\n",
      "genre      0\n",
      "city       0\n",
      "time       0\n",
      "day        0\n",
      "dtype: int64\n"
     ]
    }
   ],
   "source": [
    "print(df.isna().sum())# подсчёт пропусков"
   ]
  },
  {
   "cell_type": "markdown",
   "metadata": {
    "deletable": false,
    "editable": false,
    "id": "BWKRtBJ3_Zct",
    "tags": [
     "start_task"
    ]
   },
   "source": [
    "### Дубликаты\n",
    "\n",
    "**Задание 12**\n",
    "\n",
    "Посчитайте явные дубликаты в таблице одной командой:"
   ]
  },
  {
   "cell_type": "code",
   "execution_count": 12,
   "metadata": {
    "deletable": false,
    "id": "36eES_S0_Zct"
   },
   "outputs": [
    {
     "name": "stdout",
     "output_type": "stream",
     "text": [
      "3826\n"
     ]
    }
   ],
   "source": [
    "print(df.duplicated().sum())# подсчёт явных дубликатов"
   ]
  },
  {
   "cell_type": "markdown",
   "metadata": {
    "deletable": false,
    "editable": false,
    "id": "Ot25h6XR_Zct",
    "tags": [
     "start_task"
    ]
   },
   "source": [
    "**Задание 13**\n",
    "\n",
    "Вызовите специальный метод `pandas`, чтобы удалить явные дубликаты:"
   ]
  },
  {
   "cell_type": "code",
   "execution_count": 41,
   "metadata": {
    "deletable": false,
    "id": "exFHq6tt_Zct",
    "scrolled": false
   },
   "outputs": [
    {
     "data": {
      "text/html": [
       "<div>\n",
       "<style scoped>\n",
       "    .dataframe tbody tr th:only-of-type {\n",
       "        vertical-align: middle;\n",
       "    }\n",
       "\n",
       "    .dataframe tbody tr th {\n",
       "        vertical-align: top;\n",
       "    }\n",
       "\n",
       "    .dataframe thead th {\n",
       "        text-align: right;\n",
       "    }\n",
       "</style>\n",
       "<table border=\"1\" class=\"dataframe\">\n",
       "  <thead>\n",
       "    <tr style=\"text-align: right;\">\n",
       "      <th></th>\n",
       "      <th>user_id</th>\n",
       "      <th>track</th>\n",
       "      <th>artist</th>\n",
       "      <th>genre</th>\n",
       "      <th>city</th>\n",
       "      <th>time</th>\n",
       "      <th>day</th>\n",
       "    </tr>\n",
       "  </thead>\n",
       "  <tbody>\n",
       "    <tr>\n",
       "      <th>0</th>\n",
       "      <td>FFB692EC</td>\n",
       "      <td>Kamigata To Boots</td>\n",
       "      <td>The Mass Missile</td>\n",
       "      <td>rock</td>\n",
       "      <td>Saint-Petersburg</td>\n",
       "      <td>20:28:33</td>\n",
       "      <td>Wednesday</td>\n",
       "    </tr>\n",
       "    <tr>\n",
       "      <th>1</th>\n",
       "      <td>55204538</td>\n",
       "      <td>Delayed Because of Accident</td>\n",
       "      <td>Andreas Rönnberg</td>\n",
       "      <td>rock</td>\n",
       "      <td>Moscow</td>\n",
       "      <td>14:07:09</td>\n",
       "      <td>Friday</td>\n",
       "    </tr>\n",
       "    <tr>\n",
       "      <th>2</th>\n",
       "      <td>20EC38</td>\n",
       "      <td>Funiculì funiculà</td>\n",
       "      <td>Mario Lanza</td>\n",
       "      <td>pop</td>\n",
       "      <td>Saint-Petersburg</td>\n",
       "      <td>20:58:07</td>\n",
       "      <td>Wednesday</td>\n",
       "    </tr>\n",
       "    <tr>\n",
       "      <th>3</th>\n",
       "      <td>A3DD03C9</td>\n",
       "      <td>Dragons in the Sunset</td>\n",
       "      <td>Fire + Ice</td>\n",
       "      <td>folk</td>\n",
       "      <td>Saint-Petersburg</td>\n",
       "      <td>08:37:09</td>\n",
       "      <td>Monday</td>\n",
       "    </tr>\n",
       "    <tr>\n",
       "      <th>4</th>\n",
       "      <td>E2DC1FAE</td>\n",
       "      <td>Soul People</td>\n",
       "      <td>Space Echo</td>\n",
       "      <td>dance</td>\n",
       "      <td>Moscow</td>\n",
       "      <td>08:34:34</td>\n",
       "      <td>Monday</td>\n",
       "    </tr>\n",
       "    <tr>\n",
       "      <th>...</th>\n",
       "      <td>...</td>\n",
       "      <td>...</td>\n",
       "      <td>...</td>\n",
       "      <td>...</td>\n",
       "      <td>...</td>\n",
       "      <td>...</td>\n",
       "      <td>...</td>\n",
       "    </tr>\n",
       "    <tr>\n",
       "      <th>65074</th>\n",
       "      <td>729CBB09</td>\n",
       "      <td>My Name</td>\n",
       "      <td>McLean</td>\n",
       "      <td>rnb</td>\n",
       "      <td>Moscow</td>\n",
       "      <td>13:32:28</td>\n",
       "      <td>Wednesday</td>\n",
       "    </tr>\n",
       "    <tr>\n",
       "      <th>65075</th>\n",
       "      <td>D08D4A55</td>\n",
       "      <td>Maybe One Day (feat. Black Spade)</td>\n",
       "      <td>Blu &amp; Exile</td>\n",
       "      <td>hiphop</td>\n",
       "      <td>Saint-Petersburg</td>\n",
       "      <td>10:00:00</td>\n",
       "      <td>Monday</td>\n",
       "    </tr>\n",
       "    <tr>\n",
       "      <th>65076</th>\n",
       "      <td>C5E3A0D5</td>\n",
       "      <td>Jalopiina</td>\n",
       "      <td>unknown</td>\n",
       "      <td>industrial</td>\n",
       "      <td>Moscow</td>\n",
       "      <td>20:09:26</td>\n",
       "      <td>Friday</td>\n",
       "    </tr>\n",
       "    <tr>\n",
       "      <th>65077</th>\n",
       "      <td>321D0506</td>\n",
       "      <td>Freight Train</td>\n",
       "      <td>Chas McDevitt</td>\n",
       "      <td>rock</td>\n",
       "      <td>Moscow</td>\n",
       "      <td>21:43:59</td>\n",
       "      <td>Friday</td>\n",
       "    </tr>\n",
       "    <tr>\n",
       "      <th>65078</th>\n",
       "      <td>3A64EF84</td>\n",
       "      <td>Tell Me Sweet Little Lies</td>\n",
       "      <td>Monica Lopez</td>\n",
       "      <td>country</td>\n",
       "      <td>Moscow</td>\n",
       "      <td>21:59:46</td>\n",
       "      <td>Friday</td>\n",
       "    </tr>\n",
       "  </tbody>\n",
       "</table>\n",
       "<p>61253 rows × 7 columns</p>\n",
       "</div>"
      ],
      "text/plain": [
       "        user_id                              track            artist  \\\n",
       "0      FFB692EC                  Kamigata To Boots  The Mass Missile   \n",
       "1      55204538        Delayed Because of Accident  Andreas Rönnberg   \n",
       "2        20EC38                  Funiculì funiculà       Mario Lanza   \n",
       "3      A3DD03C9              Dragons in the Sunset        Fire + Ice   \n",
       "4      E2DC1FAE                        Soul People        Space Echo   \n",
       "...         ...                                ...               ...   \n",
       "65074  729CBB09                            My Name            McLean   \n",
       "65075  D08D4A55  Maybe One Day (feat. Black Spade)       Blu & Exile   \n",
       "65076  C5E3A0D5                          Jalopiina           unknown   \n",
       "65077  321D0506                      Freight Train     Chas McDevitt   \n",
       "65078  3A64EF84          Tell Me Sweet Little Lies      Monica Lopez   \n",
       "\n",
       "            genre              city      time        day  \n",
       "0            rock  Saint-Petersburg  20:28:33  Wednesday  \n",
       "1            rock            Moscow  14:07:09     Friday  \n",
       "2             pop  Saint-Petersburg  20:58:07  Wednesday  \n",
       "3            folk  Saint-Petersburg  08:37:09     Monday  \n",
       "4           dance            Moscow  08:34:34     Monday  \n",
       "...           ...               ...       ...        ...  \n",
       "65074         rnb            Moscow  13:32:28  Wednesday  \n",
       "65075      hiphop  Saint-Petersburg  10:00:00     Monday  \n",
       "65076  industrial            Moscow  20:09:26     Friday  \n",
       "65077        rock            Moscow  21:43:59     Friday  \n",
       "65078     country            Moscow  21:59:46     Friday  \n",
       "\n",
       "[61253 rows x 7 columns]"
      ]
     },
     "execution_count": 41,
     "metadata": {},
     "output_type": "execute_result"
    }
   ],
   "source": [
    "df = df.drop_duplicates() # удаление явных дубликатов (с удалением старых индексов и формированием новых)\n",
    "df"
   ]
  },
  {
   "cell_type": "markdown",
   "metadata": {
    "deletable": false,
    "editable": false,
    "id": "Im2YwBEG_Zct",
    "tags": [
     "start_task"
    ]
   },
   "source": [
    "**Задание 14**\n",
    "\n",
    "Ещё раз посчитайте явные дубликаты в таблице — убедитесь, что полностью от них избавились:"
   ]
  },
  {
   "cell_type": "code",
   "execution_count": 14,
   "metadata": {
    "deletable": false,
    "id": "-8PuNWQ0_Zct",
    "scrolled": true
   },
   "outputs": [
    {
     "name": "stdout",
     "output_type": "stream",
     "text": [
      "0\n"
     ]
    }
   ],
   "source": [
    "print(df.duplicated().sum())# проверка на отсутствие дубликатов"
   ]
  },
  {
   "cell_type": "markdown",
   "metadata": {
    "deletable": false,
    "editable": false,
    "id": "QlFBsxAr_Zct"
   },
   "source": [
    "Теперь избавьтесь от неявных дубликатов в колонке `genre`. Например, название одного и того же жанра может быть записано немного по-разному. Такие ошибки тоже повлияют на результат исследования."
   ]
  },
  {
   "cell_type": "markdown",
   "metadata": {
    "deletable": false,
    "editable": false,
    "id": "eSjWwsOh_Zct",
    "tags": [
     "start_task"
    ]
   },
   "source": [
    "**Задание 15**\n",
    "\n",
    "Выведите на экран список уникальных названий жанров, отсортированный в алфавитном порядке. Для этого:\n",
    "* извлеките нужный столбец датафрейма, \n",
    "* примените к нему метод сортировки,\n",
    "* для отсортированного столбца вызовите метод, который вернёт уникальные значения из столбца."
   ]
  },
  {
   "cell_type": "code",
   "execution_count": 15,
   "metadata": {
    "deletable": false,
    "id": "JIUcqzZN_Zct",
    "scrolled": true
   },
   "outputs": [
    {
     "name": "stdout",
     "output_type": "stream",
     "text": [
      "['acid' 'acoustic' 'action' 'adult' 'africa' 'afrikaans' 'alternative'\n",
      " 'alternativepunk' 'ambient' 'americana' 'animated' 'anime' 'arabesk'\n",
      " 'arabic' 'arena' 'argentinetango' 'art' 'audiobook' 'author' 'avantgarde'\n",
      " 'axé' 'baile' 'balkan' 'beats' 'bigroom' 'black' 'bluegrass' 'blues'\n",
      " 'bollywood' 'bossa' 'brazilian' 'breakbeat' 'breaks' 'broadway'\n",
      " 'cantautori' 'cantopop' 'canzone' 'caribbean' 'caucasian' 'celtic'\n",
      " 'chamber' 'chanson' 'children' 'chill' 'chinese' 'choral' 'christian'\n",
      " 'christmas' 'classical' 'classicmetal' 'club' 'colombian' 'comedy'\n",
      " 'conjazz' 'contemporary' 'country' 'cuban' 'dance' 'dancehall' 'dancepop'\n",
      " 'dark' 'death' 'deep' 'deutschrock' 'deutschspr' 'dirty' 'disco' 'dnb'\n",
      " 'documentary' 'downbeat' 'downtempo' 'drum' 'dub' 'dubstep' 'eastern'\n",
      " 'easy' 'electronic' 'electropop' 'emo' 'entehno' 'epicmetal' 'estrada'\n",
      " 'ethnic' 'eurofolk' 'european' 'experimental' 'extrememetal' 'fado'\n",
      " 'fairytail' 'film' 'fitness' 'flamenco' 'folk' 'folklore' 'folkmetal'\n",
      " 'folkrock' 'folktronica' 'forró' 'frankreich' 'französisch' 'french'\n",
      " 'funk' 'future' 'gangsta' 'garage' 'german' 'ghazal' 'gitarre' 'glitch'\n",
      " 'gospel' 'gothic' 'grime' 'grunge' 'gypsy' 'handsup' \"hard'n'heavy\"\n",
      " 'hardcore' 'hardstyle' 'hardtechno' 'hip' 'hip-hop' 'hiphop' 'historisch'\n",
      " 'holiday' 'hop' 'horror' 'house' 'hymn' 'idm' 'independent' 'indian'\n",
      " 'indie' 'indipop' 'industrial' 'inspirational' 'instrumental'\n",
      " 'international' 'irish' 'jam' 'japanese' 'jazz' 'jewish' 'jpop' 'jungle'\n",
      " 'k-pop' 'karadeniz' 'karaoke' 'kayokyoku' 'korean' 'laiko' 'latin'\n",
      " 'latino' 'leftfield' 'local' 'lounge' 'loungeelectronic' 'lovers'\n",
      " 'malaysian' 'mandopop' 'marschmusik' 'meditative' 'mediterranean'\n",
      " 'melodic' 'metal' 'metalcore' 'mexican' 'middle' 'minimal'\n",
      " 'miscellaneous' 'modern' 'mood' 'mpb' 'muslim' 'native' 'neoklassik'\n",
      " 'neue' 'new' 'newage' 'newwave' 'nu' 'nujazz' 'numetal' 'oceania' 'old'\n",
      " 'opera' 'orchestral' 'other' 'piano' 'podcasts' 'pop' 'popdance'\n",
      " 'popelectronic' 'popeurodance' 'poprussian' 'post' 'posthardcore'\n",
      " 'postrock' 'power' 'progmetal' 'progressive' 'psychedelic' 'punjabi'\n",
      " 'punk' 'quebecois' 'ragga' 'ram' 'rancheras' 'rap' 'rave' 'reggae'\n",
      " 'reggaeton' 'regional' 'relax' 'religious' 'retro' 'rhythm' 'rnb' 'rnr'\n",
      " 'rock' 'rockabilly' 'rockalternative' 'rockindie' 'rockother' 'romance'\n",
      " 'roots' 'ruspop' 'rusrap' 'rusrock' 'russian' 'salsa' 'samba' 'scenic'\n",
      " 'schlager' 'self' 'sertanejo' 'shanson' 'shoegazing' 'showtunes' 'singer'\n",
      " 'ska' 'skarock' 'slow' 'smooth' 'soft' 'soul' 'soulful' 'sound'\n",
      " 'soundtrack' 'southern' 'specialty' 'speech' 'spiritual' 'sport'\n",
      " 'stonerrock' 'surf' 'swing' 'synthpop' 'synthrock' 'sängerportrait'\n",
      " 'tango' 'tanzorchester' 'taraftar' 'tatar' 'tech' 'techno' 'teen'\n",
      " 'thrash' 'top' 'traditional' 'tradjazz' 'trance' 'tribal' 'trip'\n",
      " 'triphop' 'tropical' 'türk' 'türkçe' 'ukrrock' 'unknown' 'urban' 'uzbek'\n",
      " 'variété' 'vi' 'videogame' 'vocal' 'western' 'world' 'worldbeat' 'ïîï'\n",
      " 'электроника']\n"
     ]
    }
   ],
   "source": [
    "df_1 = df['genre']# Просмотр уникальных названий жанров\n",
    "df_1 = df_1.sort_values()\n",
    "print(df_1.unique())\n"
   ]
  },
  {
   "cell_type": "markdown",
   "metadata": {
    "deletable": false,
    "editable": false,
    "id": "qej-Qmuo_Zct",
    "tags": [
     "start_task"
    ]
   },
   "source": [
    "**Задание 16**\n",
    "\n",
    "Просмотрите список и найдите неявные дубликаты названия `hiphop`. Это могут быть названия с ошибками или альтернативные названия того же жанра.\n",
    "\n",
    "Вы увидите следующие неявные дубликаты:\n",
    "* *hip*,\n",
    "* *hop*,\n",
    "* *hip-hop*.\n",
    "\n",
    "Чтобы очистить от них таблицу используйте метод `replace()` с двумя аргументами: списком строк-дубликатов (включащий *hip*, *hop* и *hip-hop*) и строкой с правильным значением. Вам нужно исправить колонку `genre` в таблице `df`: заменить каждое значение из списка дубликатов на верное. Вместо `hip`, `hop` и `hip-hop` в таблице должно быть значение `hiphop`:"
   ]
  },
  {
   "cell_type": "code",
   "execution_count": 16,
   "metadata": {
    "deletable": false,
    "id": "ErNDkmns_Zct"
   },
   "outputs": [],
   "source": [
    "df['genre'] = df['genre'].replace('hip', 'hiphop')\n",
    "df['genre'] = df['genre'].replace('hop', 'hiphop')\n",
    "df['genre'] = df['genre'].replace('hip-hop', 'hiphop')# Устранение неявных дубликатов"
   ]
  },
  {
   "cell_type": "markdown",
   "metadata": {
    "deletable": false,
    "editable": false,
    "id": "zQKF16_RG15m",
    "tags": [
     "start_task"
    ]
   },
   "source": [
    "**Задание 17**\n",
    "\n",
    "Проверьте, что заменили неправильные названия:\n",
    "\n",
    "*   hip\n",
    "*   hop\n",
    "*   hip-hop\n",
    "\n",
    "Выведите отсортированный список уникальных значений столбца `genre`:"
   ]
  },
  {
   "cell_type": "code",
   "execution_count": 17,
   "metadata": {
    "deletable": false,
    "id": "wvixALnFG15m",
    "scrolled": true
   },
   "outputs": [
    {
     "name": "stdout",
     "output_type": "stream",
     "text": [
      "['acid' 'acoustic' 'action' 'adult' 'africa' 'afrikaans' 'alternative'\n",
      " 'alternativepunk' 'ambient' 'americana' 'animated' 'anime' 'arabesk'\n",
      " 'arabic' 'arena' 'argentinetango' 'art' 'audiobook' 'author' 'avantgarde'\n",
      " 'axé' 'baile' 'balkan' 'beats' 'bigroom' 'black' 'bluegrass' 'blues'\n",
      " 'bollywood' 'bossa' 'brazilian' 'breakbeat' 'breaks' 'broadway'\n",
      " 'cantautori' 'cantopop' 'canzone' 'caribbean' 'caucasian' 'celtic'\n",
      " 'chamber' 'chanson' 'children' 'chill' 'chinese' 'choral' 'christian'\n",
      " 'christmas' 'classical' 'classicmetal' 'club' 'colombian' 'comedy'\n",
      " 'conjazz' 'contemporary' 'country' 'cuban' 'dance' 'dancehall' 'dancepop'\n",
      " 'dark' 'death' 'deep' 'deutschrock' 'deutschspr' 'dirty' 'disco' 'dnb'\n",
      " 'documentary' 'downbeat' 'downtempo' 'drum' 'dub' 'dubstep' 'eastern'\n",
      " 'easy' 'electronic' 'electropop' 'emo' 'entehno' 'epicmetal' 'estrada'\n",
      " 'ethnic' 'eurofolk' 'european' 'experimental' 'extrememetal' 'fado'\n",
      " 'fairytail' 'film' 'fitness' 'flamenco' 'folk' 'folklore' 'folkmetal'\n",
      " 'folkrock' 'folktronica' 'forró' 'frankreich' 'französisch' 'french'\n",
      " 'funk' 'future' 'gangsta' 'garage' 'german' 'ghazal' 'gitarre' 'glitch'\n",
      " 'gospel' 'gothic' 'grime' 'grunge' 'gypsy' 'handsup' \"hard'n'heavy\"\n",
      " 'hardcore' 'hardstyle' 'hardtechno' 'hiphop' 'historisch' 'holiday'\n",
      " 'horror' 'house' 'hymn' 'idm' 'independent' 'indian' 'indie' 'indipop'\n",
      " 'industrial' 'inspirational' 'instrumental' 'international' 'irish' 'jam'\n",
      " 'japanese' 'jazz' 'jewish' 'jpop' 'jungle' 'k-pop' 'karadeniz' 'karaoke'\n",
      " 'kayokyoku' 'korean' 'laiko' 'latin' 'latino' 'leftfield' 'local'\n",
      " 'lounge' 'loungeelectronic' 'lovers' 'malaysian' 'mandopop' 'marschmusik'\n",
      " 'meditative' 'mediterranean' 'melodic' 'metal' 'metalcore' 'mexican'\n",
      " 'middle' 'minimal' 'miscellaneous' 'modern' 'mood' 'mpb' 'muslim'\n",
      " 'native' 'neoklassik' 'neue' 'new' 'newage' 'newwave' 'nu' 'nujazz'\n",
      " 'numetal' 'oceania' 'old' 'opera' 'orchestral' 'other' 'piano' 'podcasts'\n",
      " 'pop' 'popdance' 'popelectronic' 'popeurodance' 'poprussian' 'post'\n",
      " 'posthardcore' 'postrock' 'power' 'progmetal' 'progressive' 'psychedelic'\n",
      " 'punjabi' 'punk' 'quebecois' 'ragga' 'ram' 'rancheras' 'rap' 'rave'\n",
      " 'reggae' 'reggaeton' 'regional' 'relax' 'religious' 'retro' 'rhythm'\n",
      " 'rnb' 'rnr' 'rock' 'rockabilly' 'rockalternative' 'rockindie' 'rockother'\n",
      " 'romance' 'roots' 'ruspop' 'rusrap' 'rusrock' 'russian' 'salsa' 'samba'\n",
      " 'scenic' 'schlager' 'self' 'sertanejo' 'shanson' 'shoegazing' 'showtunes'\n",
      " 'singer' 'ska' 'skarock' 'slow' 'smooth' 'soft' 'soul' 'soulful' 'sound'\n",
      " 'soundtrack' 'southern' 'specialty' 'speech' 'spiritual' 'sport'\n",
      " 'stonerrock' 'surf' 'swing' 'synthpop' 'synthrock' 'sängerportrait'\n",
      " 'tango' 'tanzorchester' 'taraftar' 'tatar' 'tech' 'techno' 'teen'\n",
      " 'thrash' 'top' 'traditional' 'tradjazz' 'trance' 'tribal' 'trip'\n",
      " 'triphop' 'tropical' 'türk' 'türkçe' 'ukrrock' 'unknown' 'urban' 'uzbek'\n",
      " 'variété' 'vi' 'videogame' 'vocal' 'western' 'world' 'worldbeat' 'ïîï'\n",
      " 'электроника']\n"
     ]
    }
   ],
   "source": [
    "df_1 = df['genre']\n",
    "df_1 = df_1.sort_values()\n",
    "print(df_1.unique())# Проверка на неявные дубликаты"
   ]
  },
  {
   "cell_type": "markdown",
   "metadata": {
    "deletable": false,
    "editable": false,
    "id": "jz6a9-7HQUDd"
   },
   "source": [
    "**Выводы**\n",
    "\n",
    "Предобработка обнаружила три проблемы в данных:\n",
    "\n",
    "- нарушения в стиле заголовков,\n",
    "- пропущенные значения,\n",
    "- дубликаты — явные и неявные.\n",
    "\n",
    "Вы исправили заголовки, чтобы упростить работу с таблицей. Без дубликатов исследование станет более точным.\n",
    "\n",
    "Пропущенные значения вы заменили на `'unknown'`. Ещё предстоит увидеть, не повредят ли исследованию пропуски в колонке `genre`.\n",
    "\n",
    "Теперь можно перейти к проверке гипотез. "
   ]
  },
  {
   "cell_type": "markdown",
   "metadata": {
    "deletable": false,
    "editable": false,
    "id": "WttZHXH0SqKk"
   },
   "source": [
    "## Проверка гипотез"
   ]
  },
  {
   "cell_type": "markdown",
   "metadata": {
    "deletable": false,
    "editable": false,
    "id": "Im936VVi_Zcu"
   },
   "source": [
    "### Сравнение поведения пользователей двух столиц"
   ]
  },
  {
   "cell_type": "markdown",
   "metadata": {
    "deletable": false,
    "editable": false,
    "id": "nwt_MuaL_Zcu"
   },
   "source": [
    "Первая гипотеза утверждает, что пользователи по-разному слушают музыку в Москве и Санкт-Петербурге. Проверьте это предположение по данным о трёх днях недели — понедельнике, среде и пятнице. Для этого:\n",
    "\n",
    "* Разделите пользователей Москвы и Санкт-Петербурга\n",
    "* Сравните, сколько треков послушала каждая группа пользователей в понедельник, среду и пятницу.\n"
   ]
  },
  {
   "cell_type": "markdown",
   "metadata": {
    "deletable": false,
    "editable": false,
    "id": "8Dw_YMmT_Zcu",
    "tags": [
     "start_task"
    ]
   },
   "source": [
    "**Задание 18**\n",
    "\n",
    "Для тренировки сначала выполните каждый из расчётов по отдельности. \n",
    "\n",
    "Оцените активность пользователей в каждом городе. Сгруппируйте данные по городу и посчитайте прослушивания в каждой группе.\n",
    "\n"
   ]
  },
  {
   "cell_type": "code",
   "execution_count": 18,
   "metadata": {
    "deletable": false,
    "id": "0_Qs96oh_Zcu",
    "scrolled": true
   },
   "outputs": [
    {
     "name": "stdout",
     "output_type": "stream",
     "text": [
      "city\n",
      "Moscow              42741\n",
      "Saint-Petersburg    18512\n",
      "Name: genre, dtype: int64\n"
     ]
    }
   ],
   "source": [
    "print(df.groupby('city')['genre'].count()) # Подсчёт прослушиваний в каждом городе"
   ]
  },
  {
   "cell_type": "markdown",
   "metadata": {
    "deletable": false,
    "editable": false,
    "id": "dzli3w8o_Zcu",
    "tags": [
     "start_task"
    ]
   },
   "source": [
    "В Москве прослушиваний больше, чем в Петербурге. Из этого не следует, что московские пользователи чаще слушают музыку. Просто самих пользователей в Москве больше.\n",
    "\n",
    "**Задание 19**\n",
    "\n",
    "Теперь сгруппируйте данные по дню недели и подсчитайте прослушивания в понедельник, среду и пятницу. Учтите, что в данных есть информация только о прослушиваниях только за эти дни.\n"
   ]
  },
  {
   "cell_type": "code",
   "execution_count": 19,
   "metadata": {
    "deletable": false,
    "id": "uZMKjiJz_Zcu"
   },
   "outputs": [
    {
     "name": "stdout",
     "output_type": "stream",
     "text": [
      "day\n",
      "Friday       21840\n",
      "Monday       21354\n",
      "Wednesday    18059\n",
      "Name: genre, dtype: int64\n"
     ]
    }
   ],
   "source": [
    "print(df.groupby('day')['genre'].count())# Подсчёт прослушиваний в каждый из трёх дней"
   ]
  },
  {
   "cell_type": "markdown",
   "metadata": {
    "deletable": false,
    "editable": false,
    "id": "cC2tNrlL_Zcu"
   },
   "source": [
    "В среднем пользователи из двух городов менее активны по средам. Но картина может измениться, если рассмотреть каждый город в отдельности."
   ]
  },
  {
   "cell_type": "markdown",
   "metadata": {
    "deletable": false,
    "editable": false,
    "id": "POzs8bGa_Zcu",
    "tags": [
     "start_task"
    ]
   },
   "source": [
    "**Задание 20**\n",
    "\n",
    "\n",
    "Вы видели, как работает группировка по городу и по дням недели. Теперь напишите функцию, которая объединит два эти расчёта.\n",
    "\n",
    "Создайте функцию `number_tracks()`, которая посчитает прослушивания для заданного дня и города. Ей понадобятся два параметра:\n",
    "* день недели,\n",
    "* название города.\n",
    "\n",
    "В функции сохраните в переменную строки исходной таблицы, у которых значение:\n",
    "  * в колонке `day` равно параметру `day`,\n",
    "  * в колонке `city` равно параметру `city`.\n",
    "\n",
    "Для этого примените последовательную фильтрацию с логической индексацией (или сложные логические выражения в одну строку, если вы уже знакомы с ними).\n",
    "\n",
    "Затем посчитайте значения в столбце `user_id` получившейся таблицы. Результат сохраните в новую переменную. Верните эту переменную из функции."
   ]
  },
  {
   "cell_type": "code",
   "execution_count": 42,
   "metadata": {
    "deletable": false,
    "id": "Nz3GdQB1_Zcu"
   },
   "outputs": [],
   "source": [
    "def number_tracks(day, city):\n",
    "    track_list = df[df['day'] == day]\n",
    "    track_list = track_list[track_list['city'] == city]\n",
    "    track_list_count = track_list['user_id'].count()\n",
    "    return track_list_count\n",
    "# <создание функции number_tracks()>\n",
    "# Объявляется функция с двумя параметрами: day, city.\n",
    "# В переменной track_list сохраняются те строки таблицы df, для которых \n",
    "# значение в столбце 'day' равно параметру day и одновременно значение\n",
    "# в столбце 'city' равно параметру city (используйте последовательную фильтрацию\n",
    "# с помощью логической индексации или сложные логические выражения в одну строку, если вы уже знакомы с ними).\n",
    "# В переменной track_list_count сохраняется число значений столбца 'user_id',\n",
    "# рассчитанное методом count() для таблицы track_list.\n",
    "# Функция возвращает число - значение track_list_count.\n",
    "\n",
    "# Функция для подсчёта прослушиваний для конкретного города и дня.\n",
    "# С помощью последовательной фильтрации с логической индексацией она \n",
    "# сначала получит из исходной таблицы строки с нужным днём,\n",
    "# затем из результата отфильтрует строки с нужным городом,\n",
    "# методом count() посчитает количество значений в колонке user_id. \n",
    "# Это количество функция вернёт в качестве результата"
   ]
  },
  {
   "cell_type": "markdown",
   "metadata": {
    "deletable": false,
    "editable": false,
    "id": "ytf7xFrFJQ2r",
    "tags": [
     "start_task"
    ]
   },
   "source": [
    "**Задание 21**\n",
    "\n",
    "Вызовите `number_tracks()` шесть раз, меняя значение параметров — так, чтобы получить данные для каждого города в каждый из трёх дней."
   ]
  },
  {
   "cell_type": "code",
   "execution_count": 21,
   "metadata": {
    "deletable": false,
    "id": "rJcRATNQ_Zcu"
   },
   "outputs": [
    {
     "data": {
      "text/plain": [
       "15740"
      ]
     },
     "execution_count": 21,
     "metadata": {},
     "output_type": "execute_result"
    }
   ],
   "source": [
    "number_tracks('Monday', 'Moscow')# количество прослушиваний в Москве по понедельникам"
   ]
  },
  {
   "cell_type": "code",
   "execution_count": 22,
   "metadata": {
    "deletable": false,
    "id": "hq_ncZ5T_Zcu"
   },
   "outputs": [
    {
     "data": {
      "text/plain": [
       "5614"
      ]
     },
     "execution_count": 22,
     "metadata": {},
     "output_type": "execute_result"
    }
   ],
   "source": [
    "number_tracks('Monday', 'Saint-Petersburg')# количество прослушиваний в Санкт-Петербурге по понедельникам"
   ]
  },
  {
   "cell_type": "code",
   "execution_count": 23,
   "metadata": {
    "deletable": false,
    "id": "_NTy2VPU_Zcu"
   },
   "outputs": [
    {
     "data": {
      "text/plain": [
       "11056"
      ]
     },
     "execution_count": 23,
     "metadata": {},
     "output_type": "execute_result"
    }
   ],
   "source": [
    "number_tracks('Wednesday', 'Moscow')# количество прослушиваний в Москве по средам"
   ]
  },
  {
   "cell_type": "code",
   "execution_count": 24,
   "metadata": {
    "deletable": false,
    "id": "j2y3TAwo_Zcu"
   },
   "outputs": [
    {
     "data": {
      "text/plain": [
       "7003"
      ]
     },
     "execution_count": 24,
     "metadata": {},
     "output_type": "execute_result"
    }
   ],
   "source": [
    "number_tracks('Wednesday', 'Saint-Petersburg')# количество прослушиваний в Санкт-Петербурге по средам"
   ]
  },
  {
   "cell_type": "code",
   "execution_count": 25,
   "metadata": {
    "deletable": false,
    "id": "vYDw5u_K_Zcu"
   },
   "outputs": [
    {
     "data": {
      "text/plain": [
       "15945"
      ]
     },
     "execution_count": 25,
     "metadata": {},
     "output_type": "execute_result"
    }
   ],
   "source": [
    "number_tracks('Friday', 'Moscow')# количество прослушиваний в Москве по пятницам"
   ]
  },
  {
   "cell_type": "code",
   "execution_count": 26,
   "metadata": {
    "deletable": false,
    "id": "8_yzFtW3_Zcu"
   },
   "outputs": [
    {
     "data": {
      "text/plain": [
       "5895"
      ]
     },
     "execution_count": 26,
     "metadata": {},
     "output_type": "execute_result"
    }
   ],
   "source": [
    "number_tracks('Friday', 'Saint-Petersburg')# количество прослушиваний в Санкт-Петербурге по пятницам"
   ]
  },
  {
   "cell_type": "markdown",
   "metadata": {
    "deletable": false,
    "editable": false,
    "id": "7QXffbO-_Zcu",
    "tags": [
     "start_task"
    ]
   },
   "source": [
    "**Задание 22**\n",
    "\n",
    "Создайте c помощью конструктора `pd.DataFrame` таблицу, где\n",
    "* названия колонок — `['city', 'monday', 'wednesday', 'friday']`;\n",
    "* данные — результаты, которые вы получили с помощью `number_tracks`."
   ]
  },
  {
   "cell_type": "code",
   "execution_count": 43,
   "metadata": {
    "deletable": false,
    "id": "APAcLpOr_Zcu"
   },
   "outputs": [
    {
     "data": {
      "text/html": [
       "<div>\n",
       "<style scoped>\n",
       "    .dataframe tbody tr th:only-of-type {\n",
       "        vertical-align: middle;\n",
       "    }\n",
       "\n",
       "    .dataframe tbody tr th {\n",
       "        vertical-align: top;\n",
       "    }\n",
       "\n",
       "    .dataframe thead th {\n",
       "        text-align: right;\n",
       "    }\n",
       "</style>\n",
       "<table border=\"1\" class=\"dataframe\">\n",
       "  <thead>\n",
       "    <tr style=\"text-align: right;\">\n",
       "      <th></th>\n",
       "      <th>city</th>\n",
       "      <th>monday</th>\n",
       "      <th>wednesday</th>\n",
       "      <th>friday</th>\n",
       "    </tr>\n",
       "  </thead>\n",
       "  <tbody>\n",
       "    <tr>\n",
       "      <th>0</th>\n",
       "      <td>Moscow</td>\n",
       "      <td>15740</td>\n",
       "      <td>11056</td>\n",
       "      <td>15945</td>\n",
       "    </tr>\n",
       "    <tr>\n",
       "      <th>1</th>\n",
       "      <td>Saint-Petersburg</td>\n",
       "      <td>5614</td>\n",
       "      <td>7003</td>\n",
       "      <td>5895</td>\n",
       "    </tr>\n",
       "  </tbody>\n",
       "</table>\n",
       "</div>"
      ],
      "text/plain": [
       "               city  monday  wednesday  friday\n",
       "0            Moscow   15740      11056   15945\n",
       "1  Saint-Petersburg    5614       7003    5895"
      ]
     },
     "execution_count": 43,
     "metadata": {},
     "output_type": "execute_result"
    }
   ],
   "source": [
    "table = pd.DataFrame(data = [['Moscow', 15740, 11056, 15945], ['Saint-Petersburg', 5614, 7003, 5895]], columns = ['city', 'monday', 'wednesday', 'friday'])# Таблица с результатами\n",
    "table"
   ]
  },
  {
   "cell_type": "markdown",
   "metadata": {
    "deletable": false,
    "editable": false,
    "id": "-EgPIHYu_Zcu"
   },
   "source": [
    "**Выводы**\n",
    "\n",
    "Данные показывают разницу поведения пользователей:\n",
    "\n",
    "- В Москве пик прослушиваний приходится на понедельник и пятницу, а в среду заметен спад.\n",
    "- В Петербурге, наоборот, больше слушают музыку по средам. Активность в понедельник и пятницу здесь почти в равной мере уступает среде.\n",
    "\n",
    "Значит, данные говорят в пользу первой гипотезы."
   ]
  },
  {
   "cell_type": "markdown",
   "metadata": {
    "deletable": false,
    "editable": false,
    "id": "atZAxtq4_Zcu"
   },
   "source": [
    "### Музыка в начале и в конце недели"
   ]
  },
  {
   "cell_type": "markdown",
   "metadata": {
    "deletable": false,
    "editable": false,
    "id": "eXrQqXFH_Zcu"
   },
   "source": [
    "Согласно второй гипотезе, утром в понедельник в Москве преобладают одни жанры, а в Петербурге — другие. Так же и вечером пятницы преобладают разные жанры — в зависимости от города."
   ]
  },
  {
   "cell_type": "markdown",
   "metadata": {
    "deletable": false,
    "editable": false,
    "id": "S8UcW6Hw_Zcu",
    "tags": [
     "start_task"
    ]
   },
   "source": [
    "**Задание 23**\n",
    "\n",
    "Сохраните таблицы с данными в две переменные:\n",
    "* по Москве — в `moscow_general`;\n",
    "* по Санкт-Петербургу — в `spb_general`."
   ]
  },
  {
   "cell_type": "code",
   "execution_count": 28,
   "metadata": {
    "deletable": false,
    "id": "qeaFfM_P_Zcu"
   },
   "outputs": [],
   "source": [
    "moscow_general = df[df['city'] == 'Moscow']\n",
    "# получение таблицы moscow_general из тех строк таблицы df, \n",
    "# для которых значение в столбце 'city' равно 'Moscow'\n"
   ]
  },
  {
   "cell_type": "code",
   "execution_count": 29,
   "metadata": {
    "deletable": false,
    "id": "ORaVRKto_Zcu"
   },
   "outputs": [],
   "source": [
    "spb_general = df[df['city'] == 'Saint-Petersburg']\n",
    "# получение таблицы spb_general из тех строк таблицы df,\n",
    "# для которых значение в столбце 'city' равно 'Saint-Petersburg'\n"
   ]
  },
  {
   "cell_type": "markdown",
   "metadata": {
    "deletable": false,
    "id": "MEJV-CX2_Zcu",
    "tags": [
     "start_task"
    ]
   },
   "source": [
    "**Задание 24**\n",
    "\n",
    "Создайте функцию `genre_weekday()` с четырьмя параметрами:\n",
    "* таблица (датафрейм) с данными,\n",
    "* день недели,\n",
    "* начальная временная метка в формате 'hh:mm', \n",
    "* последняя временная метка в формате 'hh:mm'.\n",
    "\n",
    "Функция должна вернуть информацию о топ-10 жанров тех треков, которые прослушивали в указанный день, в промежутке между двумя отметками времени."
   ]
  },
  {
   "cell_type": "code",
   "execution_count": 30,
   "metadata": {
    "deletable": false,
    "id": "laJT9BYl_Zcu"
   },
   "outputs": [],
   "source": [
    "# Объявление функции genre_weekday() с параметрами table, day, time1, time2,\n",
    "# которая возвращает информацию о самых популярных жанрах в указанный день в\n",
    "# заданное время:\n",
    "# 1) в переменную genre_df сохраняются те строки переданного датафрейма table, для\n",
    "#    которых одновременно:\n",
    "#    - значение в столбце day равно значению аргумента day\n",
    "#    - значение в столбце time больше значения аргумента time1\n",
    "#    - значение в столбце time меньше значения аргумента time2\n",
    "#    Используйте последовательную фильтрацию с помощью логической индексации.\n",
    "# 2) сгруппировать датафрейм genre_df по столбцу genre, взять один из его\n",
    "#    столбцов и посчитать методом count() количество записей для каждого из\n",
    "#    присутствующих жанров, получившийся Series записать в переменную\n",
    "#    genre_df_grouped\n",
    "# 3) отсортировать genre_df_grouped по убыванию встречаемости и сохранить\n",
    "#    в переменную genre_df_sorted\n",
    "# 4) вернуть Series из 10 первых значений genre_df_sorted, это будут топ-10\n",
    "#    популярных жанров (в указанный день, в заданное время)\n",
    "\n",
    "def genre_weekday(table, day, time1, time2):\n",
    "    # последовательная фильтрация\n",
    "    # оставляем в genre_df только те строки df, у которых день равен day\n",
    "    genre_df = table[table['day'] == day]# ваш код здесь\n",
    "    # оставляем в genre_df только те строки genre_df, у которых время меньше time2\n",
    "    genre_df = genre_df[genre_df['time'] < time2]# ваш код здесь\n",
    "    # оставляем в genre_df только те строки genre_df, у которых время больше time1\n",
    "    genre_df = genre_df[genre_df['time'] > time1]# ваш код здесь\n",
    "    # сгруппируем отфильтрованный датафрейм по столбцу с названиями жанров, возьмём столбец genre и посчитаем кол-во строк для каждого жанра методом count()\n",
    "    genre_df_grouped = genre_df.groupby('genre')['genre'].count()# ваш код здесь\n",
    "    # отсортируем результат по убыванию (чтобы в начале Series оказались самые популярные жанры)\n",
    "    genre_df_sorted = genre_df_grouped.sort_values(ascending=False)# ваш код здесь\n",
    "    # вернём Series с 10 самыми популярными жанрами в указанный отрезок времени заданного дня\n",
    "    return genre_df_sorted[:10]"
   ]
  },
  {
   "cell_type": "markdown",
   "metadata": {
    "deletable": false,
    "editable": false,
    "id": "la2s2_PF_Zcu",
    "tags": [
     "start_task"
    ]
   },
   "source": [
    "**Задание 25**\n",
    "\n",
    "\n",
    "Cравните результаты функции `genre_weekday()` для Москвы и Санкт-Петербурга в понедельник утром (с 7:00 до 11:00) и в пятницу вечером (с 17:00 до 23:00):"
   ]
  },
  {
   "cell_type": "code",
   "execution_count": 31,
   "metadata": {
    "deletable": false,
    "id": "yz7itPUQ_Zcu"
   },
   "outputs": [
    {
     "data": {
      "text/plain": [
       "genre\n",
       "pop            781\n",
       "dance          549\n",
       "electronic     480\n",
       "rock           474\n",
       "hiphop         286\n",
       "ruspop         186\n",
       "world          181\n",
       "rusrap         175\n",
       "alternative    164\n",
       "unknown        161\n",
       "Name: genre, dtype: int64"
      ]
     },
     "execution_count": 31,
     "metadata": {},
     "output_type": "execute_result"
    }
   ],
   "source": [
    "genre_weekday(moscow_general, 'Monday', '07:00', '11:00')\n",
    "# вызов функции для утра понедельника в Москве (вместо df — таблица moscow_general)\n",
    "# объекты, хранящие время, являются строками и сравниваются как строки\n",
    "# пример вызова: genre_weekday(moscow_general, 'Monday', '07:00', '11:00')"
   ]
  },
  {
   "cell_type": "code",
   "execution_count": 32,
   "metadata": {
    "deletable": false,
    "id": "kwUcHPdy_Zcu"
   },
   "outputs": [
    {
     "data": {
      "text/plain": [
       "genre\n",
       "pop            218\n",
       "dance          182\n",
       "rock           162\n",
       "electronic     147\n",
       "hiphop          80\n",
       "ruspop          64\n",
       "alternative     58\n",
       "rusrap          55\n",
       "jazz            44\n",
       "classical       40\n",
       "Name: genre, dtype: int64"
      ]
     },
     "execution_count": 32,
     "metadata": {},
     "output_type": "execute_result"
    }
   ],
   "source": [
    "genre_weekday(spb_general, 'Monday', '07:00', '11:00')\n",
    "# вызов функции для утра понедельника в Петербурге (вместо df — таблица spb_general)"
   ]
  },
  {
   "cell_type": "code",
   "execution_count": 33,
   "metadata": {
    "deletable": false,
    "id": "EzXVRE1o_Zcu"
   },
   "outputs": [
    {
     "data": {
      "text/plain": [
       "genre\n",
       "pop            713\n",
       "rock           517\n",
       "dance          495\n",
       "electronic     482\n",
       "hiphop         273\n",
       "world          208\n",
       "ruspop         170\n",
       "alternative    163\n",
       "classical      163\n",
       "rusrap         142\n",
       "Name: genre, dtype: int64"
      ]
     },
     "execution_count": 33,
     "metadata": {},
     "output_type": "execute_result"
    }
   ],
   "source": [
    "genre_weekday(moscow_general, 'Friday', '17:00', '23:00')\n",
    "# вызов функции для вечера пятницы в Москве"
   ]
  },
  {
   "cell_type": "code",
   "execution_count": 34,
   "metadata": {
    "deletable": false,
    "id": "JZaEKu5v_Zcu"
   },
   "outputs": [
    {
     "data": {
      "text/plain": [
       "genre\n",
       "pop            256\n",
       "electronic     216\n",
       "rock           216\n",
       "dance          210\n",
       "hiphop          97\n",
       "alternative     63\n",
       "jazz            61\n",
       "classical       60\n",
       "rusrap          59\n",
       "world           54\n",
       "Name: genre, dtype: int64"
      ]
     },
     "execution_count": 34,
     "metadata": {},
     "output_type": "execute_result"
    }
   ],
   "source": [
    "genre_weekday(spb_general, 'Friday', '17:00', '23:00')\n",
    "# вызов функции для вечера пятницы в Петербурге"
   ]
  },
  {
   "cell_type": "markdown",
   "metadata": {
    "deletable": false,
    "editable": false,
    "id": "wrCe4MNX_Zcu"
   },
   "source": [
    "**Выводы**\n",
    "\n",
    "Если сравнить топ-10 жанров в понедельник утром, можно сделать такие выводы:\n",
    "\n",
    "1. В Москве и Петербурге слушают похожую музыку. Единственное отличие — в московский рейтинг вошёл жанр “world”, а в петербургский — джаз и классика.\n",
    "\n",
    "2. В Москве пропущенных значений оказалось так много, что значение `'unknown'` заняло десятое место среди самых популярных жанров. Значит, пропущенные значения занимают существенную долю в данных и угрожают достоверности исследования.\n",
    "\n",
    "Вечер пятницы не меняет эту картину. Некоторые жанры поднимаются немного выше, другие спускаются, но в целом топ-10 остаётся тем же самым.\n",
    "\n",
    "Таким образом, вторая гипотеза подтвердилась лишь частично:\n",
    "* Пользователи слушают похожую музыку в начале недели и в конце.\n",
    "* Разница между Москвой и Петербургом не слишком выражена. В Москве чаще слушают русскую популярную музыку, в Петербурге — джаз.\n",
    "\n",
    "Однако пропуски в данных ставят под сомнение этот результат. В Москве их так много, что рейтинг топ-10 мог бы выглядеть иначе, если бы не утерянные  данные о жанрах."
   ]
  },
  {
   "cell_type": "markdown",
   "metadata": {
    "deletable": false,
    "editable": false,
    "id": "JolODAqr_Zcu"
   },
   "source": [
    "### Жанровые предпочтения в Москве и Петербурге\n",
    "\n",
    "Гипотеза: Петербург — столица рэпа, музыку этого жанра там слушают чаще, чем в Москве.  А Москва — город контрастов, в котором, тем не менее, преобладает поп-музыка."
   ]
  },
  {
   "cell_type": "markdown",
   "metadata": {
    "deletable": false,
    "editable": false,
    "id": "DlegSvaT_Zcu",
    "tags": [
     "start_task"
    ]
   },
   "source": [
    "**Задание 26**\n",
    "\n",
    "Сгруппируйте таблицу `moscow_general` по жанру и посчитайте прослушивания треков каждого жанра методом `count()`. Затем отсортируйте результат в порядке убывания и сохраните его в таблице `moscow_genres`."
   ]
  },
  {
   "cell_type": "code",
   "execution_count": 52,
   "metadata": {
    "deletable": false,
    "id": "r19lIPke_Zcu"
   },
   "outputs": [
    {
     "data": {
      "text/plain": [
       "genre\n",
       "pop            5892\n",
       "dance          4435\n",
       "rock           3965\n",
       "electronic     3786\n",
       "hiphop         2096\n",
       "               ... \n",
       "neoklassik        1\n",
       "mood              1\n",
       "metalcore         1\n",
       "marschmusik       1\n",
       "ïîï               1\n",
       "Name: genre, Length: 267, dtype: int64"
      ]
     },
     "execution_count": 52,
     "metadata": {},
     "output_type": "execute_result"
    }
   ],
   "source": [
    "moscow_genres = moscow_general.groupby('genre')['genre'].count().sort_values(ascending=False)\n",
    "moscow_genres\n",
    "\n",
    "\n",
    "# одной строкой: группировка таблицы moscow_general по столбцу 'genre', \n",
    "# подсчёт числа значений 'genre' в этой группировке методом count(), \n",
    "# сортировка получившегося Series в порядке убывания и сохранение в moscow_genres"
   ]
  },
  {
   "cell_type": "markdown",
   "metadata": {
    "deletable": false,
    "editable": false,
    "id": "6kMuomxTiIr8",
    "tags": [
     "start_task"
    ]
   },
   "source": [
    "**Задание 27**\n",
    "\n",
    "Выведите на экран первые десять строк `moscow_genres`:"
   ]
  },
  {
   "cell_type": "code",
   "execution_count": 36,
   "metadata": {
    "deletable": false,
    "id": "WhCSooF8_Zcv"
   },
   "outputs": [
    {
     "name": "stdout",
     "output_type": "stream",
     "text": [
      "genre\n",
      "pop            5892\n",
      "dance          4435\n",
      "rock           3965\n",
      "electronic     3786\n",
      "hiphop         2096\n",
      "classical      1616\n",
      "world          1432\n",
      "alternative    1379\n",
      "ruspop         1372\n",
      "rusrap         1161\n",
      "Name: genre, dtype: int64\n"
     ]
    }
   ],
   "source": [
    "print(moscow_genres.head(10))\n",
    "# просмотр первых 10 строк moscow_genres"
   ]
  },
  {
   "cell_type": "markdown",
   "metadata": {
    "deletable": false,
    "editable": false,
    "id": "cnPG2vnN_Zcv",
    "tags": [
     "start_task"
    ]
   },
   "source": [
    "**Задание 28**\n",
    "\n",
    "\n",
    "Теперь повторите то же и для Петербурга.\n",
    "\n",
    "Сгруппируйте таблицу `spb_general` по жанру. Посчитайте прослушивания треков каждого жанра. Результат отсортируйте в порядке убывания и сохраните в таблице `spb_genres`:\n"
   ]
  },
  {
   "cell_type": "code",
   "execution_count": 37,
   "metadata": {
    "deletable": false,
    "id": "gluLIpE7_Zcv"
   },
   "outputs": [
    {
     "data": {
      "text/plain": [
       "genre\n",
       "pop              2431\n",
       "dance            1932\n",
       "rock             1879\n",
       "electronic       1736\n",
       "hiphop            960\n",
       "                 ... \n",
       "international       1\n",
       "independent         1\n",
       "idm                 1\n",
       "gypsy               1\n",
       "электроника         1\n",
       "Name: genre, Length: 211, dtype: int64"
      ]
     },
     "execution_count": 37,
     "metadata": {},
     "output_type": "execute_result"
    }
   ],
   "source": [
    "spb_genres = spb_general.groupby('genre')['genre'].count()\n",
    "spb_genres = spb_genres.sort_values(ascending=False)\n",
    "spb_genres\n",
    "# одной строкой: группировка таблицы spb_general по столбцу 'genre', \n",
    "# подсчёт числа значений 'genre' в этой группировке методом count(), \n",
    "# сортировка получившегося Series в порядке убывания и сохранение в spb_genres"
   ]
  },
  {
   "cell_type": "markdown",
   "metadata": {
    "deletable": false,
    "editable": false,
    "id": "5Doha_ODgyQ8",
    "tags": [
     "start_task"
    ]
   },
   "source": [
    "**Задание 29**\n",
    "\n",
    "Выведите на экран первые десять строк `spb_genres`:"
   ]
  },
  {
   "cell_type": "code",
   "execution_count": 38,
   "metadata": {
    "deletable": false,
    "id": "uaGJHjVU_Zcv"
   },
   "outputs": [
    {
     "name": "stdout",
     "output_type": "stream",
     "text": [
      "genre\n",
      "pop            2431\n",
      "dance          1932\n",
      "rock           1879\n",
      "electronic     1736\n",
      "hiphop          960\n",
      "alternative     649\n",
      "classical       646\n",
      "rusrap          564\n",
      "ruspop          538\n",
      "world           515\n",
      "Name: genre, dtype: int64\n"
     ]
    }
   ],
   "source": [
    "print(spb_genres.head(10))\n",
    "# просмотр первых 10 строк spb_genres"
   ]
  },
  {
   "cell_type": "markdown",
   "metadata": {
    "deletable": false,
    "editable": false,
    "id": "RY51YJYu_Zcv"
   },
   "source": [
    "**Выводы**"
   ]
  },
  {
   "cell_type": "markdown",
   "metadata": {
    "deletable": false,
    "editable": false,
    "id": "nVhnJEm__Zcv"
   },
   "source": [
    "Гипотеза частично подтвердилась:\n",
    "* Поп-музыка — самый популярный жанр в Москве, как и предполагала гипотеза. Более того, в топ-10 жанров встречается близкий жанр — русская популярная музыка.\n",
    "* Вопреки ожиданиям, рэп одинаково популярен в Москве и Петербурге. \n"
   ]
  },
  {
   "cell_type": "markdown",
   "metadata": {
    "deletable": false,
    "editable": false,
    "id": "ykKQ0N65_Zcv"
   },
   "source": [
    "## Итоги исследования"
   ]
  },
  {
   "cell_type": "markdown",
   "metadata": {
    "deletable": false,
    "editable": false,
    "id": "tjUwbHb3_Zcv"
   },
   "source": [
    "Вы проверили три гипотезы и установили:\n",
    "\n",
    "1. День недели по-разному влияет на активность пользователей в Москве и Петербурге. \n",
    "\n",
    "Первая гипотеза полностью подтвердилась.\n",
    "\n",
    "2. Музыкальные предпочтения не сильно меняются в течение недели — будь то Москва или Петербург. Небольшие различия заметны в начале недели, по понедельникам:\n",
    "* в Москве слушают музыку жанра “world”,\n",
    "* в Петербурге — джаз и классику.\n",
    "\n",
    "Таким образом, вторая гипотеза подтвердилась лишь отчасти. Этот результат мог оказаться иным, если бы не пропуски в данных.\n",
    "\n",
    "3. Во вкусах пользователей Москвы и Петербурга больше общего чем различий. Вопреки ожиданиям, предпочтения жанров в Петербурге напоминают московские.\n",
    "\n",
    "Третья гипотеза не подтвердилась. Если различия в предпочтениях и существуют, на основной массе пользователей они незаметны.\n",
    "\n",
    "**На практике исследования содержат проверки статистических гипотез.**\n",
    "Из данных одного сервиса не всегда можно сделать вывод о всех жителях города.\n",
    "Проверки статистических гипотез покажут, насколько они достоверны, исходя из имеющихся данных. \n",
    "С методами проверок гипотез вы ещё познакомитесь в следующих темах."
   ]
  }
 ],
 "metadata": {
  "ExecuteTimeLog": [
   {
    "duration": 350,
    "start_time": "2023-02-22T11:29:32.548Z"
   },
   {
    "duration": 124,
    "start_time": "2023-02-22T11:31:29.556Z"
   },
   {
    "duration": 40,
    "start_time": "2023-02-22T11:31:57.720Z"
   },
   {
    "duration": 46,
    "start_time": "2023-02-22T11:32:02.475Z"
   },
   {
    "duration": 98,
    "start_time": "2023-02-22T11:32:25.902Z"
   },
   {
    "duration": 6,
    "start_time": "2023-02-22T11:37:53.361Z"
   },
   {
    "duration": 44,
    "start_time": "2023-02-22T11:39:48.847Z"
   },
   {
    "duration": 46,
    "start_time": "2023-02-22T11:40:11.438Z"
   },
   {
    "duration": 63,
    "start_time": "2023-02-22T11:40:14.643Z"
   },
   {
    "duration": 44,
    "start_time": "2023-02-22T11:41:57.597Z"
   },
   {
    "duration": 48,
    "start_time": "2023-02-22T11:42:34.574Z"
   },
   {
    "duration": 6,
    "start_time": "2023-02-22T11:44:10.887Z"
   },
   {
    "duration": 7,
    "start_time": "2023-02-22T11:47:34.726Z"
   },
   {
    "duration": 7,
    "start_time": "2023-02-22T11:48:27.872Z"
   },
   {
    "duration": 452,
    "start_time": "2023-02-22T11:49:06.222Z"
   },
   {
    "duration": 16,
    "start_time": "2023-02-22T11:49:14.712Z"
   },
   {
    "duration": 7,
    "start_time": "2023-02-22T11:50:01.369Z"
   },
   {
    "duration": 10,
    "start_time": "2023-02-22T11:50:13.214Z"
   },
   {
    "duration": 6,
    "start_time": "2023-02-22T11:50:28.754Z"
   },
   {
    "duration": 7,
    "start_time": "2023-02-22T11:50:31.018Z"
   },
   {
    "duration": 6,
    "start_time": "2023-02-22T11:50:59.383Z"
   },
   {
    "duration": 7,
    "start_time": "2023-02-22T11:53:10.183Z"
   },
   {
    "duration": 10,
    "start_time": "2023-02-22T11:53:26.929Z"
   },
   {
    "duration": 6,
    "start_time": "2023-02-22T11:53:48.810Z"
   },
   {
    "duration": 9,
    "start_time": "2023-02-22T11:54:14.079Z"
   },
   {
    "duration": 2,
    "start_time": "2023-02-22T11:54:15.759Z"
   },
   {
    "duration": 7,
    "start_time": "2023-02-22T11:54:23.104Z"
   },
   {
    "duration": 6,
    "start_time": "2023-02-22T11:54:33.705Z"
   },
   {
    "duration": 11,
    "start_time": "2023-02-22T11:58:13.065Z"
   },
   {
    "duration": 14,
    "start_time": "2023-02-22T11:58:26.502Z"
   },
   {
    "duration": 31,
    "start_time": "2023-02-22T11:58:40.482Z"
   },
   {
    "duration": 2,
    "start_time": "2023-02-22T12:10:59.660Z"
   },
   {
    "duration": 2,
    "start_time": "2023-02-22T12:11:39.765Z"
   },
   {
    "duration": 3,
    "start_time": "2023-02-22T12:16:26.983Z"
   },
   {
    "duration": 4,
    "start_time": "2023-02-22T12:19:35.099Z"
   },
   {
    "duration": 3,
    "start_time": "2023-02-22T12:19:56.930Z"
   },
   {
    "duration": 3,
    "start_time": "2023-02-22T12:25:38.261Z"
   },
   {
    "duration": 11,
    "start_time": "2023-02-22T12:25:55.178Z"
   },
   {
    "duration": 3,
    "start_time": "2023-02-22T12:25:57.664Z"
   },
   {
    "duration": 4,
    "start_time": "2023-02-22T12:26:13.097Z"
   },
   {
    "duration": 23,
    "start_time": "2023-02-22T12:28:21.213Z"
   },
   {
    "duration": 13,
    "start_time": "2023-02-22T12:29:05.306Z"
   },
   {
    "duration": 3,
    "start_time": "2023-02-22T12:29:07.349Z"
   },
   {
    "duration": 11,
    "start_time": "2023-02-22T12:29:41.780Z"
   },
   {
    "duration": 3,
    "start_time": "2023-02-22T12:29:42.911Z"
   },
   {
    "duration": 12,
    "start_time": "2023-02-22T12:29:50.412Z"
   },
   {
    "duration": 4,
    "start_time": "2023-02-22T12:29:52.143Z"
   },
   {
    "duration": 8,
    "start_time": "2023-02-22T12:29:56.199Z"
   },
   {
    "duration": 3,
    "start_time": "2023-02-22T12:30:00.557Z"
   },
   {
    "duration": 9,
    "start_time": "2023-02-22T12:30:07.285Z"
   },
   {
    "duration": 8,
    "start_time": "2023-02-22T12:32:43.166Z"
   },
   {
    "duration": 3,
    "start_time": "2023-02-22T12:32:48.044Z"
   },
   {
    "duration": 25,
    "start_time": "2023-02-22T12:32:54.276Z"
   },
   {
    "duration": 26,
    "start_time": "2023-02-22T12:33:21.843Z"
   },
   {
    "duration": 25,
    "start_time": "2023-02-22T12:34:17.980Z"
   },
   {
    "duration": 27,
    "start_time": "2023-02-22T12:36:51.432Z"
   },
   {
    "duration": 26,
    "start_time": "2023-02-22T12:36:56.022Z"
   },
   {
    "duration": 16,
    "start_time": "2023-02-22T12:46:36.425Z"
   },
   {
    "duration": 10,
    "start_time": "2023-02-22T12:46:38.786Z"
   },
   {
    "duration": 10,
    "start_time": "2023-02-22T12:46:59.261Z"
   },
   {
    "duration": 10,
    "start_time": "2023-02-22T12:47:08.920Z"
   },
   {
    "duration": 24,
    "start_time": "2023-02-22T12:54:30.448Z"
   },
   {
    "duration": 75,
    "start_time": "2023-02-22T13:01:32.872Z"
   },
   {
    "duration": 98,
    "start_time": "2023-02-22T13:01:45.557Z"
   },
   {
    "duration": 6,
    "start_time": "2023-02-22T13:01:56.149Z"
   },
   {
    "duration": 7,
    "start_time": "2023-02-22T13:02:23.464Z"
   },
   {
    "duration": 108,
    "start_time": "2023-02-22T13:05:01.074Z"
   },
   {
    "duration": 30,
    "start_time": "2023-02-22T13:09:46.428Z"
   },
   {
    "duration": 17,
    "start_time": "2023-02-22T13:10:08.549Z"
   },
   {
    "duration": 16,
    "start_time": "2023-02-22T13:10:58.019Z"
   },
   {
    "duration": 31,
    "start_time": "2023-02-22T13:11:16.353Z"
   },
   {
    "duration": 59,
    "start_time": "2023-02-22T13:12:18.088Z"
   },
   {
    "duration": 58,
    "start_time": "2023-02-22T13:12:27.935Z"
   },
   {
    "duration": 58,
    "start_time": "2023-02-22T13:12:45.640Z"
   },
   {
    "duration": 86,
    "start_time": "2023-02-22T13:19:49.949Z"
   },
   {
    "duration": 86,
    "start_time": "2023-02-22T13:21:35.808Z"
   },
   {
    "duration": 81,
    "start_time": "2023-02-22T13:21:58.615Z"
   },
   {
    "duration": 59,
    "start_time": "2023-02-22T13:22:15.981Z"
   },
   {
    "duration": 56,
    "start_time": "2023-02-22T13:24:04.724Z"
   },
   {
    "duration": 93,
    "start_time": "2023-02-22T13:25:41.200Z"
   },
   {
    "duration": 69,
    "start_time": "2023-02-22T13:26:05.492Z"
   },
   {
    "duration": 5,
    "start_time": "2023-02-22T13:29:04.689Z"
   },
   {
    "duration": 3,
    "start_time": "2023-02-22T13:29:19.200Z"
   },
   {
    "duration": 50,
    "start_time": "2023-02-22T13:33:45.666Z"
   },
   {
    "duration": 37,
    "start_time": "2023-02-22T13:34:29.884Z"
   },
   {
    "duration": 50,
    "start_time": "2023-02-22T13:36:20.578Z"
   },
   {
    "duration": 50,
    "start_time": "2023-02-22T13:46:03.783Z"
   },
   {
    "duration": 48,
    "start_time": "2023-02-22T13:46:45.702Z"
   },
   {
    "duration": 36,
    "start_time": "2023-02-22T13:47:35.911Z"
   },
   {
    "duration": 6,
    "start_time": "2023-02-22T13:47:45.746Z"
   },
   {
    "duration": 5,
    "start_time": "2023-02-22T13:48:38.279Z"
   },
   {
    "duration": 6,
    "start_time": "2023-02-22T13:49:03.463Z"
   },
   {
    "duration": 8,
    "start_time": "2023-02-22T13:52:37.435Z"
   },
   {
    "duration": 40,
    "start_time": "2023-02-22T13:53:48.515Z"
   },
   {
    "duration": 10,
    "start_time": "2023-02-22T13:53:56.628Z"
   },
   {
    "duration": 10,
    "start_time": "2023-02-22T13:58:17.389Z"
   },
   {
    "duration": 7,
    "start_time": "2023-02-22T13:58:20.062Z"
   },
   {
    "duration": 9,
    "start_time": "2023-02-22T13:58:51.455Z"
   },
   {
    "duration": 7,
    "start_time": "2023-02-22T13:58:57.253Z"
   },
   {
    "duration": 72,
    "start_time": "2023-02-22T14:00:41.978Z"
   },
   {
    "duration": 34,
    "start_time": "2023-02-22T14:00:58.883Z"
   },
   {
    "duration": 65,
    "start_time": "2023-02-22T14:02:55.255Z"
   },
   {
    "duration": 9,
    "start_time": "2023-02-22T14:03:05.830Z"
   },
   {
    "duration": 37,
    "start_time": "2023-02-22T14:03:07.228Z"
   },
   {
    "duration": 9,
    "start_time": "2023-02-22T14:04:19.467Z"
   },
   {
    "duration": 37,
    "start_time": "2023-02-22T14:04:21.188Z"
   },
   {
    "duration": 35,
    "start_time": "2023-02-22T14:05:03.141Z"
   },
   {
    "duration": 9,
    "start_time": "2023-02-22T14:05:29.503Z"
   },
   {
    "duration": 38,
    "start_time": "2023-02-22T14:05:30.958Z"
   },
   {
    "duration": 33,
    "start_time": "2023-02-22T14:09:05.075Z"
   },
   {
    "duration": 939,
    "start_time": "2023-02-22T14:09:41.110Z"
   },
   {
    "duration": 35,
    "start_time": "2023-02-22T14:11:43.443Z"
   },
   {
    "duration": 45,
    "start_time": "2023-02-22T14:13:32.902Z"
   },
   {
    "duration": 53,
    "start_time": "2023-02-22T14:20:20.120Z"
   },
   {
    "duration": 53,
    "start_time": "2023-02-22T14:27:31.545Z"
   },
   {
    "duration": 49,
    "start_time": "2023-02-22T14:28:41.498Z"
   },
   {
    "duration": 67,
    "start_time": "2023-02-22T14:31:32.802Z"
   },
   {
    "duration": 70,
    "start_time": "2023-02-22T14:34:32.202Z"
   },
   {
    "duration": 53,
    "start_time": "2023-02-22T14:35:05.911Z"
   },
   {
    "duration": 59,
    "start_time": "2023-02-22T14:35:18.350Z"
   },
   {
    "duration": 62,
    "start_time": "2023-02-22T14:35:48.735Z"
   },
   {
    "duration": 56,
    "start_time": "2023-02-22T14:35:53.510Z"
   },
   {
    "duration": 41,
    "start_time": "2023-02-22T14:36:22.241Z"
   },
   {
    "duration": 10,
    "start_time": "2023-02-22T14:38:09.135Z"
   },
   {
    "duration": 65,
    "start_time": "2023-02-22T14:39:12.878Z"
   },
   {
    "duration": 36,
    "start_time": "2023-02-22T14:39:23.241Z"
   },
   {
    "duration": 8,
    "start_time": "2023-02-22T14:39:26.883Z"
   },
   {
    "duration": 55,
    "start_time": "2023-02-23T10:03:49.333Z"
   },
   {
    "duration": 6,
    "start_time": "2023-02-23T10:03:55.728Z"
   },
   {
    "duration": 6,
    "start_time": "2023-02-23T10:04:15.467Z"
   },
   {
    "duration": 6,
    "start_time": "2023-02-23T10:05:01.047Z"
   },
   {
    "duration": 6,
    "start_time": "2023-02-23T10:05:32.445Z"
   },
   {
    "duration": 7,
    "start_time": "2023-02-23T10:05:34.963Z"
   },
   {
    "duration": 6,
    "start_time": "2023-02-23T10:05:43.152Z"
   },
   {
    "duration": 5,
    "start_time": "2023-02-23T10:06:25.464Z"
   },
   {
    "duration": 7,
    "start_time": "2023-02-23T10:13:33.579Z"
   },
   {
    "duration": 5,
    "start_time": "2023-02-23T10:17:16.084Z"
   },
   {
    "duration": 375,
    "start_time": "2023-02-23T10:19:07.531Z"
   },
   {
    "duration": 444,
    "start_time": "2023-02-23T10:19:07.908Z"
   },
   {
    "duration": 15,
    "start_time": "2023-02-23T10:19:08.354Z"
   },
   {
    "duration": 28,
    "start_time": "2023-02-23T10:19:08.371Z"
   },
   {
    "duration": 4,
    "start_time": "2023-02-23T10:19:08.400Z"
   },
   {
    "duration": 5,
    "start_time": "2023-02-23T10:19:08.405Z"
   },
   {
    "duration": 13,
    "start_time": "2023-02-23T10:19:08.411Z"
   },
   {
    "duration": 5,
    "start_time": "2023-02-23T10:19:08.425Z"
   },
   {
    "duration": 33,
    "start_time": "2023-02-23T10:19:08.432Z"
   },
   {
    "duration": 34,
    "start_time": "2023-02-23T10:19:08.468Z"
   },
   {
    "duration": 27,
    "start_time": "2023-02-23T10:19:08.504Z"
   },
   {
    "duration": 72,
    "start_time": "2023-02-23T10:19:08.534Z"
   },
   {
    "duration": 69,
    "start_time": "2023-02-23T10:19:08.608Z"
   },
   {
    "duration": 69,
    "start_time": "2023-02-23T10:19:08.679Z"
   },
   {
    "duration": 50,
    "start_time": "2023-02-23T10:19:08.750Z"
   },
   {
    "duration": 9,
    "start_time": "2023-02-23T10:19:08.802Z"
   },
   {
    "duration": 44,
    "start_time": "2023-02-23T10:19:08.812Z"
   },
   {
    "duration": 2,
    "start_time": "2023-02-23T10:19:08.858Z"
   },
   {
    "duration": 6,
    "start_time": "2023-02-23T10:19:08.862Z"
   },
   {
    "duration": 6,
    "start_time": "2023-02-23T10:19:08.869Z"
   },
   {
    "duration": 15,
    "start_time": "2023-02-23T10:19:08.876Z"
   },
   {
    "duration": 9,
    "start_time": "2023-02-23T10:19:08.893Z"
   },
   {
    "duration": 9,
    "start_time": "2023-02-23T10:19:08.903Z"
   },
   {
    "duration": 10,
    "start_time": "2023-02-23T10:19:08.914Z"
   },
   {
    "duration": 7,
    "start_time": "2023-02-23T10:19:08.925Z"
   },
   {
    "duration": 5,
    "start_time": "2023-02-23T10:19:08.933Z"
   },
   {
    "duration": 4,
    "start_time": "2023-02-23T10:19:08.940Z"
   },
   {
    "duration": 4,
    "start_time": "2023-02-23T10:19:08.947Z"
   },
   {
    "duration": 5,
    "start_time": "2023-02-23T10:19:08.953Z"
   },
   {
    "duration": 92,
    "start_time": "2023-02-23T10:19:08.960Z"
   },
   {
    "duration": 0,
    "start_time": "2023-02-23T10:19:09.054Z"
   },
   {
    "duration": 0,
    "start_time": "2023-02-23T10:19:09.055Z"
   },
   {
    "duration": 0,
    "start_time": "2023-02-23T10:19:09.056Z"
   },
   {
    "duration": 0,
    "start_time": "2023-02-23T10:19:09.057Z"
   },
   {
    "duration": 0,
    "start_time": "2023-02-23T10:19:09.058Z"
   },
   {
    "duration": 0,
    "start_time": "2023-02-23T10:19:09.059Z"
   },
   {
    "duration": 0,
    "start_time": "2023-02-23T10:19:09.060Z"
   },
   {
    "duration": 0,
    "start_time": "2023-02-23T10:19:09.061Z"
   },
   {
    "duration": 59,
    "start_time": "2023-02-23T10:20:23.919Z"
   },
   {
    "duration": 2,
    "start_time": "2023-02-23T10:22:37.661Z"
   },
   {
    "duration": 173,
    "start_time": "2023-02-23T10:22:37.665Z"
   },
   {
    "duration": 11,
    "start_time": "2023-02-23T10:22:37.839Z"
   },
   {
    "duration": 42,
    "start_time": "2023-02-23T10:22:37.851Z"
   },
   {
    "duration": 2,
    "start_time": "2023-02-23T10:22:37.895Z"
   },
   {
    "duration": 6,
    "start_time": "2023-02-23T10:22:37.899Z"
   },
   {
    "duration": 20,
    "start_time": "2023-02-23T10:22:37.906Z"
   },
   {
    "duration": 14,
    "start_time": "2023-02-23T10:22:37.927Z"
   },
   {
    "duration": 31,
    "start_time": "2023-02-23T10:22:37.943Z"
   },
   {
    "duration": 31,
    "start_time": "2023-02-23T10:22:37.975Z"
   },
   {
    "duration": 26,
    "start_time": "2023-02-23T10:22:38.008Z"
   },
   {
    "duration": 73,
    "start_time": "2023-02-23T10:22:38.036Z"
   },
   {
    "duration": 67,
    "start_time": "2023-02-23T10:22:38.111Z"
   },
   {
    "duration": 60,
    "start_time": "2023-02-23T10:22:38.179Z"
   },
   {
    "duration": 51,
    "start_time": "2023-02-23T10:22:38.240Z"
   },
   {
    "duration": 9,
    "start_time": "2023-02-23T10:22:38.293Z"
   },
   {
    "duration": 60,
    "start_time": "2023-02-23T10:22:38.304Z"
   },
   {
    "duration": 3,
    "start_time": "2023-02-23T10:22:38.365Z"
   },
   {
    "duration": 25,
    "start_time": "2023-02-23T10:22:38.369Z"
   },
   {
    "duration": 7,
    "start_time": "2023-02-23T10:22:38.395Z"
   },
   {
    "duration": 17,
    "start_time": "2023-02-23T10:22:38.403Z"
   },
   {
    "duration": 13,
    "start_time": "2023-02-23T10:22:38.422Z"
   },
   {
    "duration": 22,
    "start_time": "2023-02-23T10:22:38.437Z"
   },
   {
    "duration": 24,
    "start_time": "2023-02-23T10:22:38.460Z"
   },
   {
    "duration": 20,
    "start_time": "2023-02-23T10:22:38.485Z"
   },
   {
    "duration": 20,
    "start_time": "2023-02-23T10:22:38.507Z"
   },
   {
    "duration": 20,
    "start_time": "2023-02-23T10:22:38.529Z"
   },
   {
    "duration": 10,
    "start_time": "2023-02-23T10:22:38.551Z"
   },
   {
    "duration": 20,
    "start_time": "2023-02-23T10:22:38.564Z"
   },
   {
    "duration": 73,
    "start_time": "2023-02-23T10:22:38.586Z"
   },
   {
    "duration": 0,
    "start_time": "2023-02-23T10:22:38.661Z"
   },
   {
    "duration": 0,
    "start_time": "2023-02-23T10:22:38.663Z"
   },
   {
    "duration": 0,
    "start_time": "2023-02-23T10:22:38.664Z"
   },
   {
    "duration": 0,
    "start_time": "2023-02-23T10:22:38.666Z"
   },
   {
    "duration": 0,
    "start_time": "2023-02-23T10:22:38.667Z"
   },
   {
    "duration": 0,
    "start_time": "2023-02-23T10:22:38.669Z"
   },
   {
    "duration": 0,
    "start_time": "2023-02-23T10:22:38.670Z"
   },
   {
    "duration": 0,
    "start_time": "2023-02-23T10:22:38.672Z"
   },
   {
    "duration": 62,
    "start_time": "2023-02-23T10:22:56.707Z"
   },
   {
    "duration": 55,
    "start_time": "2023-02-23T10:22:59.420Z"
   },
   {
    "duration": 56,
    "start_time": "2023-02-23T10:26:11.320Z"
   },
   {
    "duration": 3,
    "start_time": "2023-02-23T10:26:47.736Z"
   },
   {
    "duration": 183,
    "start_time": "2023-02-23T10:26:47.742Z"
   },
   {
    "duration": 14,
    "start_time": "2023-02-23T10:26:47.928Z"
   },
   {
    "duration": 29,
    "start_time": "2023-02-23T10:26:47.944Z"
   },
   {
    "duration": 3,
    "start_time": "2023-02-23T10:26:47.990Z"
   },
   {
    "duration": 6,
    "start_time": "2023-02-23T10:26:47.994Z"
   },
   {
    "duration": 15,
    "start_time": "2023-02-23T10:26:48.002Z"
   },
   {
    "duration": 3,
    "start_time": "2023-02-23T10:26:48.019Z"
   },
   {
    "duration": 30,
    "start_time": "2023-02-23T10:26:48.024Z"
   },
   {
    "duration": 34,
    "start_time": "2023-02-23T10:26:48.057Z"
   },
   {
    "duration": 24,
    "start_time": "2023-02-23T10:26:48.094Z"
   },
   {
    "duration": 65,
    "start_time": "2023-02-23T10:26:48.119Z"
   },
   {
    "duration": 82,
    "start_time": "2023-02-23T10:26:48.192Z"
   },
   {
    "duration": 55,
    "start_time": "2023-02-23T10:26:48.290Z"
   },
   {
    "duration": 49,
    "start_time": "2023-02-23T10:26:48.349Z"
   },
   {
    "duration": 9,
    "start_time": "2023-02-23T10:26:48.400Z"
   },
   {
    "duration": 39,
    "start_time": "2023-02-23T10:26:48.410Z"
   },
   {
    "duration": 3,
    "start_time": "2023-02-23T10:26:48.451Z"
   },
   {
    "duration": 13,
    "start_time": "2023-02-23T10:26:48.456Z"
   },
   {
    "duration": 25,
    "start_time": "2023-02-23T10:26:48.470Z"
   },
   {
    "duration": 7,
    "start_time": "2023-02-23T10:26:48.497Z"
   },
   {
    "duration": 12,
    "start_time": "2023-02-23T10:26:48.506Z"
   },
   {
    "duration": 10,
    "start_time": "2023-02-23T10:26:48.520Z"
   },
   {
    "duration": 12,
    "start_time": "2023-02-23T10:26:48.533Z"
   },
   {
    "duration": 6,
    "start_time": "2023-02-23T10:26:48.547Z"
   },
   {
    "duration": 4,
    "start_time": "2023-02-23T10:26:48.555Z"
   },
   {
    "duration": 9,
    "start_time": "2023-02-23T10:26:48.561Z"
   },
   {
    "duration": 8,
    "start_time": "2023-02-23T10:26:48.572Z"
   },
   {
    "duration": 7,
    "start_time": "2023-02-23T10:26:48.584Z"
   },
   {
    "duration": 81,
    "start_time": "2023-02-23T10:26:48.593Z"
   },
   {
    "duration": 0,
    "start_time": "2023-02-23T10:26:48.676Z"
   },
   {
    "duration": 0,
    "start_time": "2023-02-23T10:26:48.677Z"
   },
   {
    "duration": 0,
    "start_time": "2023-02-23T10:26:48.678Z"
   },
   {
    "duration": 0,
    "start_time": "2023-02-23T10:26:48.680Z"
   },
   {
    "duration": 0,
    "start_time": "2023-02-23T10:26:48.681Z"
   },
   {
    "duration": 0,
    "start_time": "2023-02-23T10:26:48.682Z"
   },
   {
    "duration": 0,
    "start_time": "2023-02-23T10:26:48.683Z"
   },
   {
    "duration": 0,
    "start_time": "2023-02-23T10:26:48.684Z"
   },
   {
    "duration": 9,
    "start_time": "2023-02-23T10:29:07.175Z"
   },
   {
    "duration": 3,
    "start_time": "2023-02-23T10:31:42.815Z"
   },
   {
    "duration": 4,
    "start_time": "2023-02-23T10:53:58.642Z"
   },
   {
    "duration": 45,
    "start_time": "2023-02-23T10:55:41.301Z"
   },
   {
    "duration": 31,
    "start_time": "2023-02-23T10:58:59.236Z"
   },
   {
    "duration": 77,
    "start_time": "2023-02-23T11:03:32.903Z"
   },
   {
    "duration": 30,
    "start_time": "2023-02-23T11:04:13.179Z"
   },
   {
    "duration": 31,
    "start_time": "2023-02-23T11:08:54.284Z"
   },
   {
    "duration": 10,
    "start_time": "2023-02-23T11:25:41.026Z"
   },
   {
    "duration": 11,
    "start_time": "2023-02-23T11:26:02.057Z"
   },
   {
    "duration": 29,
    "start_time": "2023-02-23T11:26:19.347Z"
   },
   {
    "duration": 10,
    "start_time": "2023-02-23T11:26:54.846Z"
   },
   {
    "duration": 4,
    "start_time": "2023-02-23T11:28:45.372Z"
   },
   {
    "duration": 9,
    "start_time": "2023-02-23T11:29:30.063Z"
   },
   {
    "duration": 28,
    "start_time": "2023-02-23T11:29:42.432Z"
   },
   {
    "duration": 13,
    "start_time": "2023-02-23T11:30:26.210Z"
   },
   {
    "duration": 6,
    "start_time": "2023-02-23T12:06:08.974Z"
   },
   {
    "duration": 7,
    "start_time": "2023-02-23T12:06:28.551Z"
   },
   {
    "duration": 3,
    "start_time": "2023-02-23T12:07:17.859Z"
   },
   {
    "duration": 178,
    "start_time": "2023-02-23T12:07:17.863Z"
   },
   {
    "duration": 11,
    "start_time": "2023-02-23T12:07:18.042Z"
   },
   {
    "duration": 47,
    "start_time": "2023-02-23T12:07:18.055Z"
   },
   {
    "duration": 3,
    "start_time": "2023-02-23T12:07:18.105Z"
   },
   {
    "duration": 6,
    "start_time": "2023-02-23T12:07:18.109Z"
   },
   {
    "duration": 12,
    "start_time": "2023-02-23T12:07:18.117Z"
   },
   {
    "duration": 10,
    "start_time": "2023-02-23T12:07:18.131Z"
   },
   {
    "duration": 27,
    "start_time": "2023-02-23T12:07:18.143Z"
   },
   {
    "duration": 23,
    "start_time": "2023-02-23T12:07:18.192Z"
   },
   {
    "duration": 21,
    "start_time": "2023-02-23T12:07:18.218Z"
   },
   {
    "duration": 69,
    "start_time": "2023-02-23T12:07:18.241Z"
   },
   {
    "duration": 62,
    "start_time": "2023-02-23T12:07:18.312Z"
   },
   {
    "duration": 60,
    "start_time": "2023-02-23T12:07:18.376Z"
   },
   {
    "duration": 39,
    "start_time": "2023-02-23T12:07:18.438Z"
   },
   {
    "duration": 9,
    "start_time": "2023-02-23T12:07:18.492Z"
   },
   {
    "duration": 46,
    "start_time": "2023-02-23T12:07:18.503Z"
   },
   {
    "duration": 10,
    "start_time": "2023-02-23T12:07:18.550Z"
   },
   {
    "duration": 30,
    "start_time": "2023-02-23T12:07:18.562Z"
   },
   {
    "duration": 3,
    "start_time": "2023-02-23T12:07:18.594Z"
   },
   {
    "duration": 21,
    "start_time": "2023-02-23T12:07:18.599Z"
   },
   {
    "duration": 16,
    "start_time": "2023-02-23T12:07:18.622Z"
   },
   {
    "duration": 18,
    "start_time": "2023-02-23T12:07:18.640Z"
   },
   {
    "duration": 37,
    "start_time": "2023-02-23T12:07:18.660Z"
   },
   {
    "duration": 15,
    "start_time": "2023-02-23T12:07:18.698Z"
   },
   {
    "duration": 13,
    "start_time": "2023-02-23T12:07:18.715Z"
   },
   {
    "duration": 2,
    "start_time": "2023-02-23T12:07:18.730Z"
   },
   {
    "duration": 4,
    "start_time": "2023-02-23T12:07:18.733Z"
   },
   {
    "duration": 6,
    "start_time": "2023-02-23T12:07:18.740Z"
   },
   {
    "duration": 123,
    "start_time": "2023-02-23T12:07:18.747Z"
   },
   {
    "duration": 0,
    "start_time": "2023-02-23T12:07:18.872Z"
   },
   {
    "duration": 0,
    "start_time": "2023-02-23T12:07:18.872Z"
   },
   {
    "duration": 0,
    "start_time": "2023-02-23T12:07:18.874Z"
   },
   {
    "duration": 0,
    "start_time": "2023-02-23T12:07:18.875Z"
   },
   {
    "duration": 0,
    "start_time": "2023-02-23T12:07:18.876Z"
   },
   {
    "duration": 0,
    "start_time": "2023-02-23T12:07:18.877Z"
   },
   {
    "duration": 0,
    "start_time": "2023-02-23T12:07:18.878Z"
   },
   {
    "duration": 0,
    "start_time": "2023-02-23T12:07:18.879Z"
   },
   {
    "duration": 8,
    "start_time": "2023-02-23T12:12:03.836Z"
   },
   {
    "duration": 4,
    "start_time": "2023-02-23T12:14:18.338Z"
   },
   {
    "duration": 6,
    "start_time": "2023-02-23T12:14:54.658Z"
   },
   {
    "duration": 7,
    "start_time": "2023-02-23T12:33:29.668Z"
   },
   {
    "duration": 2,
    "start_time": "2023-02-23T12:52:28.057Z"
   },
   {
    "duration": 174,
    "start_time": "2023-02-23T12:52:28.063Z"
   },
   {
    "duration": 10,
    "start_time": "2023-02-23T12:52:28.239Z"
   },
   {
    "duration": 44,
    "start_time": "2023-02-23T12:52:28.251Z"
   },
   {
    "duration": 3,
    "start_time": "2023-02-23T12:52:28.296Z"
   },
   {
    "duration": 8,
    "start_time": "2023-02-23T12:52:28.300Z"
   },
   {
    "duration": 8,
    "start_time": "2023-02-23T12:52:28.310Z"
   },
   {
    "duration": 3,
    "start_time": "2023-02-23T12:52:28.320Z"
   },
   {
    "duration": 25,
    "start_time": "2023-02-23T12:52:28.324Z"
   },
   {
    "duration": 17,
    "start_time": "2023-02-23T12:52:28.351Z"
   },
   {
    "duration": 22,
    "start_time": "2023-02-23T12:52:28.392Z"
   },
   {
    "duration": 62,
    "start_time": "2023-02-23T12:52:28.416Z"
   },
   {
    "duration": 75,
    "start_time": "2023-02-23T12:52:28.479Z"
   },
   {
    "duration": 63,
    "start_time": "2023-02-23T12:52:28.555Z"
   },
   {
    "duration": 37,
    "start_time": "2023-02-23T12:52:28.620Z"
   },
   {
    "duration": 10,
    "start_time": "2023-02-23T12:52:28.659Z"
   },
   {
    "duration": 53,
    "start_time": "2023-02-23T12:52:28.670Z"
   },
   {
    "duration": 9,
    "start_time": "2023-02-23T12:52:28.725Z"
   },
   {
    "duration": 9,
    "start_time": "2023-02-23T12:52:28.736Z"
   },
   {
    "duration": 4,
    "start_time": "2023-02-23T12:52:28.747Z"
   },
   {
    "duration": 40,
    "start_time": "2023-02-23T12:52:28.752Z"
   },
   {
    "duration": 11,
    "start_time": "2023-02-23T12:52:28.794Z"
   },
   {
    "duration": 12,
    "start_time": "2023-02-23T12:52:28.807Z"
   },
   {
    "duration": 13,
    "start_time": "2023-02-23T12:52:28.821Z"
   },
   {
    "duration": 15,
    "start_time": "2023-02-23T12:52:28.835Z"
   },
   {
    "duration": 41,
    "start_time": "2023-02-23T12:52:28.851Z"
   },
   {
    "duration": 6,
    "start_time": "2023-02-23T12:52:28.893Z"
   },
   {
    "duration": 14,
    "start_time": "2023-02-23T12:52:28.900Z"
   },
   {
    "duration": 8,
    "start_time": "2023-02-23T12:52:28.916Z"
   },
   {
    "duration": 4,
    "start_time": "2023-02-23T12:52:28.926Z"
   },
   {
    "duration": 7,
    "start_time": "2023-02-23T12:52:28.932Z"
   },
   {
    "duration": 5,
    "start_time": "2023-02-23T12:52:28.940Z"
   },
   {
    "duration": 6,
    "start_time": "2023-02-23T12:52:28.947Z"
   },
   {
    "duration": 6,
    "start_time": "2023-02-23T12:52:28.954Z"
   },
   {
    "duration": 4,
    "start_time": "2023-02-23T12:52:28.961Z"
   },
   {
    "duration": 2,
    "start_time": "2023-02-23T12:52:28.992Z"
   },
   {
    "duration": 5,
    "start_time": "2023-02-23T12:52:28.995Z"
   },
   {
    "duration": 5,
    "start_time": "2023-02-23T12:52:29.001Z"
   },
   {
    "duration": 6,
    "start_time": "2023-02-23T12:56:14.347Z"
   },
   {
    "duration": 6,
    "start_time": "2023-02-23T12:59:14.323Z"
   },
   {
    "duration": 12,
    "start_time": "2023-02-23T12:59:17.897Z"
   },
   {
    "duration": 11,
    "start_time": "2023-02-23T12:59:18.379Z"
   },
   {
    "duration": 4,
    "start_time": "2023-02-23T12:59:19.992Z"
   },
   {
    "duration": 6,
    "start_time": "2023-02-23T12:59:59.714Z"
   },
   {
    "duration": 5,
    "start_time": "2023-02-23T13:09:22.960Z"
   },
   {
    "duration": 4,
    "start_time": "2023-02-23T13:12:47.525Z"
   },
   {
    "duration": 15,
    "start_time": "2023-02-23T13:27:00.821Z"
   },
   {
    "duration": 13,
    "start_time": "2023-02-23T13:27:01.176Z"
   },
   {
    "duration": 18,
    "start_time": "2023-02-23T13:27:02.152Z"
   },
   {
    "duration": 12,
    "start_time": "2023-02-23T13:27:02.868Z"
   },
   {
    "duration": 28,
    "start_time": "2023-02-23T13:34:58.284Z"
   },
   {
    "duration": 4,
    "start_time": "2023-02-23T13:39:28.907Z"
   },
   {
    "duration": 44,
    "start_time": "2023-02-23T13:41:59.939Z"
   },
   {
    "duration": 27,
    "start_time": "2023-02-23T13:43:21.120Z"
   },
   {
    "duration": 7,
    "start_time": "2023-02-23T13:54:36.477Z"
   },
   {
    "duration": 5,
    "start_time": "2023-02-23T13:54:45.066Z"
   },
   {
    "duration": 11,
    "start_time": "2023-02-23T14:08:54.616Z"
   },
   {
    "duration": 8,
    "start_time": "2023-02-23T14:09:08.550Z"
   },
   {
    "duration": 11,
    "start_time": "2023-02-23T14:09:32.862Z"
   },
   {
    "duration": 4,
    "start_time": "2023-02-23T14:11:44.121Z"
   },
   {
    "duration": 8,
    "start_time": "2023-02-23T14:13:47.922Z"
   },
   {
    "duration": 4,
    "start_time": "2023-02-23T14:15:50.602Z"
   },
   {
    "duration": 45,
    "start_time": "2024-02-04T14:23:21.625Z"
   },
   {
    "duration": 439,
    "start_time": "2024-02-04T14:23:30.057Z"
   },
   {
    "duration": 245,
    "start_time": "2024-02-04T14:23:30.497Z"
   },
   {
    "duration": 17,
    "start_time": "2024-02-04T14:23:30.744Z"
   },
   {
    "duration": 42,
    "start_time": "2024-02-04T14:23:30.763Z"
   },
   {
    "duration": 25,
    "start_time": "2024-02-04T14:23:30.807Z"
   },
   {
    "duration": 20,
    "start_time": "2024-02-04T14:23:30.833Z"
   },
   {
    "duration": 43,
    "start_time": "2024-02-04T14:23:30.854Z"
   },
   {
    "duration": 10,
    "start_time": "2024-02-04T14:23:30.899Z"
   },
   {
    "duration": 39,
    "start_time": "2024-02-04T14:23:30.911Z"
   },
   {
    "duration": 23,
    "start_time": "2024-02-04T14:23:30.953Z"
   },
   {
    "duration": 38,
    "start_time": "2024-02-04T14:23:30.978Z"
   },
   {
    "duration": 70,
    "start_time": "2024-02-04T14:23:31.018Z"
   },
   {
    "duration": 77,
    "start_time": "2024-02-04T14:23:31.090Z"
   },
   {
    "duration": 70,
    "start_time": "2024-02-04T14:23:31.169Z"
   },
   {
    "duration": 56,
    "start_time": "2024-02-04T14:23:31.241Z"
   },
   {
    "duration": 10,
    "start_time": "2024-02-04T14:23:31.298Z"
   },
   {
    "duration": 74,
    "start_time": "2024-02-04T14:23:31.309Z"
   },
   {
    "duration": 12,
    "start_time": "2024-02-04T14:23:31.384Z"
   },
   {
    "duration": 38,
    "start_time": "2024-02-04T14:23:31.397Z"
   },
   {
    "duration": 19,
    "start_time": "2024-02-04T14:23:31.436Z"
   },
   {
    "duration": 45,
    "start_time": "2024-02-04T14:23:31.456Z"
   },
   {
    "duration": 15,
    "start_time": "2024-02-04T14:23:31.502Z"
   },
   {
    "duration": 42,
    "start_time": "2024-02-04T14:23:31.519Z"
   },
   {
    "duration": 33,
    "start_time": "2024-02-04T14:23:31.562Z"
   },
   {
    "duration": 33,
    "start_time": "2024-02-04T14:23:31.597Z"
   },
   {
    "duration": 24,
    "start_time": "2024-02-04T14:23:31.631Z"
   },
   {
    "duration": 29,
    "start_time": "2024-02-04T14:23:31.656Z"
   },
   {
    "duration": 38,
    "start_time": "2024-02-04T14:23:31.688Z"
   },
   {
    "duration": 32,
    "start_time": "2024-02-04T14:23:31.728Z"
   },
   {
    "duration": 28,
    "start_time": "2024-02-04T14:23:31.762Z"
   },
   {
    "duration": 56,
    "start_time": "2024-02-04T14:23:31.792Z"
   },
   {
    "duration": 19,
    "start_time": "2024-02-04T14:23:31.849Z"
   },
   {
    "duration": 17,
    "start_time": "2024-02-04T14:23:31.870Z"
   },
   {
    "duration": 12,
    "start_time": "2024-02-04T14:23:31.888Z"
   },
   {
    "duration": 14,
    "start_time": "2024-02-04T14:23:31.901Z"
   },
   {
    "duration": 3,
    "start_time": "2024-02-04T14:23:31.917Z"
   },
   {
    "duration": 11,
    "start_time": "2024-02-04T14:23:31.922Z"
   },
   {
    "duration": 3,
    "start_time": "2024-02-04T14:23:31.934Z"
   },
   {
    "duration": 69,
    "start_time": "2024-02-04T14:26:49.009Z"
   },
   {
    "duration": 70,
    "start_time": "2024-02-04T14:27:44.570Z"
   },
   {
    "duration": 78,
    "start_time": "2024-02-04T14:27:51.843Z"
   },
   {
    "duration": 4,
    "start_time": "2024-02-04T14:35:40.637Z"
   },
   {
    "duration": 8,
    "start_time": "2024-02-04T14:37:17.868Z"
   },
   {
    "duration": 13,
    "start_time": "2024-02-04T14:47:52.513Z"
   },
   {
    "duration": 8,
    "start_time": "2024-02-04T14:49:11.691Z"
   },
   {
    "duration": 8,
    "start_time": "2024-02-04T14:49:13.817Z"
   },
   {
    "duration": 11,
    "start_time": "2024-02-04T14:49:27.801Z"
   },
   {
    "duration": 11,
    "start_time": "2024-02-04T14:49:47.594Z"
   },
   {
    "duration": 11,
    "start_time": "2024-02-04T14:49:53.553Z"
   },
   {
    "duration": 11,
    "start_time": "2024-02-04T14:50:07.978Z"
   },
   {
    "duration": 12,
    "start_time": "2024-02-04T14:50:30.451Z"
   },
   {
    "duration": 14,
    "start_time": "2024-02-04T14:51:04.474Z"
   }
  ],
  "colab": {
   "collapsed_sections": [
    "E0vqbgi9ay0H",
    "VUC88oWjTJw2"
   ],
   "provenance": []
  },
  "kernelspec": {
   "display_name": "Python 3 (ipykernel)",
   "language": "python",
   "name": "python3"
  },
  "language_info": {
   "codemirror_mode": {
    "name": "ipython",
    "version": 3
   },
   "file_extension": ".py",
   "mimetype": "text/x-python",
   "name": "python",
   "nbconvert_exporter": "python",
   "pygments_lexer": "ipython3",
   "version": "3.9.5"
  },
  "toc": {
   "base_numbering": 1,
   "nav_menu": {
    "height": "215px",
    "width": "403px"
   },
   "number_sections": true,
   "sideBar": true,
   "skip_h1_title": true,
   "title_cell": "Table of Contents",
   "title_sidebar": "Contents",
   "toc_cell": false,
   "toc_position": {
    "height": "calc(100% - 180px)",
    "left": "10px",
    "top": "150px",
    "width": "285.825px"
   },
   "toc_section_display": true,
   "toc_window_display": false
  }
 },
 "nbformat": 4,
 "nbformat_minor": 1
}
