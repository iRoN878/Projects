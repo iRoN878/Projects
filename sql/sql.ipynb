{
 "cells": [
  {
   "cell_type": "markdown",
   "metadata": {},
   "source": [
    "## Проект по SQL"
   ]
  },
  {
   "cell_type": "markdown",
   "metadata": {},
   "source": [
    "### Описание проекта\n",
    "Коронавирус застал мир врасплох, изменив привычный порядок вещей. В свободное время жители городов больше не выходят на улицу, не посещают кафе и торговые центры. Зато стало больше времени для книг. Это заметили стартаперы — и бросились создавать приложения для тех, кто любит читать.\n",
    "\n",
    "Ваша компания решила быть на волне и купила крупный сервис для чтения книг по подписке. В нашем распоряжении имеется база данных.\n",
    "В ней — информация о книгах, издательствах, авторах, а также пользовательские обзоры книг. Эти данные помогут сформулировать ценностное предложение для нового продукта.\n",
    "\n",
    "Цель проекта: проанализировать базу данных."
   ]
  },
  {
   "cell_type": "markdown",
   "metadata": {},
   "source": [
    "### Описание данных\n",
    "\n",
    "Таблица books содержит данные о книгах:\n",
    "- book_id — идентификатор книги\n",
    "- author_id — идентификатор автора\n",
    "- title — название книги\n",
    "- num_pages — количество страниц\n",
    "- publication_date — дата публикации книги\n",
    "- publisher_id — идентификатор издателя\n",
    "\n",
    "Таблица authors содержит данные об авторах:\n",
    "- author_id — идентификатор автора\n",
    "- author — имя автора\n",
    "\n",
    "Таблица publishers содержит данные об издательствах:\n",
    "- publisher_id — идентификатор издательства\n",
    "- publisher — название издательства\n",
    "\n",
    "Таблица ratings содержит данные о пользовательских оценках книг:\n",
    "- rating_id — идентификатор оценки\n",
    "- book_id — идентификатор книги\n",
    "- username — имя пользователя, оставившего оценку\n",
    "- rating — оценка книги\n",
    "\n",
    "Таблица reviews содержит данные о пользовательских обзорах:\n",
    "- review_id — идентификатор обзора\n",
    "- book_id — идентификатор книги\n",
    "- username — имя автора обзора\n",
    "- text — текст обзора"
   ]
  },
  {
   "cell_type": "markdown",
   "metadata": {},
   "source": [
    "### План выполнения задания\n",
    "- Описание исследования\n",
    "- Исследование таблиц — вывод первых строк\n",
    "- Сделать по одному SQL-запросу для решения каждого задания\n",
    "- Вывести результаты каждого запроса в тетрадке\n",
    "- Описать выводы по каждой из решённых задач"
   ]
  },
  {
   "cell_type": "code",
   "execution_count": 1,
   "metadata": {},
   "outputs": [],
   "source": [
    "# импортируем библиотеки\n",
    "import pandas as pd\n",
    "from sqlalchemy import text, create_engine"
   ]
  },
  {
   "cell_type": "code",
   "execution_count": null,
   "metadata": {},
   "outputs": [],
   "source": [
    "# устанавливаем параметры\n",
    "db_config = {'user': 'praktikum_student', # имя пользователя\n",
    "'pwd': 'Sdf4$2;d-d30pp', # пароль\n",
    "'host': 'rc1b-wcoijxj3yxfsf3fs.mdb.yandexcloud.net',\n",
    "'port': 6432, # порт подключения\n",
    "'db': 'data-analyst-final-project-db'} # название базы данных\n",
    "connection_string = 'postgresql://{user}:{pwd}@{host}:{port}/{db}'.format(**db_config)\n",
    "# сохраняем коннектор\n",
    "engine = create_engine(connection_string, connect_args={'sslmode':'require'})\n",
    "# чтобы выполнить SQL-запрос, используем Pandas\n",
    "query = '''SELECT * FROM books LIMIT 1'''\n",
    "con=engine.connect()\n",
    "pd.io.sql.read_sql(sql=text(query), con = con)"
   ]
  },
  {
   "cell_type": "markdown",
   "metadata": {},
   "source": [
    "## Исследование таблиц"
   ]
  },
  {
   "cell_type": "markdown",
   "metadata": {},
   "source": [
    "### Таблица books содержит данные о книгах"
   ]
  },
  {
   "cell_type": "code",
   "execution_count": null,
   "metadata": {},
   "outputs": [],
   "source": [
    "query = '''\n",
    "SELECT COUNT(*)\n",
    "FROM books\n",
    "LIMIT 5\n",
    "'''\n",
    "pd.io.sql.read_sql(sql=text(query), con = con)"
   ]
  },
  {
   "cell_type": "code",
   "execution_count": null,
   "metadata": {},
   "outputs": [],
   "source": [
    "query = '''\n",
    "SELECT *\n",
    "FROM books\n",
    "LIMIT 5\n",
    "'''\n",
    "pd.io.sql.read_sql(sql=text(query), con = con)"
   ]
  },
  {
   "cell_type": "markdown",
   "metadata": {},
   "source": [
    "### Таблица authors содержит данные об авторах:"
   ]
  },
  {
   "cell_type": "code",
   "execution_count": null,
   "metadata": {},
   "outputs": [],
   "source": [
    "query = '''\n",
    "SELECT COUNT(*)\n",
    "FROM authors\n",
    "'''\n",
    "pd.io.sql.read_sql(sql=text(query), con = con)"
   ]
  },
  {
   "cell_type": "code",
   "execution_count": null,
   "metadata": {},
   "outputs": [],
   "source": [
    "query = '''\n",
    "SELECT *\n",
    "FROM authors\n",
    "LIMIT 5\n",
    "'''\n",
    "pd.io.sql.read_sql(sql=text(query), con = con)"
   ]
  },
  {
   "cell_type": "markdown",
   "metadata": {},
   "source": [
    "### Таблица publishers содержит данные об издательствах:"
   ]
  },
  {
   "cell_type": "code",
   "execution_count": null,
   "metadata": {},
   "outputs": [],
   "source": [
    "query = '''\n",
    "SELECT COUNT(*)\n",
    "FROM publishers\n",
    "'''\n",
    "pd.io.sql.read_sql(sql=text(query), con = con)"
   ]
  },
  {
   "cell_type": "code",
   "execution_count": null,
   "metadata": {},
   "outputs": [],
   "source": [
    "query = '''\n",
    "SELECT *\n",
    "FROM publishers\n",
    "LIMIT 5\n",
    "'''\n",
    "pd.io.sql.read_sql(sql=text(query), con = con)"
   ]
  },
  {
   "cell_type": "markdown",
   "metadata": {},
   "source": [
    "### Таблица ratings содержит данные о пользовательских оценках книг:\n"
   ]
  },
  {
   "cell_type": "code",
   "execution_count": null,
   "metadata": {},
   "outputs": [],
   "source": [
    "query = '''\n",
    "SELECT COUNT(*)\n",
    "FROM ratings\n",
    "'''\n",
    "pd.io.sql.read_sql(sql=text(query), con = con)"
   ]
  },
  {
   "cell_type": "code",
   "execution_count": null,
   "metadata": {},
   "outputs": [],
   "source": [
    "query = '''\n",
    "SELECT *\n",
    "FROM ratings\n",
    "LIMIT 5\n",
    "'''\n",
    "pd.io.sql.read_sql(sql=text(query), con = con)"
   ]
  },
  {
   "cell_type": "markdown",
   "metadata": {},
   "source": [
    "### Таблица reviews содержит данные о пользовательских обзорах:\n"
   ]
  },
  {
   "cell_type": "code",
   "execution_count": null,
   "metadata": {},
   "outputs": [],
   "source": [
    "query = '''\n",
    "SELECT COUNT(*)\n",
    "FROM reviews\n",
    "'''\n",
    "pd.io.sql.read_sql(sql=text(query), con = con)"
   ]
  },
  {
   "cell_type": "code",
   "execution_count": null,
   "metadata": {},
   "outputs": [],
   "source": [
    "query = '''\n",
    "SELECT *\n",
    "FROM reviews\n",
    "LIMIT 5\n",
    "'''\n",
    "pd.io.sql.read_sql(sql=text(query), con = con)"
   ]
  },
  {
   "cell_type": "markdown",
   "metadata": {},
   "source": [
    "### Вывод\n",
    "- В таблице books содержится информация о 1000 книгах\n",
    "- В таблице authors содержится информация о 636 авторах\n",
    "- В таблице publishers содержится информация о 340 издательствах\n",
    "- В таблице ratings содержится информация о 6456 оценках\n",
    "- В таблице reviews содержится информация о 2793 пользовательских обзорах"
   ]
  },
  {
   "cell_type": "markdown",
   "metadata": {},
   "source": [
    "## SQL-запросы для решения каждого задания"
   ]
  },
  {
   "cell_type": "markdown",
   "metadata": {},
   "source": [
    "### Посчитаю, сколько книг вышло после 1 января 2000 года"
   ]
  },
  {
   "cell_type": "code",
   "execution_count": null,
   "metadata": {},
   "outputs": [],
   "source": [
    "query = '''\n",
    "SELECT COUNT(DISTINCT book_id) as kolichestvo_knig\n",
    "FROM books\n",
    "WHERE publication_date > '2000-01-01'\n",
    "'''\n",
    "pd.io.sql.read_sql(sql=text(query), con = con)"
   ]
  },
  {
   "cell_type": "markdown",
   "metadata": {},
   "source": [
    "### Вывод\n",
    "- После 1 января вышло 819 книг"
   ]
  },
  {
   "cell_type": "markdown",
   "metadata": {},
   "source": [
    "### Для каждой книги посчитаю количество обзоров и среднюю оценку"
   ]
  },
  {
   "cell_type": "code",
   "execution_count": null,
   "metadata": {},
   "outputs": [],
   "source": [
    "query = '''\n",
    "SELECT title as nazvanie,\n",
    "       COUNT(DISTINCT review_id) as kolichestvo_obzorov,\n",
    "       AVG(rating) as sredni_rating\n",
    "FROM books as b\n",
    "LEFT JOIN reviews as r ON b.book_id = r.book_id\n",
    "FULL JOIN ratings as re ON b.book_id = re.book_id\n",
    "GROUP BY nazvanie\n",
    "ORDER BY kolichestvo_obzorov DESC\n",
    "'''\n",
    "pd.io.sql.read_sql(sql=text(query), con = con)"
   ]
  },
  {
   "cell_type": "markdown",
   "metadata": {},
   "source": [
    "### Вывод\n",
    "- Максимальное количество обзоров (8) и рейтинг (4.138) имеет книга Мемуары Гейши"
   ]
  },
  {
   "cell_type": "markdown",
   "metadata": {},
   "source": [
    "### Определю издательство, которое выпустило наибольшее число книг толще 50 страниц — так мы исключим  из анализа брошюры"
   ]
  },
  {
   "cell_type": "code",
   "execution_count": null,
   "metadata": {},
   "outputs": [],
   "source": [
    "query = '''\n",
    "SELECT publisher as izdatelstvo,\n",
    "       COUNT(book_id) as kolichestvo_knig\n",
    "FROM books as b\n",
    "INNER JOIN publishers as pbs ON b.publisher_id = pbs.publisher_id\n",
    "WHERE num_pages > 50\n",
    "GROUP BY izdatelstvo\n",
    "ORDER BY kolichestvo_knig DESC\n",
    "LIMIT 1\n",
    "'''\n",
    "pd.io.sql.read_sql(sql=text(query), con = con)"
   ]
  },
  {
   "cell_type": "markdown",
   "metadata": {},
   "source": [
    "### Вывод \n",
    "- Издательство, которое выпустило наибольшее число книг(42) толще 50 страниц именуется Penguin Books"
   ]
  },
  {
   "cell_type": "markdown",
   "metadata": {},
   "source": [
    "### Определю автора с самой высокой средней оценкой книг — учитываю только книги с 50 и более оценками"
   ]
  },
  {
   "cell_type": "markdown",
   "metadata": {},
   "source": [
    "ЭТО ДЕЛАЛ ДЛЯ СЕБЯ, ЧТОБЫ ТАК СКАЗАТЬ, НЕ ДЕРЖАТЬ ЧАСТЬ КОДА В ГОЛОВЕ:\n",
    "Тут решил сделать декомпозицию и разбить задачу на несколько частей. Сначала вывел таблицу с айди книги, авторами и названиями книг"
   ]
  },
  {
   "cell_type": "code",
   "execution_count": null,
   "metadata": {},
   "outputs": [],
   "source": [
    "query = '''\n",
    "SELECT author,\n",
    "       book_id,\n",
    "       title           \n",
    "FROM books as b\n",
    "LEFT JOIN authors as atr ON b.author_id = atr.author_id\n",
    "'''\n",
    "pd.io.sql.read_sql(sql=text(query), con = con)"
   ]
  },
  {
   "cell_type": "markdown",
   "metadata": {},
   "source": [
    "Затем вывел таблицу с айди книги, количеством оценок и средним рейтингом"
   ]
  },
  {
   "cell_type": "code",
   "execution_count": null,
   "metadata": {},
   "outputs": [],
   "source": [
    "query = '''\n",
    "SELECT DISTINCT b.book_id,\n",
    "       COUNT(rating) as kolichestvo_ocenok,\n",
    "       AVG(rating) as srednaya_ocenka\n",
    "FROM books as b\n",
    "LEFT JOIN ratings as rtg ON b.book_id = rtg.book_id\n",
    "GROUP BY b.book_id\n",
    "ORDER BY b.book_id ASC\n",
    "\n",
    "'''\n",
    "pd.io.sql.read_sql(sql=text(query), con = con)"
   ]
  },
  {
   "cell_type": "markdown",
   "metadata": {},
   "source": [
    "С помощью табличного выражения получил нужный результат"
   ]
  },
  {
   "cell_type": "code",
   "execution_count": null,
   "metadata": {},
   "outputs": [],
   "source": [
    "query = '''\n",
    "WITH\n",
    "x AS (SELECT book_id,\n",
    "             title,\n",
    "             author       \n",
    "      FROM books as b\n",
    "      LEFT JOIN authors as atr ON b.author_id = atr.author_id),\n",
    "\n",
    "y AS (SELECT DISTINCT b.book_id,\n",
    "             COUNT(rating) as kolichestvo_ocenok,\n",
    "             AVG(rating) as srednaya_ocenka\n",
    "      FROM books as b\n",
    "      LEFT JOIN ratings as rtg ON b.book_id = rtg.book_id\n",
    "      GROUP BY b.book_id\n",
    "      ORDER BY COUNT(rating) DESC)\n",
    "\n",
    "SELECT x.author,\n",
    "       AVG(y.srednaya_ocenka) AS srednaya_ocenka\n",
    "FROM x \n",
    "LEFT OUTER JOIN y ON x.book_id = y.book_id\n",
    "WHERE kolichestvo_ocenok > 50\n",
    "GROUP BY x.author\n",
    "ORDER BY srednaya_ocenka DESC\n",
    "LIMIT 1\n",
    "'''\n",
    "pd.io.sql.read_sql(sql=text(query), con = con)"
   ]
  },
  {
   "cell_type": "markdown",
   "metadata": {},
   "source": [
    "### Вывод \n",
    "Автор с самой высокой средней оценкой книг J.K. Rowling/Mary GrandPré, а средняя оценка 4.283844"
   ]
  },
  {
   "cell_type": "markdown",
   "metadata": {},
   "source": [
    "### Посчитаю среднее количество обзоров от пользователей, которые поставили больше 48 оценок"
   ]
  },
  {
   "cell_type": "markdown",
   "metadata": {},
   "source": [
    "ЭТО ДЕЛАЛ ДЛЯ СЕБЯ, ЧТОБЫ ТАК СКАЗАТЬ, НЕ ДЕРЖАТЬ ЧАСТЬ КОДА В ГОЛОВЕ:\n",
    "Так же использовал декомпозицию. Сначала нашёл пользователей и количество обзоров"
   ]
  },
  {
   "cell_type": "code",
   "execution_count": null,
   "metadata": {},
   "outputs": [],
   "source": [
    "query = '''\n",
    "SELECT DISTINCT username,\n",
    "       COUNT(text) as kolichestvo_obzorov\n",
    "FROM books as b\n",
    "LEFT JOIN reviews as rvw ON b.book_id = rvw.book_id\n",
    "GROUP BY username\n",
    "ORDER BY kolichestvo_obzorov DESC\n",
    "'''\n",
    "pd.io.sql.read_sql(sql=text(query), con = con)"
   ]
  },
  {
   "cell_type": "markdown",
   "metadata": {},
   "source": [
    "Затем нашёл пользователей и количество оценок"
   ]
  },
  {
   "cell_type": "code",
   "execution_count": null,
   "metadata": {},
   "outputs": [],
   "source": [
    "query = '''\n",
    "SELECT username,\n",
    "       COUNT(rating) as kolichestvo_ocenok\n",
    "FROM books as b\n",
    "LEFT JOIN ratings as rtg ON b.book_id = rtg.book_id\n",
    "GROUP BY username\n",
    "ORDER BY COUNT(rating) DESC\n",
    "\n",
    "'''\n",
    "pd.io.sql.read_sql(sql=text(query), con = con)"
   ]
  },
  {
   "cell_type": "markdown",
   "metadata": {},
   "source": [
    "С помощью табличного выражения получил нужный результат"
   ]
  },
  {
   "cell_type": "code",
   "execution_count": null,
   "metadata": {},
   "outputs": [],
   "source": [
    "query = '''\n",
    "WITH\n",
    "x AS (SELECT DISTINCT username,\n",
    "             COUNT(text) as kolichestvo_obzorov\n",
    "      FROM books as b\n",
    "      LEFT JOIN reviews as rvw ON b.book_id = rvw.book_id\n",
    "      GROUP BY username\n",
    "      ORDER BY kolichestvo_obzorov DESC),\n",
    "\n",
    "y AS (SELECT username,\n",
    "             COUNT(rating) as kolichestvo_ocenok\n",
    "      FROM books as b\n",
    "      LEFT JOIN ratings as rtg ON b.book_id = rtg.book_id\n",
    "      GROUP BY username\n",
    "      ORDER BY COUNT(rating) DESC)\n",
    "\n",
    "SELECT AVG(x.kolichestvo_obzorov) as srednee\n",
    "FROM x \n",
    "LEFT OUTER JOIN y ON x.username = y.username\n",
    "WHERE kolichestvo_ocenok > 48\n",
    "'''\n",
    "pd.io.sql.read_sql(sql=text(query), con = con)"
   ]
  },
  {
   "cell_type": "markdown",
   "metadata": {},
   "source": [
    "### Вывод \n",
    "- Cреднее количество обзоров от пользователей, которые поставили больше 48 оценок около 24"
   ]
  }
 ],
 "metadata": {
  "ExecuteTimeLog": [
   {
    "duration": 520,
    "start_time": "2023-10-31T13:45:59.687Z"
   },
   {
    "duration": 9215,
    "start_time": "2023-10-31T13:46:00.266Z"
   },
   {
    "duration": 7,
    "start_time": "2023-10-31T13:51:48.245Z"
   },
   {
    "duration": 241,
    "start_time": "2023-10-31T13:51:52.329Z"
   },
   {
    "duration": 2,
    "start_time": "2023-10-31T13:51:53.166Z"
   },
   {
    "duration": 9,
    "start_time": "2023-10-31T13:51:59.939Z"
   },
   {
    "duration": 59,
    "start_time": "2023-10-31T13:52:05.966Z"
   },
   {
    "duration": 30,
    "start_time": "2023-10-31T14:02:01.977Z"
   },
   {
    "duration": 111,
    "start_time": "2023-10-31T14:04:49.513Z"
   },
   {
    "duration": 60,
    "start_time": "2023-10-31T14:06:45.199Z"
   },
   {
    "duration": 55,
    "start_time": "2023-10-31T14:06:56.299Z"
   },
   {
    "duration": 29,
    "start_time": "2023-10-31T14:07:25.006Z"
   },
   {
    "duration": 50,
    "start_time": "2023-10-31T14:09:35.738Z"
   },
   {
    "duration": 60,
    "start_time": "2023-10-31T14:10:00.251Z"
   },
   {
    "duration": 60,
    "start_time": "2023-10-31T14:10:26.147Z"
   },
   {
    "duration": 60,
    "start_time": "2023-10-31T14:10:58.939Z"
   },
   {
    "duration": 41,
    "start_time": "2023-10-31T14:11:50.436Z"
   },
   {
    "duration": 31,
    "start_time": "2023-10-31T14:11:56.275Z"
   },
   {
    "duration": 29,
    "start_time": "2023-10-31T14:12:35.659Z"
   },
   {
    "duration": 30,
    "start_time": "2023-10-31T14:12:46.861Z"
   },
   {
    "duration": 218,
    "start_time": "2023-10-31T15:20:11.654Z"
   },
   {
    "duration": 459,
    "start_time": "2023-10-31T15:20:22.978Z"
   },
   {
    "duration": 10136,
    "start_time": "2023-10-31T15:20:23.439Z"
   },
   {
    "duration": 1,
    "start_time": "2023-10-31T15:20:33.577Z"
   },
   {
    "duration": 0,
    "start_time": "2023-10-31T15:20:33.579Z"
   },
   {
    "duration": 4,
    "start_time": "2023-10-31T15:21:00.246Z"
   },
   {
    "duration": 47,
    "start_time": "2023-10-31T15:21:02.209Z"
   },
   {
    "duration": 29,
    "start_time": "2023-10-31T15:53:09.758Z"
   },
   {
    "duration": 31,
    "start_time": "2023-10-31T15:53:49.028Z"
   },
   {
    "duration": 51,
    "start_time": "2023-10-31T16:02:52.573Z"
   },
   {
    "duration": 67,
    "start_time": "2023-10-31T16:07:53.598Z"
   },
   {
    "duration": 60,
    "start_time": "2023-10-31T16:08:03.710Z"
   },
   {
    "duration": 70,
    "start_time": "2023-10-31T16:08:25.431Z"
   },
   {
    "duration": 29,
    "start_time": "2023-10-31T16:11:33.636Z"
   },
   {
    "duration": 48,
    "start_time": "2023-10-31T16:14:12.694Z"
   },
   {
    "duration": 59,
    "start_time": "2023-10-31T16:14:20.231Z"
   },
   {
    "duration": 43,
    "start_time": "2023-10-31T16:14:37.865Z"
   },
   {
    "duration": 60,
    "start_time": "2023-10-31T16:14:59.800Z"
   },
   {
    "duration": 59,
    "start_time": "2023-10-31T16:15:37.586Z"
   },
   {
    "duration": 51,
    "start_time": "2023-11-01T13:39:33.216Z"
   },
   {
    "duration": 7,
    "start_time": "2023-11-01T13:39:51.904Z"
   },
   {
    "duration": 537,
    "start_time": "2023-11-01T13:40:23.479Z"
   },
   {
    "duration": 8733,
    "start_time": "2023-11-01T13:40:24.018Z"
   },
   {
    "duration": 78,
    "start_time": "2023-11-01T13:40:32.755Z"
   },
   {
    "duration": 0,
    "start_time": "2023-11-01T13:40:32.835Z"
   },
   {
    "duration": 0,
    "start_time": "2023-11-01T13:40:32.847Z"
   },
   {
    "duration": 268,
    "start_time": "2023-11-01T13:40:45.504Z"
   },
   {
    "duration": 61,
    "start_time": "2023-11-01T13:41:04.791Z"
   },
   {
    "duration": 30,
    "start_time": "2023-11-01T13:41:08.903Z"
   },
   {
    "duration": 28,
    "start_time": "2023-11-01T13:41:09.672Z"
   },
   {
    "duration": 554,
    "start_time": "2023-11-01T13:46:33.650Z"
   },
   {
    "duration": 8536,
    "start_time": "2023-11-01T13:46:34.206Z"
   },
   {
    "duration": 84,
    "start_time": "2023-11-01T13:46:42.744Z"
   },
   {
    "duration": 1,
    "start_time": "2023-11-01T13:46:42.829Z"
   },
   {
    "duration": 0,
    "start_time": "2023-11-01T13:46:42.831Z"
   },
   {
    "duration": 609,
    "start_time": "2023-11-01T13:46:54.930Z"
   },
   {
    "duration": 9069,
    "start_time": "2023-11-01T13:46:55.541Z"
   },
   {
    "duration": 0,
    "start_time": "2023-11-01T13:47:04.611Z"
   },
   {
    "duration": 0,
    "start_time": "2023-11-01T13:47:04.613Z"
   },
   {
    "duration": 0,
    "start_time": "2023-11-01T13:47:04.614Z"
   },
   {
    "duration": 577,
    "start_time": "2023-11-01T13:47:15.512Z"
   },
   {
    "duration": 10288,
    "start_time": "2023-11-01T13:47:16.091Z"
   },
   {
    "duration": 0,
    "start_time": "2023-11-01T13:47:26.381Z"
   },
   {
    "duration": 0,
    "start_time": "2023-11-01T13:47:26.382Z"
   },
   {
    "duration": 0,
    "start_time": "2023-11-01T13:47:26.384Z"
   },
   {
    "duration": 171,
    "start_time": "2023-11-01T13:47:31.191Z"
   },
   {
    "duration": 224,
    "start_time": "2023-11-01T13:47:47.066Z"
   },
   {
    "duration": 216,
    "start_time": "2023-11-01T13:47:52.290Z"
   },
   {
    "duration": 255,
    "start_time": "2023-11-01T13:47:58.817Z"
   },
   {
    "duration": 67,
    "start_time": "2023-11-01T13:48:06.721Z"
   },
   {
    "duration": 47,
    "start_time": "2023-11-01T13:49:28.059Z"
   },
   {
    "duration": 33,
    "start_time": "2023-11-01T13:50:48.675Z"
   },
   {
    "duration": 76,
    "start_time": "2023-11-01T13:51:24.075Z"
   },
   {
    "duration": 88,
    "start_time": "2023-11-01T13:51:34.684Z"
   },
   {
    "duration": 79,
    "start_time": "2023-11-01T13:51:39.307Z"
   },
   {
    "duration": 514,
    "start_time": "2023-11-01T13:57:49.503Z"
   },
   {
    "duration": 8075,
    "start_time": "2023-11-01T13:57:50.019Z"
   },
   {
    "duration": 60,
    "start_time": "2023-11-01T13:57:58.096Z"
   },
   {
    "duration": 33,
    "start_time": "2023-11-01T13:57:58.159Z"
   },
   {
    "duration": 32,
    "start_time": "2023-11-01T13:57:58.194Z"
   },
   {
    "duration": 57,
    "start_time": "2023-11-01T13:57:58.228Z"
   },
   {
    "duration": 49,
    "start_time": "2023-11-01T13:57:58.286Z"
   },
   {
    "duration": 29,
    "start_time": "2023-11-01T13:57:58.336Z"
   },
   {
    "duration": 30,
    "start_time": "2023-11-01T13:57:58.367Z"
   },
   {
    "duration": 51,
    "start_time": "2023-11-01T14:13:26.658Z"
   },
   {
    "duration": 7,
    "start_time": "2023-11-01T14:13:55.419Z"
   },
   {
    "duration": 7,
    "start_time": "2023-11-01T14:14:28.959Z"
   },
   {
    "duration": 518,
    "start_time": "2023-11-01T14:15:24.481Z"
   },
   {
    "duration": 9289,
    "start_time": "2023-11-01T14:15:25.002Z"
   },
   {
    "duration": 61,
    "start_time": "2023-11-01T14:15:34.293Z"
   },
   {
    "duration": 33,
    "start_time": "2023-11-01T14:15:34.356Z"
   },
   {
    "duration": 32,
    "start_time": "2023-11-01T14:15:34.392Z"
   },
   {
    "duration": 58,
    "start_time": "2023-11-01T14:15:34.425Z"
   },
   {
    "duration": 50,
    "start_time": "2023-11-01T14:15:34.485Z"
   },
   {
    "duration": 30,
    "start_time": "2023-11-01T14:15:34.536Z"
   },
   {
    "duration": 31,
    "start_time": "2023-11-01T14:15:45.610Z"
   },
   {
    "duration": 29,
    "start_time": "2023-11-01T14:16:02.556Z"
   },
   {
    "duration": 598,
    "start_time": "2023-11-01T14:16:10.618Z"
   },
   {
    "duration": 9501,
    "start_time": "2023-11-01T14:16:11.218Z"
   },
   {
    "duration": 60,
    "start_time": "2023-11-01T14:16:20.721Z"
   },
   {
    "duration": 37,
    "start_time": "2023-11-01T14:16:20.783Z"
   },
   {
    "duration": 33,
    "start_time": "2023-11-01T14:16:20.821Z"
   },
   {
    "duration": 68,
    "start_time": "2023-11-01T14:16:20.856Z"
   },
   {
    "duration": 50,
    "start_time": "2023-11-01T14:16:20.926Z"
   },
   {
    "duration": 30,
    "start_time": "2023-11-01T14:16:20.979Z"
   },
   {
    "duration": 509,
    "start_time": "2023-11-01T14:16:33.293Z"
   },
   {
    "duration": 9152,
    "start_time": "2023-11-01T14:16:33.805Z"
   },
   {
    "duration": 59,
    "start_time": "2023-11-01T14:16:42.959Z"
   },
   {
    "duration": 100,
    "start_time": "2023-11-01T14:16:43.019Z"
   },
   {
    "duration": 32,
    "start_time": "2023-11-01T14:16:43.121Z"
   },
   {
    "duration": 56,
    "start_time": "2023-11-01T14:16:43.154Z"
   },
   {
    "duration": 52,
    "start_time": "2023-11-01T14:16:43.211Z"
   },
   {
    "duration": 32,
    "start_time": "2023-11-01T14:16:43.265Z"
   },
   {
    "duration": 30,
    "start_time": "2023-11-01T14:16:49.688Z"
   },
   {
    "duration": 79,
    "start_time": "2023-11-01T14:29:21.908Z"
   },
   {
    "duration": 60,
    "start_time": "2023-11-01T14:33:26.888Z"
   },
   {
    "duration": 30,
    "start_time": "2023-11-01T14:33:48.076Z"
   },
   {
    "duration": 32,
    "start_time": "2023-11-01T14:33:50.224Z"
   },
   {
    "duration": 69,
    "start_time": "2023-11-01T14:37:47.618Z"
   },
   {
    "duration": 128,
    "start_time": "2023-11-01T14:44:00.358Z"
   },
   {
    "duration": 64,
    "start_time": "2023-11-01T14:45:06.084Z"
   },
   {
    "duration": 67,
    "start_time": "2023-11-01T14:45:39.707Z"
   },
   {
    "duration": 128,
    "start_time": "2023-11-01T14:47:41.452Z"
   },
   {
    "duration": 69,
    "start_time": "2023-11-01T14:49:06.841Z"
   },
   {
    "duration": 34,
    "start_time": "2023-11-01T14:52:40.443Z"
   },
   {
    "duration": 51,
    "start_time": "2023-11-01T14:56:01.966Z"
   },
   {
    "duration": 61,
    "start_time": "2023-11-01T14:56:15.158Z"
   },
   {
    "duration": 78,
    "start_time": "2023-11-01T14:56:51.735Z"
   },
   {
    "duration": 63,
    "start_time": "2023-11-02T16:15:29.098Z"
   },
   {
    "duration": 538,
    "start_time": "2023-11-02T16:15:35.407Z"
   },
   {
    "duration": 13998,
    "start_time": "2023-11-02T16:15:35.949Z"
   },
   {
    "duration": 61,
    "start_time": "2023-11-02T16:15:49.951Z"
   },
   {
    "duration": 34,
    "start_time": "2023-11-02T16:15:50.014Z"
   },
   {
    "duration": 32,
    "start_time": "2023-11-02T16:15:50.050Z"
   },
   {
    "duration": 64,
    "start_time": "2023-11-02T16:15:50.084Z"
   },
   {
    "duration": 49,
    "start_time": "2023-11-02T16:15:50.150Z"
   },
   {
    "duration": 30,
    "start_time": "2023-11-02T16:15:50.202Z"
   },
   {
    "duration": 31,
    "start_time": "2023-11-02T16:15:50.233Z"
   },
   {
    "duration": 31,
    "start_time": "2023-11-02T16:15:50.265Z"
   },
   {
    "duration": 46,
    "start_time": "2023-11-02T16:15:50.297Z"
   },
   {
    "duration": 46,
    "start_time": "2023-11-02T16:15:50.345Z"
   },
   {
    "duration": 2,
    "start_time": "2023-11-02T16:15:57.859Z"
   },
   {
    "duration": 250,
    "start_time": "2023-11-02T16:15:57.863Z"
   },
   {
    "duration": 59,
    "start_time": "2023-11-02T16:15:58.115Z"
   },
   {
    "duration": 34,
    "start_time": "2023-11-02T16:15:58.175Z"
   },
   {
    "duration": 32,
    "start_time": "2023-11-02T16:15:58.211Z"
   },
   {
    "duration": 109,
    "start_time": "2023-11-02T16:15:58.244Z"
   },
   {
    "duration": 47,
    "start_time": "2023-11-02T16:15:58.354Z"
   },
   {
    "duration": 29,
    "start_time": "2023-11-02T16:15:58.403Z"
   },
   {
    "duration": 29,
    "start_time": "2023-11-02T16:15:58.434Z"
   },
   {
    "duration": 31,
    "start_time": "2023-11-02T16:15:58.465Z"
   },
   {
    "duration": 49,
    "start_time": "2023-11-02T16:15:58.498Z"
   },
   {
    "duration": 47,
    "start_time": "2023-11-02T16:15:58.549Z"
   },
   {
    "duration": 43,
    "start_time": "2023-11-02T16:32:30.073Z"
   },
   {
    "duration": 76,
    "start_time": "2023-11-02T16:36:47.563Z"
   },
   {
    "duration": 127,
    "start_time": "2023-11-02T16:39:05.084Z"
   },
   {
    "duration": 61,
    "start_time": "2023-11-02T16:39:33.701Z"
   },
   {
    "duration": 65,
    "start_time": "2023-11-02T16:41:23.031Z"
   },
   {
    "duration": 46,
    "start_time": "2023-11-02T16:41:32.605Z"
   },
   {
    "duration": 49,
    "start_time": "2023-11-02T16:42:03.845Z"
   },
   {
    "duration": 37,
    "start_time": "2023-11-02T18:01:43.014Z"
   },
   {
    "duration": 36,
    "start_time": "2023-11-02T18:02:53.446Z"
   },
   {
    "duration": 36,
    "start_time": "2023-11-02T18:03:11.870Z"
   },
   {
    "duration": 35,
    "start_time": "2023-11-02T18:09:33.497Z"
   },
   {
    "duration": 35,
    "start_time": "2023-11-02T18:09:52.265Z"
   },
   {
    "duration": 50,
    "start_time": "2023-11-02T18:10:10.752Z"
   },
   {
    "duration": 61,
    "start_time": "2023-11-02T18:10:41.121Z"
   },
   {
    "duration": 60,
    "start_time": "2023-11-02T18:11:17.698Z"
   },
   {
    "duration": 62,
    "start_time": "2023-11-02T18:11:32.593Z"
   },
   {
    "duration": 62,
    "start_time": "2023-11-02T18:13:00.852Z"
   },
   {
    "duration": 45,
    "start_time": "2023-11-02T18:13:15.339Z"
   },
   {
    "duration": 34,
    "start_time": "2023-11-02T18:13:30.170Z"
   },
   {
    "duration": 29,
    "start_time": "2023-11-02T18:17:36.762Z"
   },
   {
    "duration": 70,
    "start_time": "2023-11-02T18:28:50.170Z"
   },
   {
    "duration": 70,
    "start_time": "2023-11-02T18:30:25.594Z"
   },
   {
    "duration": 77,
    "start_time": "2023-11-02T18:33:07.523Z"
   },
   {
    "duration": 31,
    "start_time": "2023-11-02T18:34:00.356Z"
   },
   {
    "duration": 31,
    "start_time": "2023-11-02T18:34:08.563Z"
   },
   {
    "duration": 563,
    "start_time": "2023-11-05T18:35:35.750Z"
   },
   {
    "duration": 8837,
    "start_time": "2023-11-05T18:35:36.315Z"
   },
   {
    "duration": 60,
    "start_time": "2023-11-05T18:35:45.154Z"
   },
   {
    "duration": 34,
    "start_time": "2023-11-05T18:35:45.216Z"
   },
   {
    "duration": 34,
    "start_time": "2023-11-05T18:35:45.251Z"
   },
   {
    "duration": 68,
    "start_time": "2023-11-05T18:35:45.286Z"
   },
   {
    "duration": 49,
    "start_time": "2023-11-05T18:35:45.356Z"
   },
   {
    "duration": 247,
    "start_time": "2023-11-05T18:35:45.407Z"
   },
   {
    "duration": 30,
    "start_time": "2023-11-05T18:35:45.657Z"
   },
   {
    "duration": 72,
    "start_time": "2023-11-05T18:35:45.690Z"
   },
   {
    "duration": 33,
    "start_time": "2023-11-05T18:35:45.764Z"
   },
   {
    "duration": 30,
    "start_time": "2023-11-05T18:36:55.263Z"
   },
   {
    "duration": 78,
    "start_time": "2023-11-05T18:44:29.691Z"
   },
   {
    "duration": 79,
    "start_time": "2023-11-05T18:44:57.242Z"
   },
   {
    "duration": 75,
    "start_time": "2023-11-05T18:45:13.839Z"
   },
   {
    "duration": 76,
    "start_time": "2023-11-05T18:45:23.000Z"
   },
   {
    "duration": 80,
    "start_time": "2023-11-05T18:45:48.278Z"
   },
   {
    "duration": 84,
    "start_time": "2023-11-05T18:45:55.760Z"
   },
   {
    "duration": 83,
    "start_time": "2023-11-05T18:46:02.983Z"
   },
   {
    "duration": 78,
    "start_time": "2023-11-05T18:46:31.344Z"
   },
   {
    "duration": 75,
    "start_time": "2023-11-05T18:46:40.119Z"
   },
   {
    "duration": 76,
    "start_time": "2023-11-05T18:46:46.771Z"
   },
   {
    "duration": 87,
    "start_time": "2023-11-05T18:46:55.951Z"
   },
   {
    "duration": 76,
    "start_time": "2023-11-05T18:47:19.744Z"
   },
   {
    "duration": 80,
    "start_time": "2023-11-05T18:47:26.191Z"
   },
   {
    "duration": 77,
    "start_time": "2023-11-05T19:00:15.582Z"
   },
   {
    "duration": 77,
    "start_time": "2023-11-05T19:00:24.428Z"
   },
   {
    "duration": 75,
    "start_time": "2023-11-05T19:00:32.588Z"
   },
   {
    "duration": 76,
    "start_time": "2023-11-05T19:00:39.549Z"
   },
   {
    "duration": 167,
    "start_time": "2023-11-05T19:08:41.555Z"
   },
   {
    "duration": 85,
    "start_time": "2023-11-05T19:08:54.161Z"
   },
   {
    "duration": 58,
    "start_time": "2023-11-05T19:09:16.376Z"
   },
   {
    "duration": 74,
    "start_time": "2023-11-05T19:10:27.711Z"
   },
   {
    "duration": 30,
    "start_time": "2023-11-05T19:15:05.214Z"
   },
   {
    "duration": 58,
    "start_time": "2023-11-05T19:21:03.774Z"
   },
   {
    "duration": 59,
    "start_time": "2023-11-05T19:21:20.308Z"
   },
   {
    "duration": 52,
    "start_time": "2023-11-05T19:21:30.209Z"
   },
   {
    "duration": 86,
    "start_time": "2023-11-05T19:21:35.584Z"
   },
   {
    "duration": 77,
    "start_time": "2023-11-05T19:25:55.953Z"
   },
   {
    "duration": 63,
    "start_time": "2023-11-05T19:31:45.414Z"
   },
   {
    "duration": 52,
    "start_time": "2023-11-05T19:32:06.722Z"
   },
   {
    "duration": 35,
    "start_time": "2023-11-05T19:32:55.989Z"
   },
   {
    "duration": 36,
    "start_time": "2023-11-05T19:35:57.190Z"
   },
   {
    "duration": 35,
    "start_time": "2023-11-05T19:36:17.271Z"
   },
   {
    "duration": 36,
    "start_time": "2023-11-05T19:38:12.890Z"
   },
   {
    "duration": 34,
    "start_time": "2023-11-05T19:38:44.921Z"
   },
   {
    "duration": 34,
    "start_time": "2023-11-05T19:38:53.339Z"
   },
   {
    "duration": 34,
    "start_time": "2023-11-05T19:38:59.643Z"
   },
   {
    "duration": 36,
    "start_time": "2023-11-05T19:39:07.866Z"
   },
   {
    "duration": 35,
    "start_time": "2023-11-05T19:40:42.443Z"
   },
   {
    "duration": 35,
    "start_time": "2023-11-05T19:40:51.099Z"
   },
   {
    "duration": 36,
    "start_time": "2023-11-05T19:40:56.308Z"
   },
   {
    "duration": 510,
    "start_time": "2023-11-06T07:56:01.270Z"
   },
   {
    "duration": 9684,
    "start_time": "2023-11-06T07:56:01.782Z"
   },
   {
    "duration": 66,
    "start_time": "2023-11-06T07:56:11.467Z"
   },
   {
    "duration": 31,
    "start_time": "2023-11-06T07:56:11.535Z"
   },
   {
    "duration": 31,
    "start_time": "2023-11-06T07:56:11.569Z"
   },
   {
    "duration": 53,
    "start_time": "2023-11-06T07:56:11.601Z"
   },
   {
    "duration": 45,
    "start_time": "2023-11-06T07:56:11.656Z"
   },
   {
    "duration": 231,
    "start_time": "2023-11-06T07:56:11.703Z"
   },
   {
    "duration": 30,
    "start_time": "2023-11-06T07:56:11.936Z"
   },
   {
    "duration": 53,
    "start_time": "2023-11-06T07:56:11.968Z"
   },
   {
    "duration": 285,
    "start_time": "2023-11-06T07:56:12.023Z"
   },
   {
    "duration": 105,
    "start_time": "2023-11-06T08:02:04.263Z"
   },
   {
    "duration": 58,
    "start_time": "2023-11-06T08:02:29.467Z"
   },
   {
    "duration": 58,
    "start_time": "2023-11-06T08:03:00.026Z"
   },
   {
    "duration": 57,
    "start_time": "2023-11-06T08:03:43.758Z"
   },
   {
    "duration": 57,
    "start_time": "2023-11-06T08:04:51.469Z"
   },
   {
    "duration": 59,
    "start_time": "2023-11-06T08:05:49.008Z"
   },
   {
    "duration": 69,
    "start_time": "2023-11-06T08:06:07.745Z"
   },
   {
    "duration": 60,
    "start_time": "2023-11-06T08:06:26.072Z"
   },
   {
    "duration": 61,
    "start_time": "2023-11-06T08:06:36.923Z"
   },
   {
    "duration": 59,
    "start_time": "2023-11-06T08:07:02.413Z"
   },
   {
    "duration": 58,
    "start_time": "2023-11-06T08:07:13.635Z"
   },
   {
    "duration": 57,
    "start_time": "2023-11-06T08:07:19.593Z"
   },
   {
    "duration": 61,
    "start_time": "2023-11-06T08:07:23.103Z"
   },
   {
    "duration": 60,
    "start_time": "2023-11-06T08:08:03.425Z"
   },
   {
    "duration": 61,
    "start_time": "2023-11-06T08:08:26.562Z"
   },
   {
    "duration": 59,
    "start_time": "2023-11-06T08:08:34.252Z"
   },
   {
    "duration": 59,
    "start_time": "2023-11-06T08:08:45.002Z"
   },
   {
    "duration": 60,
    "start_time": "2023-11-06T08:08:52.778Z"
   },
   {
    "duration": 77,
    "start_time": "2023-11-06T08:11:18.851Z"
   },
   {
    "duration": 47,
    "start_time": "2023-11-06T08:11:42.177Z"
   },
   {
    "duration": 80,
    "start_time": "2023-11-06T08:11:56.998Z"
   },
   {
    "duration": 47,
    "start_time": "2023-11-06T08:12:35.071Z"
   },
   {
    "duration": 318,
    "start_time": "2023-11-06T08:12:39.748Z"
   },
   {
    "duration": 47,
    "start_time": "2023-11-06T08:13:28.446Z"
   },
   {
    "duration": 775,
    "start_time": "2023-11-06T08:44:32.632Z"
   },
   {
    "duration": 15203,
    "start_time": "2023-11-06T08:44:33.410Z"
   },
   {
    "duration": 83,
    "start_time": "2023-11-06T08:44:48.615Z"
   },
   {
    "duration": 33,
    "start_time": "2023-11-06T08:44:48.700Z"
   },
   {
    "duration": 61,
    "start_time": "2023-11-06T08:44:48.735Z"
   },
   {
    "duration": 91,
    "start_time": "2023-11-06T08:44:48.798Z"
   },
   {
    "duration": 48,
    "start_time": "2023-11-06T08:44:48.891Z"
   },
   {
    "duration": 331,
    "start_time": "2023-11-06T08:44:48.941Z"
   },
   {
    "duration": 34,
    "start_time": "2023-11-06T08:44:49.275Z"
   },
   {
    "duration": 74,
    "start_time": "2023-11-06T08:44:49.312Z"
   },
   {
    "duration": 38,
    "start_time": "2023-11-06T08:44:49.391Z"
   },
   {
    "duration": 62,
    "start_time": "2023-11-06T08:44:49.432Z"
   },
   {
    "duration": 38,
    "start_time": "2023-11-06T08:44:49.496Z"
   },
   {
    "duration": 57,
    "start_time": "2023-11-06T08:44:49.535Z"
   },
   {
    "duration": 37,
    "start_time": "2023-11-06T08:44:49.594Z"
   },
   {
    "duration": 65,
    "start_time": "2023-11-06T08:44:49.633Z"
   },
   {
    "duration": 35,
    "start_time": "2023-11-06T08:44:49.701Z"
   },
   {
    "duration": 222,
    "start_time": "2023-11-06T08:46:47.696Z"
   },
   {
    "duration": 84,
    "start_time": "2023-11-06T08:47:03.006Z"
   },
   {
    "duration": 80,
    "start_time": "2023-11-06T08:47:12.395Z"
   },
   {
    "duration": 73,
    "start_time": "2023-11-06T08:47:31.115Z"
   },
   {
    "duration": 99,
    "start_time": "2023-11-06T08:47:48.416Z"
   },
   {
    "duration": 51,
    "start_time": "2023-11-06T17:59:29.533Z"
   },
   {
    "duration": 467,
    "start_time": "2023-11-06T17:59:35.685Z"
   },
   {
    "duration": 8636,
    "start_time": "2023-11-06T17:59:36.154Z"
   },
   {
    "duration": 64,
    "start_time": "2023-11-06T17:59:44.792Z"
   },
   {
    "duration": 32,
    "start_time": "2023-11-06T17:59:44.858Z"
   },
   {
    "duration": 32,
    "start_time": "2023-11-06T17:59:44.891Z"
   },
   {
    "duration": 64,
    "start_time": "2023-11-06T17:59:44.924Z"
   },
   {
    "duration": 48,
    "start_time": "2023-11-06T17:59:44.989Z"
   },
   {
    "duration": 232,
    "start_time": "2023-11-06T17:59:45.038Z"
   },
   {
    "duration": 29,
    "start_time": "2023-11-06T17:59:45.271Z"
   },
   {
    "duration": 55,
    "start_time": "2023-11-06T17:59:45.302Z"
   },
   {
    "duration": 30,
    "start_time": "2023-11-06T17:59:45.359Z"
   },
   {
    "duration": 34,
    "start_time": "2023-11-06T17:59:45.390Z"
   },
   {
    "duration": 37,
    "start_time": "2023-11-06T17:59:45.425Z"
   },
   {
    "duration": 34,
    "start_time": "2023-11-06T17:59:45.463Z"
   },
   {
    "duration": 33,
    "start_time": "2023-11-06T17:59:45.499Z"
   },
   {
    "duration": 34,
    "start_time": "2023-11-06T17:59:45.534Z"
   },
   {
    "duration": 44,
    "start_time": "2023-11-06T17:59:45.570Z"
   },
   {
    "duration": 119,
    "start_time": "2023-11-06T18:00:46.297Z"
   },
   {
    "duration": 60,
    "start_time": "2023-11-06T18:02:05.515Z"
   },
   {
    "duration": 60,
    "start_time": "2023-11-06T18:02:20.001Z"
   },
   {
    "duration": 84,
    "start_time": "2023-11-06T18:02:38.995Z"
   },
   {
    "duration": 71,
    "start_time": "2023-11-06T18:02:51.857Z"
   },
   {
    "duration": 72,
    "start_time": "2023-11-06T18:04:31.994Z"
   },
   {
    "duration": 72,
    "start_time": "2023-11-06T18:04:49.122Z"
   },
   {
    "duration": 66,
    "start_time": "2023-11-06T18:05:26.018Z"
   },
   {
    "duration": 74,
    "start_time": "2023-11-06T18:05:39.627Z"
   },
   {
    "duration": 73,
    "start_time": "2023-11-06T18:06:11.883Z"
   },
   {
    "duration": 73,
    "start_time": "2023-11-06T18:06:30.581Z"
   },
   {
    "duration": 73,
    "start_time": "2023-11-06T18:09:52.669Z"
   },
   {
    "duration": 82,
    "start_time": "2023-11-06T18:10:01.292Z"
   },
   {
    "duration": 51,
    "start_time": "2023-11-06T18:10:58.413Z"
   },
   {
    "duration": 71,
    "start_time": "2023-11-06T18:13:07.984Z"
   },
   {
    "duration": 62,
    "start_time": "2023-11-06T18:13:27.773Z"
   },
   {
    "duration": 58,
    "start_time": "2023-11-06T18:13:55.942Z"
   },
   {
    "duration": 51,
    "start_time": "2023-11-06T18:23:16.643Z"
   },
   {
    "duration": 60,
    "start_time": "2023-11-06T18:23:57.082Z"
   },
   {
    "duration": 60,
    "start_time": "2023-11-06T18:24:05.849Z"
   },
   {
    "duration": 68,
    "start_time": "2023-11-06T18:24:26.090Z"
   },
   {
    "duration": 87,
    "start_time": "2023-11-06T18:24:43.705Z"
   },
   {
    "duration": 49,
    "start_time": "2023-11-06T18:30:26.587Z"
   },
   {
    "duration": 68,
    "start_time": "2023-11-06T18:30:32.907Z"
   },
   {
    "duration": 94,
    "start_time": "2023-11-06T18:30:43.803Z"
   },
   {
    "duration": 85,
    "start_time": "2023-11-06T18:30:58.708Z"
   },
   {
    "duration": 80,
    "start_time": "2023-11-06T18:31:09.731Z"
   },
   {
    "duration": 91,
    "start_time": "2023-11-06T18:31:59.965Z"
   },
   {
    "duration": 79,
    "start_time": "2023-11-06T18:32:07.539Z"
   },
   {
    "duration": 76,
    "start_time": "2023-11-06T18:32:44.004Z"
   },
   {
    "duration": 83,
    "start_time": "2023-11-06T18:37:51.388Z"
   },
   {
    "duration": 75,
    "start_time": "2023-11-06T18:47:59.696Z"
   },
   {
    "duration": 90,
    "start_time": "2023-11-06T18:48:14.375Z"
   },
   {
    "duration": 73,
    "start_time": "2023-11-06T18:48:38.137Z"
   },
   {
    "duration": 72,
    "start_time": "2023-11-06T18:52:42.761Z"
   },
   {
    "duration": 75,
    "start_time": "2023-11-06T18:53:15.049Z"
   },
   {
    "duration": 81,
    "start_time": "2023-11-06T18:54:46.670Z"
   },
   {
    "duration": 73,
    "start_time": "2023-11-06T18:54:58.914Z"
   },
   {
    "duration": 94,
    "start_time": "2023-11-06T18:55:34.370Z"
   },
   {
    "duration": 6,
    "start_time": "2023-11-06T19:00:48.515Z"
   },
   {
    "duration": 56,
    "start_time": "2023-11-06T19:01:09.596Z"
   },
   {
    "duration": 75,
    "start_time": "2023-11-06T19:01:18.757Z"
   },
   {
    "duration": 76,
    "start_time": "2023-11-06T19:04:37.900Z"
   },
   {
    "duration": 49,
    "start_time": "2023-11-06T19:05:02.260Z"
   },
   {
    "duration": 83,
    "start_time": "2023-11-06T19:05:25.749Z"
   },
   {
    "duration": 74,
    "start_time": "2023-11-06T19:06:12.621Z"
   },
   {
    "duration": 84,
    "start_time": "2023-11-06T19:06:21.269Z"
   },
   {
    "duration": 73,
    "start_time": "2023-11-06T19:06:28.550Z"
   },
   {
    "duration": 74,
    "start_time": "2023-11-06T19:06:46.357Z"
   },
   {
    "duration": 75,
    "start_time": "2023-11-06T19:06:58.405Z"
   },
   {
    "duration": 76,
    "start_time": "2023-11-06T19:07:06.261Z"
   },
   {
    "duration": 74,
    "start_time": "2023-11-06T19:10:16.544Z"
   },
   {
    "duration": 72,
    "start_time": "2023-11-06T19:11:37.850Z"
   },
   {
    "duration": 72,
    "start_time": "2023-11-06T19:11:44.753Z"
   },
   {
    "duration": 73,
    "start_time": "2023-11-06T19:12:24.409Z"
   },
   {
    "duration": 57,
    "start_time": "2023-11-06T19:24:11.949Z"
   },
   {
    "duration": 49,
    "start_time": "2023-11-06T19:27:42.849Z"
   },
   {
    "duration": 80,
    "start_time": "2023-11-06T19:27:55.008Z"
   },
   {
    "duration": 49,
    "start_time": "2023-11-06T19:30:23.671Z"
   },
   {
    "duration": 53,
    "start_time": "2023-11-06T19:30:29.695Z"
   },
   {
    "duration": 50,
    "start_time": "2023-11-06T19:32:08.264Z"
   },
   {
    "duration": 59,
    "start_time": "2023-11-06T19:33:25.858Z"
   },
   {
    "duration": 47,
    "start_time": "2023-11-06T19:33:35.985Z"
   },
   {
    "duration": 50,
    "start_time": "2023-11-06T19:34:01.768Z"
   },
   {
    "duration": 38,
    "start_time": "2023-11-06T19:34:42.529Z"
   },
   {
    "duration": 50,
    "start_time": "2023-11-06T19:36:20.426Z"
   },
   {
    "duration": 33,
    "start_time": "2023-11-06T19:36:57.587Z"
   },
   {
    "duration": 49,
    "start_time": "2023-11-06T19:40:26.885Z"
   },
   {
    "duration": 60,
    "start_time": "2023-11-06T19:40:49.145Z"
   },
   {
    "duration": 68,
    "start_time": "2023-11-06T19:43:05.286Z"
   },
   {
    "duration": 68,
    "start_time": "2023-11-06T19:45:08.735Z"
   },
   {
    "duration": 65,
    "start_time": "2023-11-06T19:45:21.287Z"
   },
   {
    "duration": 64,
    "start_time": "2023-11-06T19:45:36.638Z"
   },
   {
    "duration": 57,
    "start_time": "2023-11-06T19:45:46.518Z"
   },
   {
    "duration": 36,
    "start_time": "2023-11-06T19:46:50.727Z"
   },
   {
    "duration": 55,
    "start_time": "2023-11-06T19:47:06.328Z"
   },
   {
    "duration": 73,
    "start_time": "2023-11-06T19:47:17.487Z"
   },
   {
    "duration": 56,
    "start_time": "2023-11-06T19:50:37.473Z"
   },
   {
    "duration": 63,
    "start_time": "2023-11-06T19:50:50.489Z"
   },
   {
    "duration": 63,
    "start_time": "2023-11-06T19:51:35.513Z"
   },
   {
    "duration": 53,
    "start_time": "2023-11-06T19:54:55.929Z"
   },
   {
    "duration": 49,
    "start_time": "2023-11-06T19:55:13.707Z"
   },
   {
    "duration": 37,
    "start_time": "2023-11-06T19:55:27.290Z"
   },
   {
    "duration": 38,
    "start_time": "2023-11-06T20:00:04.149Z"
   },
   {
    "duration": 45,
    "start_time": "2023-11-06T20:01:25.509Z"
   },
   {
    "duration": 34,
    "start_time": "2023-11-06T20:01:37.647Z"
   },
   {
    "duration": 38,
    "start_time": "2023-11-06T20:02:11.111Z"
   },
   {
    "duration": 438,
    "start_time": "2023-11-06T20:03:04.996Z"
   },
   {
    "duration": 8330,
    "start_time": "2023-11-06T20:03:05.444Z"
   },
   {
    "duration": 60,
    "start_time": "2023-11-06T20:03:13.778Z"
   },
   {
    "duration": 33,
    "start_time": "2023-11-06T20:03:13.850Z"
   },
   {
    "duration": 32,
    "start_time": "2023-11-06T20:03:13.884Z"
   },
   {
    "duration": 72,
    "start_time": "2023-11-06T20:03:13.918Z"
   },
   {
    "duration": 57,
    "start_time": "2023-11-06T20:03:13.992Z"
   },
   {
    "duration": 504,
    "start_time": "2023-11-06T21:19:14.819Z"
   },
   {
    "duration": 10970,
    "start_time": "2023-11-06T21:19:15.325Z"
   },
   {
    "duration": 63,
    "start_time": "2023-11-06T21:19:26.297Z"
   },
   {
    "duration": 33,
    "start_time": "2023-11-06T21:19:26.362Z"
   },
   {
    "duration": 31,
    "start_time": "2023-11-06T21:19:26.396Z"
   },
   {
    "duration": 54,
    "start_time": "2023-11-06T21:19:26.429Z"
   },
   {
    "duration": 46,
    "start_time": "2023-11-06T21:19:26.485Z"
   },
   {
    "duration": 232,
    "start_time": "2023-11-06T21:19:26.532Z"
   },
   {
    "duration": 30,
    "start_time": "2023-11-06T21:19:26.765Z"
   },
   {
    "duration": 50,
    "start_time": "2023-11-06T21:19:26.797Z"
   },
   {
    "duration": 30,
    "start_time": "2023-11-06T21:19:26.849Z"
   },
   {
    "duration": 39,
    "start_time": "2023-11-06T21:19:26.880Z"
   },
   {
    "duration": 43,
    "start_time": "2023-11-06T21:19:26.921Z"
   },
   {
    "duration": 37,
    "start_time": "2023-11-06T21:19:26.966Z"
   },
   {
    "duration": 34,
    "start_time": "2023-11-06T21:19:27.005Z"
   },
   {
    "duration": 34,
    "start_time": "2023-11-06T21:19:27.040Z"
   },
   {
    "duration": 33,
    "start_time": "2023-11-06T21:19:27.076Z"
   },
   {
    "duration": 53,
    "start_time": "2023-11-09T19:03:13.123Z"
   },
   {
    "duration": 544,
    "start_time": "2023-11-09T19:03:18.425Z"
   },
   {
    "duration": 8574,
    "start_time": "2023-11-09T19:03:18.971Z"
   },
   {
    "duration": 59,
    "start_time": "2023-11-09T19:03:27.547Z"
   },
   {
    "duration": 35,
    "start_time": "2023-11-09T19:03:27.608Z"
   },
   {
    "duration": 32,
    "start_time": "2023-11-09T19:03:27.644Z"
   },
   {
    "duration": 54,
    "start_time": "2023-11-09T19:03:27.677Z"
   },
   {
    "duration": 47,
    "start_time": "2023-11-09T19:03:27.733Z"
   },
   {
    "duration": 230,
    "start_time": "2023-11-09T19:03:27.782Z"
   },
   {
    "duration": 33,
    "start_time": "2023-11-09T19:03:28.014Z"
   },
   {
    "duration": 114,
    "start_time": "2023-11-09T19:03:28.049Z"
   },
   {
    "duration": 0,
    "start_time": "2023-11-09T19:03:28.165Z"
   },
   {
    "duration": 0,
    "start_time": "2023-11-09T19:03:28.166Z"
   },
   {
    "duration": 0,
    "start_time": "2023-11-09T19:03:28.167Z"
   },
   {
    "duration": 0,
    "start_time": "2023-11-09T19:03:28.168Z"
   },
   {
    "duration": 0,
    "start_time": "2023-11-09T19:03:28.169Z"
   },
   {
    "duration": 0,
    "start_time": "2023-11-09T19:03:28.170Z"
   },
   {
    "duration": 0,
    "start_time": "2023-11-09T19:03:28.172Z"
   },
   {
    "duration": 61,
    "start_time": "2023-11-09T19:04:17.609Z"
   },
   {
    "duration": 81,
    "start_time": "2023-11-09T19:04:46.722Z"
   },
   {
    "duration": 515,
    "start_time": "2023-11-09T19:05:47.142Z"
   },
   {
    "duration": 8397,
    "start_time": "2023-11-09T19:05:47.659Z"
   },
   {
    "duration": 57,
    "start_time": "2023-11-09T19:05:56.058Z"
   },
   {
    "duration": 32,
    "start_time": "2023-11-09T19:05:56.117Z"
   },
   {
    "duration": 31,
    "start_time": "2023-11-09T19:05:56.151Z"
   },
   {
    "duration": 63,
    "start_time": "2023-11-09T19:05:56.184Z"
   },
   {
    "duration": 47,
    "start_time": "2023-11-09T19:05:56.249Z"
   },
   {
    "duration": 216,
    "start_time": "2023-11-09T19:05:56.297Z"
   },
   {
    "duration": 29,
    "start_time": "2023-11-09T19:05:56.515Z"
   },
   {
    "duration": 50,
    "start_time": "2023-11-09T19:05:56.546Z"
   },
   {
    "duration": 30,
    "start_time": "2023-11-09T19:05:56.598Z"
   },
   {
    "duration": 35,
    "start_time": "2023-11-09T19:05:56.629Z"
   },
   {
    "duration": 39,
    "start_time": "2023-11-09T19:05:56.666Z"
   },
   {
    "duration": 32,
    "start_time": "2023-11-09T19:05:56.707Z"
   },
   {
    "duration": 32,
    "start_time": "2023-11-09T19:05:56.741Z"
   },
   {
    "duration": 46,
    "start_time": "2023-11-09T19:05:56.775Z"
   },
   {
    "duration": 33,
    "start_time": "2023-11-09T19:05:56.822Z"
   },
   {
    "duration": 73,
    "start_time": "2023-11-09T19:11:29.544Z"
   },
   {
    "duration": 72,
    "start_time": "2023-11-09T19:11:38.860Z"
   },
   {
    "duration": 76,
    "start_time": "2023-11-09T19:11:46.997Z"
   },
   {
    "duration": 78,
    "start_time": "2023-11-09T19:11:53.633Z"
   },
   {
    "duration": 78,
    "start_time": "2023-11-09T19:12:17.653Z"
   },
   {
    "duration": 80,
    "start_time": "2023-11-09T19:12:23.509Z"
   },
   {
    "duration": 75,
    "start_time": "2023-11-09T19:28:01.150Z"
   },
   {
    "duration": 77,
    "start_time": "2023-11-09T19:28:16.099Z"
   },
   {
    "duration": 450,
    "start_time": "2024-02-05T09:39:36.292Z"
   },
   {
    "duration": 8082,
    "start_time": "2024-02-05T09:39:36.745Z"
   },
   {
    "duration": 57,
    "start_time": "2024-02-05T09:39:44.829Z"
   },
   {
    "duration": 31,
    "start_time": "2024-02-05T09:39:44.888Z"
   },
   {
    "duration": 31,
    "start_time": "2024-02-05T09:39:44.920Z"
   },
   {
    "duration": 64,
    "start_time": "2024-02-05T09:39:44.952Z"
   },
   {
    "duration": 46,
    "start_time": "2024-02-05T09:39:45.018Z"
   },
   {
    "duration": 254,
    "start_time": "2024-02-05T09:39:45.065Z"
   },
   {
    "duration": 28,
    "start_time": "2024-02-05T09:39:45.321Z"
   },
   {
    "duration": 52,
    "start_time": "2024-02-05T09:39:45.351Z"
   },
   {
    "duration": 29,
    "start_time": "2024-02-05T09:39:45.404Z"
   },
   {
    "duration": 33,
    "start_time": "2024-02-05T09:39:45.435Z"
   },
   {
    "duration": 37,
    "start_time": "2024-02-05T09:39:45.470Z"
   },
   {
    "duration": 32,
    "start_time": "2024-02-05T09:39:45.508Z"
   },
   {
    "duration": 32,
    "start_time": "2024-02-05T09:39:45.541Z"
   },
   {
    "duration": 36,
    "start_time": "2024-02-05T09:39:45.574Z"
   },
   {
    "duration": 32,
    "start_time": "2024-02-05T09:39:45.611Z"
   },
   {
    "duration": 489,
    "start_time": "2024-02-05T10:06:03.537Z"
   },
   {
    "duration": 8482,
    "start_time": "2024-02-05T10:06:04.030Z"
   },
   {
    "duration": 56,
    "start_time": "2024-02-05T10:06:12.513Z"
   },
   {
    "duration": 30,
    "start_time": "2024-02-05T10:06:12.571Z"
   },
   {
    "duration": 29,
    "start_time": "2024-02-05T10:06:12.602Z"
   },
   {
    "duration": 59,
    "start_time": "2024-02-05T10:06:12.632Z"
   },
   {
    "duration": 44,
    "start_time": "2024-02-05T10:06:12.692Z"
   },
   {
    "duration": 223,
    "start_time": "2024-02-05T10:06:12.737Z"
   },
   {
    "duration": 28,
    "start_time": "2024-02-05T10:06:12.961Z"
   },
   {
    "duration": 50,
    "start_time": "2024-02-05T10:06:12.991Z"
   },
   {
    "duration": 29,
    "start_time": "2024-02-05T10:06:13.042Z"
   },
   {
    "duration": 31,
    "start_time": "2024-02-05T10:06:13.072Z"
   },
   {
    "duration": 35,
    "start_time": "2024-02-05T10:06:13.105Z"
   },
   {
    "duration": 31,
    "start_time": "2024-02-05T10:06:13.141Z"
   },
   {
    "duration": 31,
    "start_time": "2024-02-05T10:06:13.173Z"
   },
   {
    "duration": 31,
    "start_time": "2024-02-05T10:06:13.205Z"
   },
   {
    "duration": 30,
    "start_time": "2024-02-05T10:06:13.237Z"
   },
   {
    "duration": 28,
    "start_time": "2024-02-05T10:12:52.174Z"
   },
   {
    "duration": 31,
    "start_time": "2024-02-05T10:13:44.918Z"
   },
   {
    "duration": 26,
    "start_time": "2024-02-05T10:14:46.566Z"
   },
   {
    "duration": 31,
    "start_time": "2024-02-05T10:14:49.102Z"
   },
   {
    "duration": 27,
    "start_time": "2024-02-05T10:15:13.214Z"
   },
   {
    "duration": 28,
    "start_time": "2024-02-05T10:15:23.862Z"
   },
   {
    "duration": 27,
    "start_time": "2024-02-05T10:15:40.950Z"
   },
   {
    "duration": 30,
    "start_time": "2024-02-05T10:16:02.759Z"
   },
   {
    "duration": 27,
    "start_time": "2024-02-05T10:16:20.518Z"
   },
   {
    "duration": 30,
    "start_time": "2024-02-05T10:16:28.590Z"
   },
   {
    "duration": 82,
    "start_time": "2024-02-05T10:16:39.910Z"
   },
   {
    "duration": 28,
    "start_time": "2024-02-05T10:16:48.551Z"
   },
   {
    "duration": 27,
    "start_time": "2024-02-05T10:17:06.031Z"
   },
   {
    "duration": 29,
    "start_time": "2024-02-05T10:17:15.121Z"
   },
   {
    "duration": 509,
    "start_time": "2024-02-05T10:29:57.139Z"
   }
  ],
  "kernelspec": {
   "display_name": "Python 3 (ipykernel)",
   "language": "python",
   "name": "python3"
  },
  "language_info": {
   "codemirror_mode": {
    "name": "ipython",
    "version": 3
   },
   "file_extension": ".py",
   "mimetype": "text/x-python",
   "name": "python",
   "nbconvert_exporter": "python",
   "pygments_lexer": "ipython3",
   "version": "3.9.5"
  },
  "toc": {
   "base_numbering": 1,
   "nav_menu": {},
   "number_sections": false,
   "sideBar": true,
   "skip_h1_title": true,
   "title_cell": "Table of Contents",
   "title_sidebar": "Contents",
   "toc_cell": false,
   "toc_position": {
    "height": "697.949px",
    "left": "2.98828px",
    "top": "111.113px",
    "width": "195.125px"
   },
   "toc_section_display": true,
   "toc_window_display": false
  }
 },
 "nbformat": 4,
 "nbformat_minor": 2
}
