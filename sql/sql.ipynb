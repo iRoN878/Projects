{
 "cells": [
  {
   "cell_type": "markdown",
   "metadata": {},
   "source": [
    "## Проект по SQL"
   ]
  },
  {
   "cell_type": "markdown",
   "metadata": {},
   "source": [
    "### Описание проекта\n",
    "Коронавирус застал мир врасплох, изменив привычный порядок вещей. В свободное время жители городов больше не выходят на улицу, не посещают кафе и торговые центры. Зато стало больше времени для книг. Это заметили стартаперы — и бросились создавать приложения для тех, кто любит читать.\n",
    "\n",
    "Ваша компания решила быть на волне и купила крупный сервис для чтения книг по подписке. В нашем распоряжении имеется база данных.\n",
    "В ней — информация о книгах, издательствах, авторах, а также пользовательские обзоры книг. Эти данные помогут сформулировать ценностное предложение для нового продукта.\n",
    "\n",
    "Цель проекта: проанализировать базу данных."
   ]
  },
  {
   "cell_type": "markdown",
   "metadata": {},
   "source": [
    "### Описание данных\n",
    "\n",
    "Таблица books содержит данные о книгах:\n",
    "- book_id — идентификатор книги\n",
    "- author_id — идентификатор автора\n",
    "- title — название книги\n",
    "- num_pages — количество страниц\n",
    "- publication_date — дата публикации книги\n",
    "- publisher_id — идентификатор издателя\n",
    "\n",
    "Таблица authors содержит данные об авторах:\n",
    "- author_id — идентификатор автора\n",
    "- author — имя автора\n",
    "\n",
    "Таблица publishers содержит данные об издательствах:\n",
    "- publisher_id — идентификатор издательства\n",
    "- publisher — название издательства\n",
    "\n",
    "Таблица ratings содержит данные о пользовательских оценках книг:\n",
    "- rating_id — идентификатор оценки\n",
    "- book_id — идентификатор книги\n",
    "- username — имя пользователя, оставившего оценку\n",
    "- rating — оценка книги\n",
    "\n",
    "Таблица reviews содержит данные о пользовательских обзорах:\n",
    "- review_id — идентификатор обзора\n",
    "- book_id — идентификатор книги\n",
    "- username — имя автора обзора\n",
    "- text — текст обзора"
   ]
  },
  {
   "cell_type": "markdown",
   "metadata": {},
   "source": [
    "### План выполнения задания\n",
    "- Описание исследования\n",
    "- Исследование таблиц — вывод первых строк\n",
    "- Сделать по одному SQL-запросу для решения каждого задания\n",
    "- Вывести результаты каждого запроса в тетрадке\n",
    "- Описать выводы по каждой из решённых задач"
   ]
  },
  {
   "cell_type": "code",
   "execution_count": 1,
   "metadata": {},
   "outputs": [],
   "source": [
    "# импортируем библиотеки\n",
    "import pandas as pd\n",
    "from sqlalchemy import text, create_engine"
   ]
  },
  {
   "cell_type": "code",
   "execution_count": 2,
   "metadata": {},
   "outputs": [
    {
     "data": {
      "text/html": [
       "<div>\n",
       "<style scoped>\n",
       "    .dataframe tbody tr th:only-of-type {\n",
       "        vertical-align: middle;\n",
       "    }\n",
       "\n",
       "    .dataframe tbody tr th {\n",
       "        vertical-align: top;\n",
       "    }\n",
       "\n",
       "    .dataframe thead th {\n",
       "        text-align: right;\n",
       "    }\n",
       "</style>\n",
       "<table border=\"1\" class=\"dataframe\">\n",
       "  <thead>\n",
       "    <tr style=\"text-align: right;\">\n",
       "      <th></th>\n",
       "      <th>book_id</th>\n",
       "      <th>author_id</th>\n",
       "      <th>title</th>\n",
       "      <th>num_pages</th>\n",
       "      <th>publication_date</th>\n",
       "      <th>publisher_id</th>\n",
       "    </tr>\n",
       "  </thead>\n",
       "  <tbody>\n",
       "    <tr>\n",
       "      <th>0</th>\n",
       "      <td>1</td>\n",
       "      <td>546</td>\n",
       "      <td>'Salem's Lot</td>\n",
       "      <td>594</td>\n",
       "      <td>2005-11-01</td>\n",
       "      <td>93</td>\n",
       "    </tr>\n",
       "  </tbody>\n",
       "</table>\n",
       "</div>"
      ],
      "text/plain": [
       "   book_id  author_id         title  num_pages publication_date  publisher_id\n",
       "0        1        546  'Salem's Lot        594       2005-11-01            93"
      ]
     },
     "execution_count": 2,
     "metadata": {},
     "output_type": "execute_result"
    }
   ],
   "source": [
    "# устанавливаем параметры\n",
    "db_config = {'user': 'praktikum_student', # имя пользователя\n",
    "'pwd': 'Sdf4$2;d-d30pp', # пароль\n",
    "'host': 'rc1b-wcoijxj3yxfsf3fs.mdb.yandexcloud.net',\n",
    "'port': 6432, # порт подключения\n",
    "'db': 'data-analyst-final-project-db'} # название базы данных\n",
    "connection_string = 'postgresql://{user}:{pwd}@{host}:{port}/{db}'.format(**db_config)\n",
    "# сохраняем коннектор\n",
    "engine = create_engine(connection_string, connect_args={'sslmode':'require'})\n",
    "# чтобы выполнить SQL-запрос, используем Pandas\n",
    "query = '''SELECT * FROM books LIMIT 1'''\n",
    "con=engine.connect()\n",
    "pd.io.sql.read_sql(sql=text(query), con = con)"
   ]
  },
  {
   "cell_type": "markdown",
   "metadata": {},
   "source": [
    "## Исследование таблиц"
   ]
  },
  {
   "cell_type": "markdown",
   "metadata": {},
   "source": [
    "### Таблица books содержит данные о книгах"
   ]
  },
  {
   "cell_type": "code",
   "execution_count": 3,
   "metadata": {},
   "outputs": [
    {
     "data": {
      "text/html": [
       "<div>\n",
       "<style scoped>\n",
       "    .dataframe tbody tr th:only-of-type {\n",
       "        vertical-align: middle;\n",
       "    }\n",
       "\n",
       "    .dataframe tbody tr th {\n",
       "        vertical-align: top;\n",
       "    }\n",
       "\n",
       "    .dataframe thead th {\n",
       "        text-align: right;\n",
       "    }\n",
       "</style>\n",
       "<table border=\"1\" class=\"dataframe\">\n",
       "  <thead>\n",
       "    <tr style=\"text-align: right;\">\n",
       "      <th></th>\n",
       "      <th>count</th>\n",
       "    </tr>\n",
       "  </thead>\n",
       "  <tbody>\n",
       "    <tr>\n",
       "      <th>0</th>\n",
       "      <td>1000</td>\n",
       "    </tr>\n",
       "  </tbody>\n",
       "</table>\n",
       "</div>"
      ],
      "text/plain": [
       "   count\n",
       "0   1000"
      ]
     },
     "execution_count": 3,
     "metadata": {},
     "output_type": "execute_result"
    }
   ],
   "source": [
    "query = '''\n",
    "SELECT COUNT(*)\n",
    "FROM books\n",
    "LIMIT 5\n",
    "'''\n",
    "pd.io.sql.read_sql(sql=text(query), con = con)"
   ]
  },
  {
   "cell_type": "code",
   "execution_count": 4,
   "metadata": {},
   "outputs": [
    {
     "data": {
      "text/html": [
       "<div>\n",
       "<style scoped>\n",
       "    .dataframe tbody tr th:only-of-type {\n",
       "        vertical-align: middle;\n",
       "    }\n",
       "\n",
       "    .dataframe tbody tr th {\n",
       "        vertical-align: top;\n",
       "    }\n",
       "\n",
       "    .dataframe thead th {\n",
       "        text-align: right;\n",
       "    }\n",
       "</style>\n",
       "<table border=\"1\" class=\"dataframe\">\n",
       "  <thead>\n",
       "    <tr style=\"text-align: right;\">\n",
       "      <th></th>\n",
       "      <th>book_id</th>\n",
       "      <th>author_id</th>\n",
       "      <th>title</th>\n",
       "      <th>num_pages</th>\n",
       "      <th>publication_date</th>\n",
       "      <th>publisher_id</th>\n",
       "    </tr>\n",
       "  </thead>\n",
       "  <tbody>\n",
       "    <tr>\n",
       "      <th>0</th>\n",
       "      <td>1</td>\n",
       "      <td>546</td>\n",
       "      <td>'Salem's Lot</td>\n",
       "      <td>594</td>\n",
       "      <td>2005-11-01</td>\n",
       "      <td>93</td>\n",
       "    </tr>\n",
       "    <tr>\n",
       "      <th>1</th>\n",
       "      <td>2</td>\n",
       "      <td>465</td>\n",
       "      <td>1 000 Places to See Before You Die</td>\n",
       "      <td>992</td>\n",
       "      <td>2003-05-22</td>\n",
       "      <td>336</td>\n",
       "    </tr>\n",
       "    <tr>\n",
       "      <th>2</th>\n",
       "      <td>3</td>\n",
       "      <td>407</td>\n",
       "      <td>13 Little Blue Envelopes (Little Blue Envelope...</td>\n",
       "      <td>322</td>\n",
       "      <td>2010-12-21</td>\n",
       "      <td>135</td>\n",
       "    </tr>\n",
       "    <tr>\n",
       "      <th>3</th>\n",
       "      <td>4</td>\n",
       "      <td>82</td>\n",
       "      <td>1491: New Revelations of the Americas Before C...</td>\n",
       "      <td>541</td>\n",
       "      <td>2006-10-10</td>\n",
       "      <td>309</td>\n",
       "    </tr>\n",
       "    <tr>\n",
       "      <th>4</th>\n",
       "      <td>5</td>\n",
       "      <td>125</td>\n",
       "      <td>1776</td>\n",
       "      <td>386</td>\n",
       "      <td>2006-07-04</td>\n",
       "      <td>268</td>\n",
       "    </tr>\n",
       "  </tbody>\n",
       "</table>\n",
       "</div>"
      ],
      "text/plain": [
       "   book_id  author_id                                              title  \\\n",
       "0        1        546                                       'Salem's Lot   \n",
       "1        2        465                 1 000 Places to See Before You Die   \n",
       "2        3        407  13 Little Blue Envelopes (Little Blue Envelope...   \n",
       "3        4         82  1491: New Revelations of the Americas Before C...   \n",
       "4        5        125                                               1776   \n",
       "\n",
       "   num_pages publication_date  publisher_id  \n",
       "0        594       2005-11-01            93  \n",
       "1        992       2003-05-22           336  \n",
       "2        322       2010-12-21           135  \n",
       "3        541       2006-10-10           309  \n",
       "4        386       2006-07-04           268  "
      ]
     },
     "execution_count": 4,
     "metadata": {},
     "output_type": "execute_result"
    }
   ],
   "source": [
    "query = '''\n",
    "SELECT *\n",
    "FROM books\n",
    "LIMIT 5\n",
    "'''\n",
    "pd.io.sql.read_sql(sql=text(query), con = con)"
   ]
  },
  {
   "cell_type": "markdown",
   "metadata": {},
   "source": [
    "### Таблица authors содержит данные об авторах:"
   ]
  },
  {
   "cell_type": "code",
   "execution_count": 5,
   "metadata": {},
   "outputs": [
    {
     "data": {
      "text/html": [
       "<div>\n",
       "<style scoped>\n",
       "    .dataframe tbody tr th:only-of-type {\n",
       "        vertical-align: middle;\n",
       "    }\n",
       "\n",
       "    .dataframe tbody tr th {\n",
       "        vertical-align: top;\n",
       "    }\n",
       "\n",
       "    .dataframe thead th {\n",
       "        text-align: right;\n",
       "    }\n",
       "</style>\n",
       "<table border=\"1\" class=\"dataframe\">\n",
       "  <thead>\n",
       "    <tr style=\"text-align: right;\">\n",
       "      <th></th>\n",
       "      <th>count</th>\n",
       "    </tr>\n",
       "  </thead>\n",
       "  <tbody>\n",
       "    <tr>\n",
       "      <th>0</th>\n",
       "      <td>636</td>\n",
       "    </tr>\n",
       "  </tbody>\n",
       "</table>\n",
       "</div>"
      ],
      "text/plain": [
       "   count\n",
       "0    636"
      ]
     },
     "execution_count": 5,
     "metadata": {},
     "output_type": "execute_result"
    }
   ],
   "source": [
    "query = '''\n",
    "SELECT COUNT(*)\n",
    "FROM authors\n",
    "'''\n",
    "pd.io.sql.read_sql(sql=text(query), con = con)"
   ]
  },
  {
   "cell_type": "code",
   "execution_count": 6,
   "metadata": {},
   "outputs": [
    {
     "data": {
      "text/html": [
       "<div>\n",
       "<style scoped>\n",
       "    .dataframe tbody tr th:only-of-type {\n",
       "        vertical-align: middle;\n",
       "    }\n",
       "\n",
       "    .dataframe tbody tr th {\n",
       "        vertical-align: top;\n",
       "    }\n",
       "\n",
       "    .dataframe thead th {\n",
       "        text-align: right;\n",
       "    }\n",
       "</style>\n",
       "<table border=\"1\" class=\"dataframe\">\n",
       "  <thead>\n",
       "    <tr style=\"text-align: right;\">\n",
       "      <th></th>\n",
       "      <th>author_id</th>\n",
       "      <th>author</th>\n",
       "    </tr>\n",
       "  </thead>\n",
       "  <tbody>\n",
       "    <tr>\n",
       "      <th>0</th>\n",
       "      <td>1</td>\n",
       "      <td>A.S. Byatt</td>\n",
       "    </tr>\n",
       "    <tr>\n",
       "      <th>1</th>\n",
       "      <td>2</td>\n",
       "      <td>Aesop/Laura Harris/Laura Gibbs</td>\n",
       "    </tr>\n",
       "    <tr>\n",
       "      <th>2</th>\n",
       "      <td>3</td>\n",
       "      <td>Agatha Christie</td>\n",
       "    </tr>\n",
       "    <tr>\n",
       "      <th>3</th>\n",
       "      <td>4</td>\n",
       "      <td>Alan Brennert</td>\n",
       "    </tr>\n",
       "    <tr>\n",
       "      <th>4</th>\n",
       "      <td>5</td>\n",
       "      <td>Alan Moore/David   Lloyd</td>\n",
       "    </tr>\n",
       "  </tbody>\n",
       "</table>\n",
       "</div>"
      ],
      "text/plain": [
       "   author_id                          author\n",
       "0          1                      A.S. Byatt\n",
       "1          2  Aesop/Laura Harris/Laura Gibbs\n",
       "2          3                 Agatha Christie\n",
       "3          4                   Alan Brennert\n",
       "4          5        Alan Moore/David   Lloyd"
      ]
     },
     "execution_count": 6,
     "metadata": {},
     "output_type": "execute_result"
    }
   ],
   "source": [
    "query = '''\n",
    "SELECT *\n",
    "FROM authors\n",
    "LIMIT 5\n",
    "'''\n",
    "pd.io.sql.read_sql(sql=text(query), con = con)"
   ]
  },
  {
   "cell_type": "markdown",
   "metadata": {},
   "source": [
    "### Таблица publishers содержит данные об издательствах:"
   ]
  },
  {
   "cell_type": "code",
   "execution_count": 7,
   "metadata": {},
   "outputs": [
    {
     "data": {
      "text/html": [
       "<div>\n",
       "<style scoped>\n",
       "    .dataframe tbody tr th:only-of-type {\n",
       "        vertical-align: middle;\n",
       "    }\n",
       "\n",
       "    .dataframe tbody tr th {\n",
       "        vertical-align: top;\n",
       "    }\n",
       "\n",
       "    .dataframe thead th {\n",
       "        text-align: right;\n",
       "    }\n",
       "</style>\n",
       "<table border=\"1\" class=\"dataframe\">\n",
       "  <thead>\n",
       "    <tr style=\"text-align: right;\">\n",
       "      <th></th>\n",
       "      <th>count</th>\n",
       "    </tr>\n",
       "  </thead>\n",
       "  <tbody>\n",
       "    <tr>\n",
       "      <th>0</th>\n",
       "      <td>340</td>\n",
       "    </tr>\n",
       "  </tbody>\n",
       "</table>\n",
       "</div>"
      ],
      "text/plain": [
       "   count\n",
       "0    340"
      ]
     },
     "execution_count": 7,
     "metadata": {},
     "output_type": "execute_result"
    }
   ],
   "source": [
    "query = '''\n",
    "SELECT COUNT(*)\n",
    "FROM publishers\n",
    "'''\n",
    "pd.io.sql.read_sql(sql=text(query), con = con)"
   ]
  },
  {
   "cell_type": "code",
   "execution_count": 8,
   "metadata": {},
   "outputs": [
    {
     "data": {
      "text/html": [
       "<div>\n",
       "<style scoped>\n",
       "    .dataframe tbody tr th:only-of-type {\n",
       "        vertical-align: middle;\n",
       "    }\n",
       "\n",
       "    .dataframe tbody tr th {\n",
       "        vertical-align: top;\n",
       "    }\n",
       "\n",
       "    .dataframe thead th {\n",
       "        text-align: right;\n",
       "    }\n",
       "</style>\n",
       "<table border=\"1\" class=\"dataframe\">\n",
       "  <thead>\n",
       "    <tr style=\"text-align: right;\">\n",
       "      <th></th>\n",
       "      <th>publisher_id</th>\n",
       "      <th>publisher</th>\n",
       "    </tr>\n",
       "  </thead>\n",
       "  <tbody>\n",
       "    <tr>\n",
       "      <th>0</th>\n",
       "      <td>1</td>\n",
       "      <td>Ace</td>\n",
       "    </tr>\n",
       "    <tr>\n",
       "      <th>1</th>\n",
       "      <td>2</td>\n",
       "      <td>Ace Book</td>\n",
       "    </tr>\n",
       "    <tr>\n",
       "      <th>2</th>\n",
       "      <td>3</td>\n",
       "      <td>Ace Books</td>\n",
       "    </tr>\n",
       "    <tr>\n",
       "      <th>3</th>\n",
       "      <td>4</td>\n",
       "      <td>Ace Hardcover</td>\n",
       "    </tr>\n",
       "    <tr>\n",
       "      <th>4</th>\n",
       "      <td>5</td>\n",
       "      <td>Addison Wesley Publishing Company</td>\n",
       "    </tr>\n",
       "  </tbody>\n",
       "</table>\n",
       "</div>"
      ],
      "text/plain": [
       "   publisher_id                          publisher\n",
       "0             1                                Ace\n",
       "1             2                           Ace Book\n",
       "2             3                          Ace Books\n",
       "3             4                      Ace Hardcover\n",
       "4             5  Addison Wesley Publishing Company"
      ]
     },
     "execution_count": 8,
     "metadata": {},
     "output_type": "execute_result"
    }
   ],
   "source": [
    "query = '''\n",
    "SELECT *\n",
    "FROM publishers\n",
    "LIMIT 5\n",
    "'''\n",
    "pd.io.sql.read_sql(sql=text(query), con = con)"
   ]
  },
  {
   "cell_type": "markdown",
   "metadata": {},
   "source": [
    "### Таблица ratings содержит данные о пользовательских оценках книг:\n"
   ]
  },
  {
   "cell_type": "code",
   "execution_count": 9,
   "metadata": {},
   "outputs": [
    {
     "data": {
      "text/html": [
       "<div>\n",
       "<style scoped>\n",
       "    .dataframe tbody tr th:only-of-type {\n",
       "        vertical-align: middle;\n",
       "    }\n",
       "\n",
       "    .dataframe tbody tr th {\n",
       "        vertical-align: top;\n",
       "    }\n",
       "\n",
       "    .dataframe thead th {\n",
       "        text-align: right;\n",
       "    }\n",
       "</style>\n",
       "<table border=\"1\" class=\"dataframe\">\n",
       "  <thead>\n",
       "    <tr style=\"text-align: right;\">\n",
       "      <th></th>\n",
       "      <th>count</th>\n",
       "    </tr>\n",
       "  </thead>\n",
       "  <tbody>\n",
       "    <tr>\n",
       "      <th>0</th>\n",
       "      <td>6456</td>\n",
       "    </tr>\n",
       "  </tbody>\n",
       "</table>\n",
       "</div>"
      ],
      "text/plain": [
       "   count\n",
       "0   6456"
      ]
     },
     "execution_count": 9,
     "metadata": {},
     "output_type": "execute_result"
    }
   ],
   "source": [
    "query = '''\n",
    "SELECT COUNT(*)\n",
    "FROM ratings\n",
    "'''\n",
    "pd.io.sql.read_sql(sql=text(query), con = con)"
   ]
  },
  {
   "cell_type": "code",
   "execution_count": 10,
   "metadata": {},
   "outputs": [
    {
     "data": {
      "text/html": [
       "<div>\n",
       "<style scoped>\n",
       "    .dataframe tbody tr th:only-of-type {\n",
       "        vertical-align: middle;\n",
       "    }\n",
       "\n",
       "    .dataframe tbody tr th {\n",
       "        vertical-align: top;\n",
       "    }\n",
       "\n",
       "    .dataframe thead th {\n",
       "        text-align: right;\n",
       "    }\n",
       "</style>\n",
       "<table border=\"1\" class=\"dataframe\">\n",
       "  <thead>\n",
       "    <tr style=\"text-align: right;\">\n",
       "      <th></th>\n",
       "      <th>rating_id</th>\n",
       "      <th>book_id</th>\n",
       "      <th>username</th>\n",
       "      <th>rating</th>\n",
       "    </tr>\n",
       "  </thead>\n",
       "  <tbody>\n",
       "    <tr>\n",
       "      <th>0</th>\n",
       "      <td>1</td>\n",
       "      <td>1</td>\n",
       "      <td>ryanfranco</td>\n",
       "      <td>4</td>\n",
       "    </tr>\n",
       "    <tr>\n",
       "      <th>1</th>\n",
       "      <td>2</td>\n",
       "      <td>1</td>\n",
       "      <td>grantpatricia</td>\n",
       "      <td>2</td>\n",
       "    </tr>\n",
       "    <tr>\n",
       "      <th>2</th>\n",
       "      <td>3</td>\n",
       "      <td>1</td>\n",
       "      <td>brandtandrea</td>\n",
       "      <td>5</td>\n",
       "    </tr>\n",
       "    <tr>\n",
       "      <th>3</th>\n",
       "      <td>4</td>\n",
       "      <td>2</td>\n",
       "      <td>lorichen</td>\n",
       "      <td>3</td>\n",
       "    </tr>\n",
       "    <tr>\n",
       "      <th>4</th>\n",
       "      <td>5</td>\n",
       "      <td>2</td>\n",
       "      <td>mariokeller</td>\n",
       "      <td>2</td>\n",
       "    </tr>\n",
       "  </tbody>\n",
       "</table>\n",
       "</div>"
      ],
      "text/plain": [
       "   rating_id  book_id       username  rating\n",
       "0          1        1     ryanfranco       4\n",
       "1          2        1  grantpatricia       2\n",
       "2          3        1   brandtandrea       5\n",
       "3          4        2       lorichen       3\n",
       "4          5        2    mariokeller       2"
      ]
     },
     "execution_count": 10,
     "metadata": {},
     "output_type": "execute_result"
    }
   ],
   "source": [
    "query = '''\n",
    "SELECT *\n",
    "FROM ratings\n",
    "LIMIT 5\n",
    "'''\n",
    "pd.io.sql.read_sql(sql=text(query), con = con)"
   ]
  },
  {
   "cell_type": "markdown",
   "metadata": {},
   "source": [
    "### Таблица reviews содержит данные о пользовательских обзорах:\n"
   ]
  },
  {
   "cell_type": "code",
   "execution_count": 11,
   "metadata": {},
   "outputs": [
    {
     "data": {
      "text/html": [
       "<div>\n",
       "<style scoped>\n",
       "    .dataframe tbody tr th:only-of-type {\n",
       "        vertical-align: middle;\n",
       "    }\n",
       "\n",
       "    .dataframe tbody tr th {\n",
       "        vertical-align: top;\n",
       "    }\n",
       "\n",
       "    .dataframe thead th {\n",
       "        text-align: right;\n",
       "    }\n",
       "</style>\n",
       "<table border=\"1\" class=\"dataframe\">\n",
       "  <thead>\n",
       "    <tr style=\"text-align: right;\">\n",
       "      <th></th>\n",
       "      <th>count</th>\n",
       "    </tr>\n",
       "  </thead>\n",
       "  <tbody>\n",
       "    <tr>\n",
       "      <th>0</th>\n",
       "      <td>2793</td>\n",
       "    </tr>\n",
       "  </tbody>\n",
       "</table>\n",
       "</div>"
      ],
      "text/plain": [
       "   count\n",
       "0   2793"
      ]
     },
     "execution_count": 11,
     "metadata": {},
     "output_type": "execute_result"
    }
   ],
   "source": [
    "query = '''\n",
    "SELECT COUNT(*)\n",
    "FROM reviews\n",
    "'''\n",
    "pd.io.sql.read_sql(sql=text(query), con = con)"
   ]
  },
  {
   "cell_type": "code",
   "execution_count": 12,
   "metadata": {},
   "outputs": [
    {
     "data": {
      "text/html": [
       "<div>\n",
       "<style scoped>\n",
       "    .dataframe tbody tr th:only-of-type {\n",
       "        vertical-align: middle;\n",
       "    }\n",
       "\n",
       "    .dataframe tbody tr th {\n",
       "        vertical-align: top;\n",
       "    }\n",
       "\n",
       "    .dataframe thead th {\n",
       "        text-align: right;\n",
       "    }\n",
       "</style>\n",
       "<table border=\"1\" class=\"dataframe\">\n",
       "  <thead>\n",
       "    <tr style=\"text-align: right;\">\n",
       "      <th></th>\n",
       "      <th>review_id</th>\n",
       "      <th>book_id</th>\n",
       "      <th>username</th>\n",
       "      <th>text</th>\n",
       "    </tr>\n",
       "  </thead>\n",
       "  <tbody>\n",
       "    <tr>\n",
       "      <th>0</th>\n",
       "      <td>1</td>\n",
       "      <td>1</td>\n",
       "      <td>brandtandrea</td>\n",
       "      <td>Mention society tell send professor analysis. ...</td>\n",
       "    </tr>\n",
       "    <tr>\n",
       "      <th>1</th>\n",
       "      <td>2</td>\n",
       "      <td>1</td>\n",
       "      <td>ryanfranco</td>\n",
       "      <td>Foot glass pretty audience hit themselves. Amo...</td>\n",
       "    </tr>\n",
       "    <tr>\n",
       "      <th>2</th>\n",
       "      <td>3</td>\n",
       "      <td>2</td>\n",
       "      <td>lorichen</td>\n",
       "      <td>Listen treat keep worry. Miss husband tax but ...</td>\n",
       "    </tr>\n",
       "    <tr>\n",
       "      <th>3</th>\n",
       "      <td>4</td>\n",
       "      <td>3</td>\n",
       "      <td>johnsonamanda</td>\n",
       "      <td>Finally month interesting blue could nature cu...</td>\n",
       "    </tr>\n",
       "    <tr>\n",
       "      <th>4</th>\n",
       "      <td>5</td>\n",
       "      <td>3</td>\n",
       "      <td>scotttamara</td>\n",
       "      <td>Nation purpose heavy give wait song will. List...</td>\n",
       "    </tr>\n",
       "  </tbody>\n",
       "</table>\n",
       "</div>"
      ],
      "text/plain": [
       "   review_id  book_id       username  \\\n",
       "0          1        1   brandtandrea   \n",
       "1          2        1     ryanfranco   \n",
       "2          3        2       lorichen   \n",
       "3          4        3  johnsonamanda   \n",
       "4          5        3    scotttamara   \n",
       "\n",
       "                                                text  \n",
       "0  Mention society tell send professor analysis. ...  \n",
       "1  Foot glass pretty audience hit themselves. Amo...  \n",
       "2  Listen treat keep worry. Miss husband tax but ...  \n",
       "3  Finally month interesting blue could nature cu...  \n",
       "4  Nation purpose heavy give wait song will. List...  "
      ]
     },
     "execution_count": 12,
     "metadata": {},
     "output_type": "execute_result"
    }
   ],
   "source": [
    "query = '''\n",
    "SELECT *\n",
    "FROM reviews\n",
    "LIMIT 5\n",
    "'''\n",
    "pd.io.sql.read_sql(sql=text(query), con = con)"
   ]
  },
  {
   "cell_type": "markdown",
   "metadata": {},
   "source": [
    "### Вывод\n",
    "- В таблице books содержится информация о 1000 книгах\n",
    "- В таблице authors содержится информация о 636 авторах\n",
    "- В таблице publishers содержится информация о 340 издательствах\n",
    "- В таблице ratings содержится информация о 6456 оценках\n",
    "- В таблице reviews содержится информация о 2793 пользовательских обзорах"
   ]
  },
  {
   "cell_type": "markdown",
   "metadata": {},
   "source": [
    "## SQL-запросы для решения каждого задания"
   ]
  },
  {
   "cell_type": "markdown",
   "metadata": {},
   "source": [
    "### Посчитаю, сколько книг вышло после 1 января 2000 года"
   ]
  },
  {
   "cell_type": "code",
   "execution_count": 13,
   "metadata": {},
   "outputs": [
    {
     "data": {
      "text/html": [
       "<div>\n",
       "<style scoped>\n",
       "    .dataframe tbody tr th:only-of-type {\n",
       "        vertical-align: middle;\n",
       "    }\n",
       "\n",
       "    .dataframe tbody tr th {\n",
       "        vertical-align: top;\n",
       "    }\n",
       "\n",
       "    .dataframe thead th {\n",
       "        text-align: right;\n",
       "    }\n",
       "</style>\n",
       "<table border=\"1\" class=\"dataframe\">\n",
       "  <thead>\n",
       "    <tr style=\"text-align: right;\">\n",
       "      <th></th>\n",
       "      <th>kolichestvo_knig</th>\n",
       "    </tr>\n",
       "  </thead>\n",
       "  <tbody>\n",
       "    <tr>\n",
       "      <th>0</th>\n",
       "      <td>819</td>\n",
       "    </tr>\n",
       "  </tbody>\n",
       "</table>\n",
       "</div>"
      ],
      "text/plain": [
       "   kolichestvo_knig\n",
       "0               819"
      ]
     },
     "execution_count": 13,
     "metadata": {},
     "output_type": "execute_result"
    }
   ],
   "source": [
    "query = '''\n",
    "SELECT COUNT(DISTINCT book_id) as kolichestvo_knig\n",
    "FROM books\n",
    "WHERE publication_date > '2000-01-01'\n",
    "'''\n",
    "pd.io.sql.read_sql(sql=text(query), con = con)"
   ]
  },
  {
   "cell_type": "markdown",
   "metadata": {},
   "source": [
    "### Вывод\n",
    "- После 1 января вышло 819 книг"
   ]
  },
  {
   "cell_type": "markdown",
   "metadata": {},
   "source": [
    "### Для каждой книги посчитаю количество обзоров и среднюю оценку"
   ]
  },
  {
   "cell_type": "code",
   "execution_count": 14,
   "metadata": {},
   "outputs": [
    {
     "data": {
      "text/html": [
       "<div>\n",
       "<style scoped>\n",
       "    .dataframe tbody tr th:only-of-type {\n",
       "        vertical-align: middle;\n",
       "    }\n",
       "\n",
       "    .dataframe tbody tr th {\n",
       "        vertical-align: top;\n",
       "    }\n",
       "\n",
       "    .dataframe thead th {\n",
       "        text-align: right;\n",
       "    }\n",
       "</style>\n",
       "<table border=\"1\" class=\"dataframe\">\n",
       "  <thead>\n",
       "    <tr style=\"text-align: right;\">\n",
       "      <th></th>\n",
       "      <th>nazvanie</th>\n",
       "      <th>kolichestvo_obzorov</th>\n",
       "      <th>sredni_rating</th>\n",
       "    </tr>\n",
       "  </thead>\n",
       "  <tbody>\n",
       "    <tr>\n",
       "      <th>0</th>\n",
       "      <td>Memoirs of a Geisha</td>\n",
       "      <td>8</td>\n",
       "      <td>4.138462</td>\n",
       "    </tr>\n",
       "    <tr>\n",
       "      <th>1</th>\n",
       "      <td>Twilight (Twilight  #1)</td>\n",
       "      <td>7</td>\n",
       "      <td>3.662500</td>\n",
       "    </tr>\n",
       "    <tr>\n",
       "      <th>2</th>\n",
       "      <td>Harry Potter and the Chamber of Secrets (Harry...</td>\n",
       "      <td>6</td>\n",
       "      <td>4.287500</td>\n",
       "    </tr>\n",
       "    <tr>\n",
       "      <th>3</th>\n",
       "      <td>The Glass Castle</td>\n",
       "      <td>6</td>\n",
       "      <td>4.206897</td>\n",
       "    </tr>\n",
       "    <tr>\n",
       "      <th>4</th>\n",
       "      <td>Eat  Pray  Love</td>\n",
       "      <td>6</td>\n",
       "      <td>3.395833</td>\n",
       "    </tr>\n",
       "    <tr>\n",
       "      <th>...</th>\n",
       "      <td>...</td>\n",
       "      <td>...</td>\n",
       "      <td>...</td>\n",
       "    </tr>\n",
       "    <tr>\n",
       "      <th>994</th>\n",
       "      <td>Anne Rice's The Vampire Lestat: A Graphic Novel</td>\n",
       "      <td>0</td>\n",
       "      <td>3.666667</td>\n",
       "    </tr>\n",
       "    <tr>\n",
       "      <th>995</th>\n",
       "      <td>The Natural Way to Draw</td>\n",
       "      <td>0</td>\n",
       "      <td>3.000000</td>\n",
       "    </tr>\n",
       "    <tr>\n",
       "      <th>996</th>\n",
       "      <td>The Cat in the Hat and Other Dr. Seuss Favorites</td>\n",
       "      <td>0</td>\n",
       "      <td>5.000000</td>\n",
       "    </tr>\n",
       "    <tr>\n",
       "      <th>997</th>\n",
       "      <td>Essential Tales and Poems</td>\n",
       "      <td>0</td>\n",
       "      <td>4.000000</td>\n",
       "    </tr>\n",
       "    <tr>\n",
       "      <th>998</th>\n",
       "      <td>Disney's Beauty and the Beast (A Little Golden...</td>\n",
       "      <td>0</td>\n",
       "      <td>4.000000</td>\n",
       "    </tr>\n",
       "  </tbody>\n",
       "</table>\n",
       "<p>999 rows × 3 columns</p>\n",
       "</div>"
      ],
      "text/plain": [
       "                                              nazvanie  kolichestvo_obzorov  \\\n",
       "0                                  Memoirs of a Geisha                    8   \n",
       "1                              Twilight (Twilight  #1)                    7   \n",
       "2    Harry Potter and the Chamber of Secrets (Harry...                    6   \n",
       "3                                     The Glass Castle                    6   \n",
       "4                                      Eat  Pray  Love                    6   \n",
       "..                                                 ...                  ...   \n",
       "994    Anne Rice's The Vampire Lestat: A Graphic Novel                    0   \n",
       "995                            The Natural Way to Draw                    0   \n",
       "996   The Cat in the Hat and Other Dr. Seuss Favorites                    0   \n",
       "997                          Essential Tales and Poems                    0   \n",
       "998  Disney's Beauty and the Beast (A Little Golden...                    0   \n",
       "\n",
       "     sredni_rating  \n",
       "0         4.138462  \n",
       "1         3.662500  \n",
       "2         4.287500  \n",
       "3         4.206897  \n",
       "4         3.395833  \n",
       "..             ...  \n",
       "994       3.666667  \n",
       "995       3.000000  \n",
       "996       5.000000  \n",
       "997       4.000000  \n",
       "998       4.000000  \n",
       "\n",
       "[999 rows x 3 columns]"
      ]
     },
     "execution_count": 14,
     "metadata": {},
     "output_type": "execute_result"
    }
   ],
   "source": [
    "query = '''\n",
    "SELECT title as nazvanie,\n",
    "       COUNT(DISTINCT review_id) as kolichestvo_obzorov,\n",
    "       AVG(rating) as sredni_rating\n",
    "FROM books as b\n",
    "LEFT JOIN reviews as r ON b.book_id = r.book_id\n",
    "FULL JOIN ratings as re ON b.book_id = re.book_id\n",
    "GROUP BY nazvanie\n",
    "ORDER BY kolichestvo_obzorov DESC\n",
    "'''\n",
    "pd.io.sql.read_sql(sql=text(query), con = con)"
   ]
  },
  {
   "cell_type": "markdown",
   "metadata": {},
   "source": [
    "### Вывод\n",
    "- Максимальное количество обзоров (8) и рейтинг (4.138) имеет книга Мемуары Гейши"
   ]
  },
  {
   "cell_type": "markdown",
   "metadata": {},
   "source": [
    "### Определю издательство, которое выпустило наибольшее число книг толще 50 страниц — так мы исключим  из анализа брошюры"
   ]
  },
  {
   "cell_type": "code",
   "execution_count": 15,
   "metadata": {},
   "outputs": [
    {
     "data": {
      "text/html": [
       "<div>\n",
       "<style scoped>\n",
       "    .dataframe tbody tr th:only-of-type {\n",
       "        vertical-align: middle;\n",
       "    }\n",
       "\n",
       "    .dataframe tbody tr th {\n",
       "        vertical-align: top;\n",
       "    }\n",
       "\n",
       "    .dataframe thead th {\n",
       "        text-align: right;\n",
       "    }\n",
       "</style>\n",
       "<table border=\"1\" class=\"dataframe\">\n",
       "  <thead>\n",
       "    <tr style=\"text-align: right;\">\n",
       "      <th></th>\n",
       "      <th>izdatelstvo</th>\n",
       "      <th>kolichestvo_knig</th>\n",
       "    </tr>\n",
       "  </thead>\n",
       "  <tbody>\n",
       "    <tr>\n",
       "      <th>0</th>\n",
       "      <td>Penguin Books</td>\n",
       "      <td>42</td>\n",
       "    </tr>\n",
       "  </tbody>\n",
       "</table>\n",
       "</div>"
      ],
      "text/plain": [
       "     izdatelstvo  kolichestvo_knig\n",
       "0  Penguin Books                42"
      ]
     },
     "execution_count": 15,
     "metadata": {},
     "output_type": "execute_result"
    }
   ],
   "source": [
    "query = '''\n",
    "SELECT publisher as izdatelstvo,\n",
    "       COUNT(book_id) as kolichestvo_knig\n",
    "FROM books as b\n",
    "INNER JOIN publishers as pbs ON b.publisher_id = pbs.publisher_id\n",
    "WHERE num_pages > 50\n",
    "GROUP BY izdatelstvo\n",
    "ORDER BY kolichestvo_knig DESC\n",
    "LIMIT 1\n",
    "'''\n",
    "pd.io.sql.read_sql(sql=text(query), con = con)"
   ]
  },
  {
   "cell_type": "markdown",
   "metadata": {},
   "source": [
    "### Вывод \n",
    "- Издательство, которое выпустило наибольшее число книг(42) толще 50 страниц именуется Penguin Books"
   ]
  },
  {
   "cell_type": "markdown",
   "metadata": {},
   "source": [
    "### Определю автора с самой высокой средней оценкой книг — учитываю только книги с 50 и более оценками"
   ]
  },
  {
   "cell_type": "markdown",
   "metadata": {},
   "source": [
    "ЭТО ДЕЛАЛ ДЛЯ СЕБЯ, ЧТОБЫ ТАК СКАЗАТЬ, НЕ ДЕРЖАТЬ ЧАСТЬ КОДА В ГОЛОВЕ:\n",
    "Тут решил сделать декомпозицию и разбить задачу на несколько частей. Сначала вывел таблицу с айди книги, авторами и названиями книг"
   ]
  },
  {
   "cell_type": "code",
   "execution_count": 16,
   "metadata": {},
   "outputs": [
    {
     "data": {
      "text/html": [
       "<div>\n",
       "<style scoped>\n",
       "    .dataframe tbody tr th:only-of-type {\n",
       "        vertical-align: middle;\n",
       "    }\n",
       "\n",
       "    .dataframe tbody tr th {\n",
       "        vertical-align: top;\n",
       "    }\n",
       "\n",
       "    .dataframe thead th {\n",
       "        text-align: right;\n",
       "    }\n",
       "</style>\n",
       "<table border=\"1\" class=\"dataframe\">\n",
       "  <thead>\n",
       "    <tr style=\"text-align: right;\">\n",
       "      <th></th>\n",
       "      <th>author</th>\n",
       "      <th>book_id</th>\n",
       "      <th>title</th>\n",
       "    </tr>\n",
       "  </thead>\n",
       "  <tbody>\n",
       "    <tr>\n",
       "      <th>0</th>\n",
       "      <td>Stephen King/Jerry N. Uelsmann</td>\n",
       "      <td>1</td>\n",
       "      <td>'Salem's Lot</td>\n",
       "    </tr>\n",
       "    <tr>\n",
       "      <th>1</th>\n",
       "      <td>Patricia Schultz</td>\n",
       "      <td>2</td>\n",
       "      <td>1 000 Places to See Before You Die</td>\n",
       "    </tr>\n",
       "    <tr>\n",
       "      <th>2</th>\n",
       "      <td>Maureen Johnson</td>\n",
       "      <td>3</td>\n",
       "      <td>13 Little Blue Envelopes (Little Blue Envelope...</td>\n",
       "    </tr>\n",
       "    <tr>\n",
       "      <th>3</th>\n",
       "      <td>Charles C. Mann</td>\n",
       "      <td>4</td>\n",
       "      <td>1491: New Revelations of the Americas Before C...</td>\n",
       "    </tr>\n",
       "    <tr>\n",
       "      <th>4</th>\n",
       "      <td>David McCullough</td>\n",
       "      <td>5</td>\n",
       "      <td>1776</td>\n",
       "    </tr>\n",
       "    <tr>\n",
       "      <th>...</th>\n",
       "      <td>...</td>\n",
       "      <td>...</td>\n",
       "      <td>...</td>\n",
       "    </tr>\n",
       "    <tr>\n",
       "      <th>995</th>\n",
       "      <td>Terry Pratchett</td>\n",
       "      <td>996</td>\n",
       "      <td>Wyrd Sisters (Discworld  #6; Witches #2)</td>\n",
       "    </tr>\n",
       "    <tr>\n",
       "      <th>996</th>\n",
       "      <td>Orson Scott Card/Piotr W. Cholewa</td>\n",
       "      <td>997</td>\n",
       "      <td>Xenocide (Ender's Saga  #3)</td>\n",
       "    </tr>\n",
       "    <tr>\n",
       "      <th>997</th>\n",
       "      <td>Geraldine Brooks</td>\n",
       "      <td>998</td>\n",
       "      <td>Year of Wonders</td>\n",
       "    </tr>\n",
       "    <tr>\n",
       "      <th>998</th>\n",
       "      <td>Christopher Moore</td>\n",
       "      <td>999</td>\n",
       "      <td>You Suck (A Love Story  #2)</td>\n",
       "    </tr>\n",
       "    <tr>\n",
       "      <th>999</th>\n",
       "      <td>Robert M. Pirsig</td>\n",
       "      <td>1000</td>\n",
       "      <td>Zen and the Art of Motorcycle Maintenance: An ...</td>\n",
       "    </tr>\n",
       "  </tbody>\n",
       "</table>\n",
       "<p>1000 rows × 3 columns</p>\n",
       "</div>"
      ],
      "text/plain": [
       "                                author  book_id  \\\n",
       "0       Stephen King/Jerry N. Uelsmann        1   \n",
       "1                     Patricia Schultz        2   \n",
       "2                      Maureen Johnson        3   \n",
       "3                      Charles C. Mann        4   \n",
       "4                     David McCullough        5   \n",
       "..                                 ...      ...   \n",
       "995                    Terry Pratchett      996   \n",
       "996  Orson Scott Card/Piotr W. Cholewa      997   \n",
       "997                   Geraldine Brooks      998   \n",
       "998                  Christopher Moore      999   \n",
       "999                   Robert M. Pirsig     1000   \n",
       "\n",
       "                                                 title  \n",
       "0                                         'Salem's Lot  \n",
       "1                   1 000 Places to See Before You Die  \n",
       "2    13 Little Blue Envelopes (Little Blue Envelope...  \n",
       "3    1491: New Revelations of the Americas Before C...  \n",
       "4                                                 1776  \n",
       "..                                                 ...  \n",
       "995           Wyrd Sisters (Discworld  #6; Witches #2)  \n",
       "996                        Xenocide (Ender's Saga  #3)  \n",
       "997                                    Year of Wonders  \n",
       "998                        You Suck (A Love Story  #2)  \n",
       "999  Zen and the Art of Motorcycle Maintenance: An ...  \n",
       "\n",
       "[1000 rows x 3 columns]"
      ]
     },
     "execution_count": 16,
     "metadata": {},
     "output_type": "execute_result"
    }
   ],
   "source": [
    "query = '''\n",
    "SELECT author,\n",
    "       book_id,\n",
    "       title           \n",
    "FROM books as b\n",
    "LEFT JOIN authors as atr ON b.author_id = atr.author_id\n",
    "'''\n",
    "pd.io.sql.read_sql(sql=text(query), con = con)"
   ]
  },
  {
   "cell_type": "markdown",
   "metadata": {},
   "source": [
    "Затем вывел таблицу с айди книги, количеством оценок и средним рейтингом"
   ]
  },
  {
   "cell_type": "code",
   "execution_count": 17,
   "metadata": {},
   "outputs": [
    {
     "data": {
      "text/html": [
       "<div>\n",
       "<style scoped>\n",
       "    .dataframe tbody tr th:only-of-type {\n",
       "        vertical-align: middle;\n",
       "    }\n",
       "\n",
       "    .dataframe tbody tr th {\n",
       "        vertical-align: top;\n",
       "    }\n",
       "\n",
       "    .dataframe thead th {\n",
       "        text-align: right;\n",
       "    }\n",
       "</style>\n",
       "<table border=\"1\" class=\"dataframe\">\n",
       "  <thead>\n",
       "    <tr style=\"text-align: right;\">\n",
       "      <th></th>\n",
       "      <th>book_id</th>\n",
       "      <th>kolichestvo_ocenok</th>\n",
       "      <th>srednaya_ocenka</th>\n",
       "    </tr>\n",
       "  </thead>\n",
       "  <tbody>\n",
       "    <tr>\n",
       "      <th>0</th>\n",
       "      <td>1</td>\n",
       "      <td>3</td>\n",
       "      <td>3.666667</td>\n",
       "    </tr>\n",
       "    <tr>\n",
       "      <th>1</th>\n",
       "      <td>2</td>\n",
       "      <td>2</td>\n",
       "      <td>2.500000</td>\n",
       "    </tr>\n",
       "    <tr>\n",
       "      <th>2</th>\n",
       "      <td>3</td>\n",
       "      <td>3</td>\n",
       "      <td>4.666667</td>\n",
       "    </tr>\n",
       "    <tr>\n",
       "      <th>3</th>\n",
       "      <td>4</td>\n",
       "      <td>2</td>\n",
       "      <td>4.500000</td>\n",
       "    </tr>\n",
       "    <tr>\n",
       "      <th>4</th>\n",
       "      <td>5</td>\n",
       "      <td>6</td>\n",
       "      <td>4.000000</td>\n",
       "    </tr>\n",
       "    <tr>\n",
       "      <th>...</th>\n",
       "      <td>...</td>\n",
       "      <td>...</td>\n",
       "      <td>...</td>\n",
       "    </tr>\n",
       "    <tr>\n",
       "      <th>995</th>\n",
       "      <td>996</td>\n",
       "      <td>3</td>\n",
       "      <td>3.666667</td>\n",
       "    </tr>\n",
       "    <tr>\n",
       "      <th>996</th>\n",
       "      <td>997</td>\n",
       "      <td>5</td>\n",
       "      <td>3.400000</td>\n",
       "    </tr>\n",
       "    <tr>\n",
       "      <th>997</th>\n",
       "      <td>998</td>\n",
       "      <td>5</td>\n",
       "      <td>3.200000</td>\n",
       "    </tr>\n",
       "    <tr>\n",
       "      <th>998</th>\n",
       "      <td>999</td>\n",
       "      <td>2</td>\n",
       "      <td>4.500000</td>\n",
       "    </tr>\n",
       "    <tr>\n",
       "      <th>999</th>\n",
       "      <td>1000</td>\n",
       "      <td>6</td>\n",
       "      <td>3.833333</td>\n",
       "    </tr>\n",
       "  </tbody>\n",
       "</table>\n",
       "<p>1000 rows × 3 columns</p>\n",
       "</div>"
      ],
      "text/plain": [
       "     book_id  kolichestvo_ocenok  srednaya_ocenka\n",
       "0          1                   3         3.666667\n",
       "1          2                   2         2.500000\n",
       "2          3                   3         4.666667\n",
       "3          4                   2         4.500000\n",
       "4          5                   6         4.000000\n",
       "..       ...                 ...              ...\n",
       "995      996                   3         3.666667\n",
       "996      997                   5         3.400000\n",
       "997      998                   5         3.200000\n",
       "998      999                   2         4.500000\n",
       "999     1000                   6         3.833333\n",
       "\n",
       "[1000 rows x 3 columns]"
      ]
     },
     "execution_count": 17,
     "metadata": {},
     "output_type": "execute_result"
    }
   ],
   "source": [
    "query = '''\n",
    "SELECT DISTINCT b.book_id,\n",
    "       COUNT(rating) as kolichestvo_ocenok,\n",
    "       AVG(rating) as srednaya_ocenka\n",
    "FROM books as b\n",
    "LEFT JOIN ratings as rtg ON b.book_id = rtg.book_id\n",
    "GROUP BY b.book_id\n",
    "ORDER BY b.book_id ASC\n",
    "\n",
    "'''\n",
    "pd.io.sql.read_sql(sql=text(query), con = con)"
   ]
  },
  {
   "cell_type": "markdown",
   "metadata": {},
   "source": [
    "С помощью табличного выражения получил нужный результат"
   ]
  },
  {
   "cell_type": "code",
   "execution_count": 18,
   "metadata": {},
   "outputs": [
    {
     "data": {
      "text/html": [
       "<div>\n",
       "<style scoped>\n",
       "    .dataframe tbody tr th:only-of-type {\n",
       "        vertical-align: middle;\n",
       "    }\n",
       "\n",
       "    .dataframe tbody tr th {\n",
       "        vertical-align: top;\n",
       "    }\n",
       "\n",
       "    .dataframe thead th {\n",
       "        text-align: right;\n",
       "    }\n",
       "</style>\n",
       "<table border=\"1\" class=\"dataframe\">\n",
       "  <thead>\n",
       "    <tr style=\"text-align: right;\">\n",
       "      <th></th>\n",
       "      <th>author</th>\n",
       "      <th>srednaya_ocenka</th>\n",
       "    </tr>\n",
       "  </thead>\n",
       "  <tbody>\n",
       "    <tr>\n",
       "      <th>0</th>\n",
       "      <td>J.K. Rowling/Mary GrandPré</td>\n",
       "      <td>4.283844</td>\n",
       "    </tr>\n",
       "  </tbody>\n",
       "</table>\n",
       "</div>"
      ],
      "text/plain": [
       "                       author  srednaya_ocenka\n",
       "0  J.K. Rowling/Mary GrandPré         4.283844"
      ]
     },
     "execution_count": 18,
     "metadata": {},
     "output_type": "execute_result"
    }
   ],
   "source": [
    "query = '''\n",
    "WITH\n",
    "x AS (SELECT book_id,\n",
    "             title,\n",
    "             author       \n",
    "      FROM books as b\n",
    "      LEFT JOIN authors as atr ON b.author_id = atr.author_id),\n",
    "\n",
    "y AS (SELECT DISTINCT b.book_id,\n",
    "             COUNT(rating) as kolichestvo_ocenok,\n",
    "             AVG(rating) as srednaya_ocenka\n",
    "      FROM books as b\n",
    "      LEFT JOIN ratings as rtg ON b.book_id = rtg.book_id\n",
    "      GROUP BY b.book_id\n",
    "      ORDER BY COUNT(rating) DESC)\n",
    "\n",
    "SELECT x.author,\n",
    "       AVG(y.srednaya_ocenka) AS srednaya_ocenka\n",
    "FROM x \n",
    "LEFT OUTER JOIN y ON x.book_id = y.book_id\n",
    "WHERE kolichestvo_ocenok > 50\n",
    "GROUP BY x.author\n",
    "ORDER BY srednaya_ocenka DESC\n",
    "LIMIT 1\n",
    "'''\n",
    "pd.io.sql.read_sql(sql=text(query), con = con)"
   ]
  },
  {
   "cell_type": "markdown",
   "metadata": {},
   "source": [
    "### Вывод \n",
    "Автор с самой высокой средней оценкой книг J.K. Rowling/Mary GrandPré, а средняя оценка 4.283844"
   ]
  },
  {
   "cell_type": "markdown",
   "metadata": {},
   "source": [
    "### Посчитаю среднее количество обзоров от пользователей, которые поставили больше 48 оценок"
   ]
  },
  {
   "cell_type": "markdown",
   "metadata": {},
   "source": [
    "ЭТО ДЕЛАЛ ДЛЯ СЕБЯ, ЧТОБЫ ТАК СКАЗАТЬ, НЕ ДЕРЖАТЬ ЧАСТЬ КОДА В ГОЛОВЕ:\n",
    "Так же использовал декомпозицию. Сначала нашёл пользователей и количество обзоров"
   ]
  },
  {
   "cell_type": "code",
   "execution_count": 19,
   "metadata": {},
   "outputs": [
    {
     "data": {
      "text/html": [
       "<div>\n",
       "<style scoped>\n",
       "    .dataframe tbody tr th:only-of-type {\n",
       "        vertical-align: middle;\n",
       "    }\n",
       "\n",
       "    .dataframe tbody tr th {\n",
       "        vertical-align: top;\n",
       "    }\n",
       "\n",
       "    .dataframe thead th {\n",
       "        text-align: right;\n",
       "    }\n",
       "</style>\n",
       "<table border=\"1\" class=\"dataframe\">\n",
       "  <thead>\n",
       "    <tr style=\"text-align: right;\">\n",
       "      <th></th>\n",
       "      <th>username</th>\n",
       "      <th>kolichestvo_obzorov</th>\n",
       "    </tr>\n",
       "  </thead>\n",
       "  <tbody>\n",
       "    <tr>\n",
       "      <th>0</th>\n",
       "      <td>susan85</td>\n",
       "      <td>29</td>\n",
       "    </tr>\n",
       "    <tr>\n",
       "      <th>1</th>\n",
       "      <td>sfitzgerald</td>\n",
       "      <td>28</td>\n",
       "    </tr>\n",
       "    <tr>\n",
       "      <th>2</th>\n",
       "      <td>martinadam</td>\n",
       "      <td>27</td>\n",
       "    </tr>\n",
       "    <tr>\n",
       "      <th>3</th>\n",
       "      <td>eallen</td>\n",
       "      <td>26</td>\n",
       "    </tr>\n",
       "    <tr>\n",
       "      <th>4</th>\n",
       "      <td>lesliegibbs</td>\n",
       "      <td>26</td>\n",
       "    </tr>\n",
       "    <tr>\n",
       "      <th>...</th>\n",
       "      <td>...</td>\n",
       "      <td>...</td>\n",
       "    </tr>\n",
       "    <tr>\n",
       "      <th>156</th>\n",
       "      <td>joseph14</td>\n",
       "      <td>10</td>\n",
       "    </tr>\n",
       "    <tr>\n",
       "      <th>157</th>\n",
       "      <td>todd65</td>\n",
       "      <td>10</td>\n",
       "    </tr>\n",
       "    <tr>\n",
       "      <th>158</th>\n",
       "      <td>robert00</td>\n",
       "      <td>9</td>\n",
       "    </tr>\n",
       "    <tr>\n",
       "      <th>159</th>\n",
       "      <td>millernicholas</td>\n",
       "      <td>5</td>\n",
       "    </tr>\n",
       "    <tr>\n",
       "      <th>160</th>\n",
       "      <td>None</td>\n",
       "      <td>0</td>\n",
       "    </tr>\n",
       "  </tbody>\n",
       "</table>\n",
       "<p>161 rows × 2 columns</p>\n",
       "</div>"
      ],
      "text/plain": [
       "           username  kolichestvo_obzorov\n",
       "0           susan85                   29\n",
       "1       sfitzgerald                   28\n",
       "2        martinadam                   27\n",
       "3            eallen                   26\n",
       "4       lesliegibbs                   26\n",
       "..              ...                  ...\n",
       "156        joseph14                   10\n",
       "157          todd65                   10\n",
       "158        robert00                    9\n",
       "159  millernicholas                    5\n",
       "160            None                    0\n",
       "\n",
       "[161 rows x 2 columns]"
      ]
     },
     "execution_count": 19,
     "metadata": {},
     "output_type": "execute_result"
    }
   ],
   "source": [
    "query = '''\n",
    "SELECT DISTINCT username,\n",
    "       COUNT(text) as kolichestvo_obzorov\n",
    "FROM books as b\n",
    "LEFT JOIN reviews as rvw ON b.book_id = rvw.book_id\n",
    "GROUP BY username\n",
    "ORDER BY kolichestvo_obzorov DESC\n",
    "'''\n",
    "pd.io.sql.read_sql(sql=text(query), con = con)"
   ]
  },
  {
   "cell_type": "markdown",
   "metadata": {},
   "source": [
    "Затем нашёл пользователей и количество оценок"
   ]
  },
  {
   "cell_type": "code",
   "execution_count": 20,
   "metadata": {},
   "outputs": [
    {
     "data": {
      "text/html": [
       "<div>\n",
       "<style scoped>\n",
       "    .dataframe tbody tr th:only-of-type {\n",
       "        vertical-align: middle;\n",
       "    }\n",
       "\n",
       "    .dataframe tbody tr th {\n",
       "        vertical-align: top;\n",
       "    }\n",
       "\n",
       "    .dataframe thead th {\n",
       "        text-align: right;\n",
       "    }\n",
       "</style>\n",
       "<table border=\"1\" class=\"dataframe\">\n",
       "  <thead>\n",
       "    <tr style=\"text-align: right;\">\n",
       "      <th></th>\n",
       "      <th>username</th>\n",
       "      <th>kolichestvo_ocenok</th>\n",
       "    </tr>\n",
       "  </thead>\n",
       "  <tbody>\n",
       "    <tr>\n",
       "      <th>0</th>\n",
       "      <td>martinadam</td>\n",
       "      <td>56</td>\n",
       "    </tr>\n",
       "    <tr>\n",
       "      <th>1</th>\n",
       "      <td>paul88</td>\n",
       "      <td>56</td>\n",
       "    </tr>\n",
       "    <tr>\n",
       "      <th>2</th>\n",
       "      <td>sfitzgerald</td>\n",
       "      <td>55</td>\n",
       "    </tr>\n",
       "    <tr>\n",
       "      <th>3</th>\n",
       "      <td>richard89</td>\n",
       "      <td>55</td>\n",
       "    </tr>\n",
       "    <tr>\n",
       "      <th>4</th>\n",
       "      <td>jennifermiller</td>\n",
       "      <td>53</td>\n",
       "    </tr>\n",
       "    <tr>\n",
       "      <th>...</th>\n",
       "      <td>...</td>\n",
       "      <td>...</td>\n",
       "    </tr>\n",
       "    <tr>\n",
       "      <th>155</th>\n",
       "      <td>lunakathryn</td>\n",
       "      <td>30</td>\n",
       "    </tr>\n",
       "    <tr>\n",
       "      <th>156</th>\n",
       "      <td>conradanita</td>\n",
       "      <td>30</td>\n",
       "    </tr>\n",
       "    <tr>\n",
       "      <th>157</th>\n",
       "      <td>wsingleton</td>\n",
       "      <td>30</td>\n",
       "    </tr>\n",
       "    <tr>\n",
       "      <th>158</th>\n",
       "      <td>robert00</td>\n",
       "      <td>29</td>\n",
       "    </tr>\n",
       "    <tr>\n",
       "      <th>159</th>\n",
       "      <td>fconrad</td>\n",
       "      <td>29</td>\n",
       "    </tr>\n",
       "  </tbody>\n",
       "</table>\n",
       "<p>160 rows × 2 columns</p>\n",
       "</div>"
      ],
      "text/plain": [
       "           username  kolichestvo_ocenok\n",
       "0        martinadam                  56\n",
       "1            paul88                  56\n",
       "2       sfitzgerald                  55\n",
       "3         richard89                  55\n",
       "4    jennifermiller                  53\n",
       "..              ...                 ...\n",
       "155     lunakathryn                  30\n",
       "156     conradanita                  30\n",
       "157      wsingleton                  30\n",
       "158        robert00                  29\n",
       "159         fconrad                  29\n",
       "\n",
       "[160 rows x 2 columns]"
      ]
     },
     "execution_count": 20,
     "metadata": {},
     "output_type": "execute_result"
    }
   ],
   "source": [
    "query = '''\n",
    "SELECT username,\n",
    "       COUNT(rating) as kolichestvo_ocenok\n",
    "FROM books as b\n",
    "LEFT JOIN ratings as rtg ON b.book_id = rtg.book_id\n",
    "GROUP BY username\n",
    "ORDER BY COUNT(rating) DESC\n",
    "\n",
    "'''\n",
    "pd.io.sql.read_sql(sql=text(query), con = con)"
   ]
  },
  {
   "cell_type": "markdown",
   "metadata": {},
   "source": [
    "С помощью табличного выражения получил нужный результат"
   ]
  },
  {
   "cell_type": "code",
   "execution_count": 21,
   "metadata": {},
   "outputs": [
    {
     "data": {
      "text/html": [
       "<div>\n",
       "<style scoped>\n",
       "    .dataframe tbody tr th:only-of-type {\n",
       "        vertical-align: middle;\n",
       "    }\n",
       "\n",
       "    .dataframe tbody tr th {\n",
       "        vertical-align: top;\n",
       "    }\n",
       "\n",
       "    .dataframe thead th {\n",
       "        text-align: right;\n",
       "    }\n",
       "</style>\n",
       "<table border=\"1\" class=\"dataframe\">\n",
       "  <thead>\n",
       "    <tr style=\"text-align: right;\">\n",
       "      <th></th>\n",
       "      <th>srednee</th>\n",
       "    </tr>\n",
       "  </thead>\n",
       "  <tbody>\n",
       "    <tr>\n",
       "      <th>0</th>\n",
       "      <td>24.0</td>\n",
       "    </tr>\n",
       "  </tbody>\n",
       "</table>\n",
       "</div>"
      ],
      "text/plain": [
       "   srednee\n",
       "0     24.0"
      ]
     },
     "execution_count": 21,
     "metadata": {},
     "output_type": "execute_result"
    }
   ],
   "source": [
    "query = '''\n",
    "WITH\n",
    "x AS (SELECT DISTINCT username,\n",
    "             COUNT(text) as kolichestvo_obzorov\n",
    "      FROM books as b\n",
    "      LEFT JOIN reviews as rvw ON b.book_id = rvw.book_id\n",
    "      GROUP BY username\n",
    "      ORDER BY kolichestvo_obzorov DESC),\n",
    "\n",
    "y AS (SELECT username,\n",
    "             COUNT(rating) as kolichestvo_ocenok\n",
    "      FROM books as b\n",
    "      LEFT JOIN ratings as rtg ON b.book_id = rtg.book_id\n",
    "      GROUP BY username\n",
    "      ORDER BY COUNT(rating) DESC)\n",
    "\n",
    "SELECT AVG(x.kolichestvo_obzorov) as srednee\n",
    "FROM x \n",
    "LEFT OUTER JOIN y ON x.username = y.username\n",
    "WHERE kolichestvo_ocenok > 48\n",
    "'''\n",
    "pd.io.sql.read_sql(sql=text(query), con = con)"
   ]
  },
  {
   "cell_type": "markdown",
   "metadata": {},
   "source": [
    "### Вывод \n",
    "- Cреднее количество обзоров от пользователей, которые поставили больше 48 оценок около 24"
   ]
  }
 ],
 "metadata": {
  "ExecuteTimeLog": [
   {
    "duration": 520,
    "start_time": "2023-10-31T13:45:59.687Z"
   },
   {
    "duration": 9215,
    "start_time": "2023-10-31T13:46:00.266Z"
   },
   {
    "duration": 7,
    "start_time": "2023-10-31T13:51:48.245Z"
   },
   {
    "duration": 241,
    "start_time": "2023-10-31T13:51:52.329Z"
   },
   {
    "duration": 2,
    "start_time": "2023-10-31T13:51:53.166Z"
   },
   {
    "duration": 9,
    "start_time": "2023-10-31T13:51:59.939Z"
   },
   {
    "duration": 59,
    "start_time": "2023-10-31T13:52:05.966Z"
   },
   {
    "duration": 30,
    "start_time": "2023-10-31T14:02:01.977Z"
   },
   {
    "duration": 111,
    "start_time": "2023-10-31T14:04:49.513Z"
   },
   {
    "duration": 60,
    "start_time": "2023-10-31T14:06:45.199Z"
   },
   {
    "duration": 55,
    "start_time": "2023-10-31T14:06:56.299Z"
   },
   {
    "duration": 29,
    "start_time": "2023-10-31T14:07:25.006Z"
   },
   {
    "duration": 50,
    "start_time": "2023-10-31T14:09:35.738Z"
   },
   {
    "duration": 60,
    "start_time": "2023-10-31T14:10:00.251Z"
   },
   {
    "duration": 60,
    "start_time": "2023-10-31T14:10:26.147Z"
   },
   {
    "duration": 60,
    "start_time": "2023-10-31T14:10:58.939Z"
   },
   {
    "duration": 41,
    "start_time": "2023-10-31T14:11:50.436Z"
   },
   {
    "duration": 31,
    "start_time": "2023-10-31T14:11:56.275Z"
   },
   {
    "duration": 29,
    "start_time": "2023-10-31T14:12:35.659Z"
   },
   {
    "duration": 30,
    "start_time": "2023-10-31T14:12:46.861Z"
   },
   {
    "duration": 218,
    "start_time": "2023-10-31T15:20:11.654Z"
   },
   {
    "duration": 459,
    "start_time": "2023-10-31T15:20:22.978Z"
   },
   {
    "duration": 10136,
    "start_time": "2023-10-31T15:20:23.439Z"
   },
   {
    "duration": 1,
    "start_time": "2023-10-31T15:20:33.577Z"
   },
   {
    "duration": 0,
    "start_time": "2023-10-31T15:20:33.579Z"
   },
   {
    "duration": 4,
    "start_time": "2023-10-31T15:21:00.246Z"
   },
   {
    "duration": 47,
    "start_time": "2023-10-31T15:21:02.209Z"
   },
   {
    "duration": 29,
    "start_time": "2023-10-31T15:53:09.758Z"
   },
   {
    "duration": 31,
    "start_time": "2023-10-31T15:53:49.028Z"
   },
   {
    "duration": 51,
    "start_time": "2023-10-31T16:02:52.573Z"
   },
   {
    "duration": 67,
    "start_time": "2023-10-31T16:07:53.598Z"
   },
   {
    "duration": 60,
    "start_time": "2023-10-31T16:08:03.710Z"
   },
   {
    "duration": 70,
    "start_time": "2023-10-31T16:08:25.431Z"
   },
   {
    "duration": 29,
    "start_time": "2023-10-31T16:11:33.636Z"
   },
   {
    "duration": 48,
    "start_time": "2023-10-31T16:14:12.694Z"
   },
   {
    "duration": 59,
    "start_time": "2023-10-31T16:14:20.231Z"
   },
   {
    "duration": 43,
    "start_time": "2023-10-31T16:14:37.865Z"
   },
   {
    "duration": 60,
    "start_time": "2023-10-31T16:14:59.800Z"
   },
   {
    "duration": 59,
    "start_time": "2023-10-31T16:15:37.586Z"
   },
   {
    "duration": 51,
    "start_time": "2023-11-01T13:39:33.216Z"
   },
   {
    "duration": 7,
    "start_time": "2023-11-01T13:39:51.904Z"
   },
   {
    "duration": 537,
    "start_time": "2023-11-01T13:40:23.479Z"
   },
   {
    "duration": 8733,
    "start_time": "2023-11-01T13:40:24.018Z"
   },
   {
    "duration": 78,
    "start_time": "2023-11-01T13:40:32.755Z"
   },
   {
    "duration": 0,
    "start_time": "2023-11-01T13:40:32.835Z"
   },
   {
    "duration": 0,
    "start_time": "2023-11-01T13:40:32.847Z"
   },
   {
    "duration": 268,
    "start_time": "2023-11-01T13:40:45.504Z"
   },
   {
    "duration": 61,
    "start_time": "2023-11-01T13:41:04.791Z"
   },
   {
    "duration": 30,
    "start_time": "2023-11-01T13:41:08.903Z"
   },
   {
    "duration": 28,
    "start_time": "2023-11-01T13:41:09.672Z"
   },
   {
    "duration": 554,
    "start_time": "2023-11-01T13:46:33.650Z"
   },
   {
    "duration": 8536,
    "start_time": "2023-11-01T13:46:34.206Z"
   },
   {
    "duration": 84,
    "start_time": "2023-11-01T13:46:42.744Z"
   },
   {
    "duration": 1,
    "start_time": "2023-11-01T13:46:42.829Z"
   },
   {
    "duration": 0,
    "start_time": "2023-11-01T13:46:42.831Z"
   },
   {
    "duration": 609,
    "start_time": "2023-11-01T13:46:54.930Z"
   },
   {
    "duration": 9069,
    "start_time": "2023-11-01T13:46:55.541Z"
   },
   {
    "duration": 0,
    "start_time": "2023-11-01T13:47:04.611Z"
   },
   {
    "duration": 0,
    "start_time": "2023-11-01T13:47:04.613Z"
   },
   {
    "duration": 0,
    "start_time": "2023-11-01T13:47:04.614Z"
   },
   {
    "duration": 577,
    "start_time": "2023-11-01T13:47:15.512Z"
   },
   {
    "duration": 10288,
    "start_time": "2023-11-01T13:47:16.091Z"
   },
   {
    "duration": 0,
    "start_time": "2023-11-01T13:47:26.381Z"
   },
   {
    "duration": 0,
    "start_time": "2023-11-01T13:47:26.382Z"
   },
   {
    "duration": 0,
    "start_time": "2023-11-01T13:47:26.384Z"
   },
   {
    "duration": 171,
    "start_time": "2023-11-01T13:47:31.191Z"
   },
   {
    "duration": 224,
    "start_time": "2023-11-01T13:47:47.066Z"
   },
   {
    "duration": 216,
    "start_time": "2023-11-01T13:47:52.290Z"
   },
   {
    "duration": 255,
    "start_time": "2023-11-01T13:47:58.817Z"
   },
   {
    "duration": 67,
    "start_time": "2023-11-01T13:48:06.721Z"
   },
   {
    "duration": 47,
    "start_time": "2023-11-01T13:49:28.059Z"
   },
   {
    "duration": 33,
    "start_time": "2023-11-01T13:50:48.675Z"
   },
   {
    "duration": 76,
    "start_time": "2023-11-01T13:51:24.075Z"
   },
   {
    "duration": 88,
    "start_time": "2023-11-01T13:51:34.684Z"
   },
   {
    "duration": 79,
    "start_time": "2023-11-01T13:51:39.307Z"
   },
   {
    "duration": 514,
    "start_time": "2023-11-01T13:57:49.503Z"
   },
   {
    "duration": 8075,
    "start_time": "2023-11-01T13:57:50.019Z"
   },
   {
    "duration": 60,
    "start_time": "2023-11-01T13:57:58.096Z"
   },
   {
    "duration": 33,
    "start_time": "2023-11-01T13:57:58.159Z"
   },
   {
    "duration": 32,
    "start_time": "2023-11-01T13:57:58.194Z"
   },
   {
    "duration": 57,
    "start_time": "2023-11-01T13:57:58.228Z"
   },
   {
    "duration": 49,
    "start_time": "2023-11-01T13:57:58.286Z"
   },
   {
    "duration": 29,
    "start_time": "2023-11-01T13:57:58.336Z"
   },
   {
    "duration": 30,
    "start_time": "2023-11-01T13:57:58.367Z"
   },
   {
    "duration": 51,
    "start_time": "2023-11-01T14:13:26.658Z"
   },
   {
    "duration": 7,
    "start_time": "2023-11-01T14:13:55.419Z"
   },
   {
    "duration": 7,
    "start_time": "2023-11-01T14:14:28.959Z"
   },
   {
    "duration": 518,
    "start_time": "2023-11-01T14:15:24.481Z"
   },
   {
    "duration": 9289,
    "start_time": "2023-11-01T14:15:25.002Z"
   },
   {
    "duration": 61,
    "start_time": "2023-11-01T14:15:34.293Z"
   },
   {
    "duration": 33,
    "start_time": "2023-11-01T14:15:34.356Z"
   },
   {
    "duration": 32,
    "start_time": "2023-11-01T14:15:34.392Z"
   },
   {
    "duration": 58,
    "start_time": "2023-11-01T14:15:34.425Z"
   },
   {
    "duration": 50,
    "start_time": "2023-11-01T14:15:34.485Z"
   },
   {
    "duration": 30,
    "start_time": "2023-11-01T14:15:34.536Z"
   },
   {
    "duration": 31,
    "start_time": "2023-11-01T14:15:45.610Z"
   },
   {
    "duration": 29,
    "start_time": "2023-11-01T14:16:02.556Z"
   },
   {
    "duration": 598,
    "start_time": "2023-11-01T14:16:10.618Z"
   },
   {
    "duration": 9501,
    "start_time": "2023-11-01T14:16:11.218Z"
   },
   {
    "duration": 60,
    "start_time": "2023-11-01T14:16:20.721Z"
   },
   {
    "duration": 37,
    "start_time": "2023-11-01T14:16:20.783Z"
   },
   {
    "duration": 33,
    "start_time": "2023-11-01T14:16:20.821Z"
   },
   {
    "duration": 68,
    "start_time": "2023-11-01T14:16:20.856Z"
   },
   {
    "duration": 50,
    "start_time": "2023-11-01T14:16:20.926Z"
   },
   {
    "duration": 30,
    "start_time": "2023-11-01T14:16:20.979Z"
   },
   {
    "duration": 509,
    "start_time": "2023-11-01T14:16:33.293Z"
   },
   {
    "duration": 9152,
    "start_time": "2023-11-01T14:16:33.805Z"
   },
   {
    "duration": 59,
    "start_time": "2023-11-01T14:16:42.959Z"
   },
   {
    "duration": 100,
    "start_time": "2023-11-01T14:16:43.019Z"
   },
   {
    "duration": 32,
    "start_time": "2023-11-01T14:16:43.121Z"
   },
   {
    "duration": 56,
    "start_time": "2023-11-01T14:16:43.154Z"
   },
   {
    "duration": 52,
    "start_time": "2023-11-01T14:16:43.211Z"
   },
   {
    "duration": 32,
    "start_time": "2023-11-01T14:16:43.265Z"
   },
   {
    "duration": 30,
    "start_time": "2023-11-01T14:16:49.688Z"
   },
   {
    "duration": 79,
    "start_time": "2023-11-01T14:29:21.908Z"
   },
   {
    "duration": 60,
    "start_time": "2023-11-01T14:33:26.888Z"
   },
   {
    "duration": 30,
    "start_time": "2023-11-01T14:33:48.076Z"
   },
   {
    "duration": 32,
    "start_time": "2023-11-01T14:33:50.224Z"
   },
   {
    "duration": 69,
    "start_time": "2023-11-01T14:37:47.618Z"
   },
   {
    "duration": 128,
    "start_time": "2023-11-01T14:44:00.358Z"
   },
   {
    "duration": 64,
    "start_time": "2023-11-01T14:45:06.084Z"
   },
   {
    "duration": 67,
    "start_time": "2023-11-01T14:45:39.707Z"
   },
   {
    "duration": 128,
    "start_time": "2023-11-01T14:47:41.452Z"
   },
   {
    "duration": 69,
    "start_time": "2023-11-01T14:49:06.841Z"
   },
   {
    "duration": 34,
    "start_time": "2023-11-01T14:52:40.443Z"
   },
   {
    "duration": 51,
    "start_time": "2023-11-01T14:56:01.966Z"
   },
   {
    "duration": 61,
    "start_time": "2023-11-01T14:56:15.158Z"
   },
   {
    "duration": 78,
    "start_time": "2023-11-01T14:56:51.735Z"
   },
   {
    "duration": 63,
    "start_time": "2023-11-02T16:15:29.098Z"
   },
   {
    "duration": 538,
    "start_time": "2023-11-02T16:15:35.407Z"
   },
   {
    "duration": 13998,
    "start_time": "2023-11-02T16:15:35.949Z"
   },
   {
    "duration": 61,
    "start_time": "2023-11-02T16:15:49.951Z"
   },
   {
    "duration": 34,
    "start_time": "2023-11-02T16:15:50.014Z"
   },
   {
    "duration": 32,
    "start_time": "2023-11-02T16:15:50.050Z"
   },
   {
    "duration": 64,
    "start_time": "2023-11-02T16:15:50.084Z"
   },
   {
    "duration": 49,
    "start_time": "2023-11-02T16:15:50.150Z"
   },
   {
    "duration": 30,
    "start_time": "2023-11-02T16:15:50.202Z"
   },
   {
    "duration": 31,
    "start_time": "2023-11-02T16:15:50.233Z"
   },
   {
    "duration": 31,
    "start_time": "2023-11-02T16:15:50.265Z"
   },
   {
    "duration": 46,
    "start_time": "2023-11-02T16:15:50.297Z"
   },
   {
    "duration": 46,
    "start_time": "2023-11-02T16:15:50.345Z"
   },
   {
    "duration": 2,
    "start_time": "2023-11-02T16:15:57.859Z"
   },
   {
    "duration": 250,
    "start_time": "2023-11-02T16:15:57.863Z"
   },
   {
    "duration": 59,
    "start_time": "2023-11-02T16:15:58.115Z"
   },
   {
    "duration": 34,
    "start_time": "2023-11-02T16:15:58.175Z"
   },
   {
    "duration": 32,
    "start_time": "2023-11-02T16:15:58.211Z"
   },
   {
    "duration": 109,
    "start_time": "2023-11-02T16:15:58.244Z"
   },
   {
    "duration": 47,
    "start_time": "2023-11-02T16:15:58.354Z"
   },
   {
    "duration": 29,
    "start_time": "2023-11-02T16:15:58.403Z"
   },
   {
    "duration": 29,
    "start_time": "2023-11-02T16:15:58.434Z"
   },
   {
    "duration": 31,
    "start_time": "2023-11-02T16:15:58.465Z"
   },
   {
    "duration": 49,
    "start_time": "2023-11-02T16:15:58.498Z"
   },
   {
    "duration": 47,
    "start_time": "2023-11-02T16:15:58.549Z"
   },
   {
    "duration": 43,
    "start_time": "2023-11-02T16:32:30.073Z"
   },
   {
    "duration": 76,
    "start_time": "2023-11-02T16:36:47.563Z"
   },
   {
    "duration": 127,
    "start_time": "2023-11-02T16:39:05.084Z"
   },
   {
    "duration": 61,
    "start_time": "2023-11-02T16:39:33.701Z"
   },
   {
    "duration": 65,
    "start_time": "2023-11-02T16:41:23.031Z"
   },
   {
    "duration": 46,
    "start_time": "2023-11-02T16:41:32.605Z"
   },
   {
    "duration": 49,
    "start_time": "2023-11-02T16:42:03.845Z"
   },
   {
    "duration": 37,
    "start_time": "2023-11-02T18:01:43.014Z"
   },
   {
    "duration": 36,
    "start_time": "2023-11-02T18:02:53.446Z"
   },
   {
    "duration": 36,
    "start_time": "2023-11-02T18:03:11.870Z"
   },
   {
    "duration": 35,
    "start_time": "2023-11-02T18:09:33.497Z"
   },
   {
    "duration": 35,
    "start_time": "2023-11-02T18:09:52.265Z"
   },
   {
    "duration": 50,
    "start_time": "2023-11-02T18:10:10.752Z"
   },
   {
    "duration": 61,
    "start_time": "2023-11-02T18:10:41.121Z"
   },
   {
    "duration": 60,
    "start_time": "2023-11-02T18:11:17.698Z"
   },
   {
    "duration": 62,
    "start_time": "2023-11-02T18:11:32.593Z"
   },
   {
    "duration": 62,
    "start_time": "2023-11-02T18:13:00.852Z"
   },
   {
    "duration": 45,
    "start_time": "2023-11-02T18:13:15.339Z"
   },
   {
    "duration": 34,
    "start_time": "2023-11-02T18:13:30.170Z"
   },
   {
    "duration": 29,
    "start_time": "2023-11-02T18:17:36.762Z"
   },
   {
    "duration": 70,
    "start_time": "2023-11-02T18:28:50.170Z"
   },
   {
    "duration": 70,
    "start_time": "2023-11-02T18:30:25.594Z"
   },
   {
    "duration": 77,
    "start_time": "2023-11-02T18:33:07.523Z"
   },
   {
    "duration": 31,
    "start_time": "2023-11-02T18:34:00.356Z"
   },
   {
    "duration": 31,
    "start_time": "2023-11-02T18:34:08.563Z"
   },
   {
    "duration": 563,
    "start_time": "2023-11-05T18:35:35.750Z"
   },
   {
    "duration": 8837,
    "start_time": "2023-11-05T18:35:36.315Z"
   },
   {
    "duration": 60,
    "start_time": "2023-11-05T18:35:45.154Z"
   },
   {
    "duration": 34,
    "start_time": "2023-11-05T18:35:45.216Z"
   },
   {
    "duration": 34,
    "start_time": "2023-11-05T18:35:45.251Z"
   },
   {
    "duration": 68,
    "start_time": "2023-11-05T18:35:45.286Z"
   },
   {
    "duration": 49,
    "start_time": "2023-11-05T18:35:45.356Z"
   },
   {
    "duration": 247,
    "start_time": "2023-11-05T18:35:45.407Z"
   },
   {
    "duration": 30,
    "start_time": "2023-11-05T18:35:45.657Z"
   },
   {
    "duration": 72,
    "start_time": "2023-11-05T18:35:45.690Z"
   },
   {
    "duration": 33,
    "start_time": "2023-11-05T18:35:45.764Z"
   },
   {
    "duration": 30,
    "start_time": "2023-11-05T18:36:55.263Z"
   },
   {
    "duration": 78,
    "start_time": "2023-11-05T18:44:29.691Z"
   },
   {
    "duration": 79,
    "start_time": "2023-11-05T18:44:57.242Z"
   },
   {
    "duration": 75,
    "start_time": "2023-11-05T18:45:13.839Z"
   },
   {
    "duration": 76,
    "start_time": "2023-11-05T18:45:23.000Z"
   },
   {
    "duration": 80,
    "start_time": "2023-11-05T18:45:48.278Z"
   },
   {
    "duration": 84,
    "start_time": "2023-11-05T18:45:55.760Z"
   },
   {
    "duration": 83,
    "start_time": "2023-11-05T18:46:02.983Z"
   },
   {
    "duration": 78,
    "start_time": "2023-11-05T18:46:31.344Z"
   },
   {
    "duration": 75,
    "start_time": "2023-11-05T18:46:40.119Z"
   },
   {
    "duration": 76,
    "start_time": "2023-11-05T18:46:46.771Z"
   },
   {
    "duration": 87,
    "start_time": "2023-11-05T18:46:55.951Z"
   },
   {
    "duration": 76,
    "start_time": "2023-11-05T18:47:19.744Z"
   },
   {
    "duration": 80,
    "start_time": "2023-11-05T18:47:26.191Z"
   },
   {
    "duration": 77,
    "start_time": "2023-11-05T19:00:15.582Z"
   },
   {
    "duration": 77,
    "start_time": "2023-11-05T19:00:24.428Z"
   },
   {
    "duration": 75,
    "start_time": "2023-11-05T19:00:32.588Z"
   },
   {
    "duration": 76,
    "start_time": "2023-11-05T19:00:39.549Z"
   },
   {
    "duration": 167,
    "start_time": "2023-11-05T19:08:41.555Z"
   },
   {
    "duration": 85,
    "start_time": "2023-11-05T19:08:54.161Z"
   },
   {
    "duration": 58,
    "start_time": "2023-11-05T19:09:16.376Z"
   },
   {
    "duration": 74,
    "start_time": "2023-11-05T19:10:27.711Z"
   },
   {
    "duration": 30,
    "start_time": "2023-11-05T19:15:05.214Z"
   },
   {
    "duration": 58,
    "start_time": "2023-11-05T19:21:03.774Z"
   },
   {
    "duration": 59,
    "start_time": "2023-11-05T19:21:20.308Z"
   },
   {
    "duration": 52,
    "start_time": "2023-11-05T19:21:30.209Z"
   },
   {
    "duration": 86,
    "start_time": "2023-11-05T19:21:35.584Z"
   },
   {
    "duration": 77,
    "start_time": "2023-11-05T19:25:55.953Z"
   },
   {
    "duration": 63,
    "start_time": "2023-11-05T19:31:45.414Z"
   },
   {
    "duration": 52,
    "start_time": "2023-11-05T19:32:06.722Z"
   },
   {
    "duration": 35,
    "start_time": "2023-11-05T19:32:55.989Z"
   },
   {
    "duration": 36,
    "start_time": "2023-11-05T19:35:57.190Z"
   },
   {
    "duration": 35,
    "start_time": "2023-11-05T19:36:17.271Z"
   },
   {
    "duration": 36,
    "start_time": "2023-11-05T19:38:12.890Z"
   },
   {
    "duration": 34,
    "start_time": "2023-11-05T19:38:44.921Z"
   },
   {
    "duration": 34,
    "start_time": "2023-11-05T19:38:53.339Z"
   },
   {
    "duration": 34,
    "start_time": "2023-11-05T19:38:59.643Z"
   },
   {
    "duration": 36,
    "start_time": "2023-11-05T19:39:07.866Z"
   },
   {
    "duration": 35,
    "start_time": "2023-11-05T19:40:42.443Z"
   },
   {
    "duration": 35,
    "start_time": "2023-11-05T19:40:51.099Z"
   },
   {
    "duration": 36,
    "start_time": "2023-11-05T19:40:56.308Z"
   },
   {
    "duration": 510,
    "start_time": "2023-11-06T07:56:01.270Z"
   },
   {
    "duration": 9684,
    "start_time": "2023-11-06T07:56:01.782Z"
   },
   {
    "duration": 66,
    "start_time": "2023-11-06T07:56:11.467Z"
   },
   {
    "duration": 31,
    "start_time": "2023-11-06T07:56:11.535Z"
   },
   {
    "duration": 31,
    "start_time": "2023-11-06T07:56:11.569Z"
   },
   {
    "duration": 53,
    "start_time": "2023-11-06T07:56:11.601Z"
   },
   {
    "duration": 45,
    "start_time": "2023-11-06T07:56:11.656Z"
   },
   {
    "duration": 231,
    "start_time": "2023-11-06T07:56:11.703Z"
   },
   {
    "duration": 30,
    "start_time": "2023-11-06T07:56:11.936Z"
   },
   {
    "duration": 53,
    "start_time": "2023-11-06T07:56:11.968Z"
   },
   {
    "duration": 285,
    "start_time": "2023-11-06T07:56:12.023Z"
   },
   {
    "duration": 105,
    "start_time": "2023-11-06T08:02:04.263Z"
   },
   {
    "duration": 58,
    "start_time": "2023-11-06T08:02:29.467Z"
   },
   {
    "duration": 58,
    "start_time": "2023-11-06T08:03:00.026Z"
   },
   {
    "duration": 57,
    "start_time": "2023-11-06T08:03:43.758Z"
   },
   {
    "duration": 57,
    "start_time": "2023-11-06T08:04:51.469Z"
   },
   {
    "duration": 59,
    "start_time": "2023-11-06T08:05:49.008Z"
   },
   {
    "duration": 69,
    "start_time": "2023-11-06T08:06:07.745Z"
   },
   {
    "duration": 60,
    "start_time": "2023-11-06T08:06:26.072Z"
   },
   {
    "duration": 61,
    "start_time": "2023-11-06T08:06:36.923Z"
   },
   {
    "duration": 59,
    "start_time": "2023-11-06T08:07:02.413Z"
   },
   {
    "duration": 58,
    "start_time": "2023-11-06T08:07:13.635Z"
   },
   {
    "duration": 57,
    "start_time": "2023-11-06T08:07:19.593Z"
   },
   {
    "duration": 61,
    "start_time": "2023-11-06T08:07:23.103Z"
   },
   {
    "duration": 60,
    "start_time": "2023-11-06T08:08:03.425Z"
   },
   {
    "duration": 61,
    "start_time": "2023-11-06T08:08:26.562Z"
   },
   {
    "duration": 59,
    "start_time": "2023-11-06T08:08:34.252Z"
   },
   {
    "duration": 59,
    "start_time": "2023-11-06T08:08:45.002Z"
   },
   {
    "duration": 60,
    "start_time": "2023-11-06T08:08:52.778Z"
   },
   {
    "duration": 77,
    "start_time": "2023-11-06T08:11:18.851Z"
   },
   {
    "duration": 47,
    "start_time": "2023-11-06T08:11:42.177Z"
   },
   {
    "duration": 80,
    "start_time": "2023-11-06T08:11:56.998Z"
   },
   {
    "duration": 47,
    "start_time": "2023-11-06T08:12:35.071Z"
   },
   {
    "duration": 318,
    "start_time": "2023-11-06T08:12:39.748Z"
   },
   {
    "duration": 47,
    "start_time": "2023-11-06T08:13:28.446Z"
   },
   {
    "duration": 775,
    "start_time": "2023-11-06T08:44:32.632Z"
   },
   {
    "duration": 15203,
    "start_time": "2023-11-06T08:44:33.410Z"
   },
   {
    "duration": 83,
    "start_time": "2023-11-06T08:44:48.615Z"
   },
   {
    "duration": 33,
    "start_time": "2023-11-06T08:44:48.700Z"
   },
   {
    "duration": 61,
    "start_time": "2023-11-06T08:44:48.735Z"
   },
   {
    "duration": 91,
    "start_time": "2023-11-06T08:44:48.798Z"
   },
   {
    "duration": 48,
    "start_time": "2023-11-06T08:44:48.891Z"
   },
   {
    "duration": 331,
    "start_time": "2023-11-06T08:44:48.941Z"
   },
   {
    "duration": 34,
    "start_time": "2023-11-06T08:44:49.275Z"
   },
   {
    "duration": 74,
    "start_time": "2023-11-06T08:44:49.312Z"
   },
   {
    "duration": 38,
    "start_time": "2023-11-06T08:44:49.391Z"
   },
   {
    "duration": 62,
    "start_time": "2023-11-06T08:44:49.432Z"
   },
   {
    "duration": 38,
    "start_time": "2023-11-06T08:44:49.496Z"
   },
   {
    "duration": 57,
    "start_time": "2023-11-06T08:44:49.535Z"
   },
   {
    "duration": 37,
    "start_time": "2023-11-06T08:44:49.594Z"
   },
   {
    "duration": 65,
    "start_time": "2023-11-06T08:44:49.633Z"
   },
   {
    "duration": 35,
    "start_time": "2023-11-06T08:44:49.701Z"
   },
   {
    "duration": 222,
    "start_time": "2023-11-06T08:46:47.696Z"
   },
   {
    "duration": 84,
    "start_time": "2023-11-06T08:47:03.006Z"
   },
   {
    "duration": 80,
    "start_time": "2023-11-06T08:47:12.395Z"
   },
   {
    "duration": 73,
    "start_time": "2023-11-06T08:47:31.115Z"
   },
   {
    "duration": 99,
    "start_time": "2023-11-06T08:47:48.416Z"
   },
   {
    "duration": 51,
    "start_time": "2023-11-06T17:59:29.533Z"
   },
   {
    "duration": 467,
    "start_time": "2023-11-06T17:59:35.685Z"
   },
   {
    "duration": 8636,
    "start_time": "2023-11-06T17:59:36.154Z"
   },
   {
    "duration": 64,
    "start_time": "2023-11-06T17:59:44.792Z"
   },
   {
    "duration": 32,
    "start_time": "2023-11-06T17:59:44.858Z"
   },
   {
    "duration": 32,
    "start_time": "2023-11-06T17:59:44.891Z"
   },
   {
    "duration": 64,
    "start_time": "2023-11-06T17:59:44.924Z"
   },
   {
    "duration": 48,
    "start_time": "2023-11-06T17:59:44.989Z"
   },
   {
    "duration": 232,
    "start_time": "2023-11-06T17:59:45.038Z"
   },
   {
    "duration": 29,
    "start_time": "2023-11-06T17:59:45.271Z"
   },
   {
    "duration": 55,
    "start_time": "2023-11-06T17:59:45.302Z"
   },
   {
    "duration": 30,
    "start_time": "2023-11-06T17:59:45.359Z"
   },
   {
    "duration": 34,
    "start_time": "2023-11-06T17:59:45.390Z"
   },
   {
    "duration": 37,
    "start_time": "2023-11-06T17:59:45.425Z"
   },
   {
    "duration": 34,
    "start_time": "2023-11-06T17:59:45.463Z"
   },
   {
    "duration": 33,
    "start_time": "2023-11-06T17:59:45.499Z"
   },
   {
    "duration": 34,
    "start_time": "2023-11-06T17:59:45.534Z"
   },
   {
    "duration": 44,
    "start_time": "2023-11-06T17:59:45.570Z"
   },
   {
    "duration": 119,
    "start_time": "2023-11-06T18:00:46.297Z"
   },
   {
    "duration": 60,
    "start_time": "2023-11-06T18:02:05.515Z"
   },
   {
    "duration": 60,
    "start_time": "2023-11-06T18:02:20.001Z"
   },
   {
    "duration": 84,
    "start_time": "2023-11-06T18:02:38.995Z"
   },
   {
    "duration": 71,
    "start_time": "2023-11-06T18:02:51.857Z"
   },
   {
    "duration": 72,
    "start_time": "2023-11-06T18:04:31.994Z"
   },
   {
    "duration": 72,
    "start_time": "2023-11-06T18:04:49.122Z"
   },
   {
    "duration": 66,
    "start_time": "2023-11-06T18:05:26.018Z"
   },
   {
    "duration": 74,
    "start_time": "2023-11-06T18:05:39.627Z"
   },
   {
    "duration": 73,
    "start_time": "2023-11-06T18:06:11.883Z"
   },
   {
    "duration": 73,
    "start_time": "2023-11-06T18:06:30.581Z"
   },
   {
    "duration": 73,
    "start_time": "2023-11-06T18:09:52.669Z"
   },
   {
    "duration": 82,
    "start_time": "2023-11-06T18:10:01.292Z"
   },
   {
    "duration": 51,
    "start_time": "2023-11-06T18:10:58.413Z"
   },
   {
    "duration": 71,
    "start_time": "2023-11-06T18:13:07.984Z"
   },
   {
    "duration": 62,
    "start_time": "2023-11-06T18:13:27.773Z"
   },
   {
    "duration": 58,
    "start_time": "2023-11-06T18:13:55.942Z"
   },
   {
    "duration": 51,
    "start_time": "2023-11-06T18:23:16.643Z"
   },
   {
    "duration": 60,
    "start_time": "2023-11-06T18:23:57.082Z"
   },
   {
    "duration": 60,
    "start_time": "2023-11-06T18:24:05.849Z"
   },
   {
    "duration": 68,
    "start_time": "2023-11-06T18:24:26.090Z"
   },
   {
    "duration": 87,
    "start_time": "2023-11-06T18:24:43.705Z"
   },
   {
    "duration": 49,
    "start_time": "2023-11-06T18:30:26.587Z"
   },
   {
    "duration": 68,
    "start_time": "2023-11-06T18:30:32.907Z"
   },
   {
    "duration": 94,
    "start_time": "2023-11-06T18:30:43.803Z"
   },
   {
    "duration": 85,
    "start_time": "2023-11-06T18:30:58.708Z"
   },
   {
    "duration": 80,
    "start_time": "2023-11-06T18:31:09.731Z"
   },
   {
    "duration": 91,
    "start_time": "2023-11-06T18:31:59.965Z"
   },
   {
    "duration": 79,
    "start_time": "2023-11-06T18:32:07.539Z"
   },
   {
    "duration": 76,
    "start_time": "2023-11-06T18:32:44.004Z"
   },
   {
    "duration": 83,
    "start_time": "2023-11-06T18:37:51.388Z"
   },
   {
    "duration": 75,
    "start_time": "2023-11-06T18:47:59.696Z"
   },
   {
    "duration": 90,
    "start_time": "2023-11-06T18:48:14.375Z"
   },
   {
    "duration": 73,
    "start_time": "2023-11-06T18:48:38.137Z"
   },
   {
    "duration": 72,
    "start_time": "2023-11-06T18:52:42.761Z"
   },
   {
    "duration": 75,
    "start_time": "2023-11-06T18:53:15.049Z"
   },
   {
    "duration": 81,
    "start_time": "2023-11-06T18:54:46.670Z"
   },
   {
    "duration": 73,
    "start_time": "2023-11-06T18:54:58.914Z"
   },
   {
    "duration": 94,
    "start_time": "2023-11-06T18:55:34.370Z"
   },
   {
    "duration": 6,
    "start_time": "2023-11-06T19:00:48.515Z"
   },
   {
    "duration": 56,
    "start_time": "2023-11-06T19:01:09.596Z"
   },
   {
    "duration": 75,
    "start_time": "2023-11-06T19:01:18.757Z"
   },
   {
    "duration": 76,
    "start_time": "2023-11-06T19:04:37.900Z"
   },
   {
    "duration": 49,
    "start_time": "2023-11-06T19:05:02.260Z"
   },
   {
    "duration": 83,
    "start_time": "2023-11-06T19:05:25.749Z"
   },
   {
    "duration": 74,
    "start_time": "2023-11-06T19:06:12.621Z"
   },
   {
    "duration": 84,
    "start_time": "2023-11-06T19:06:21.269Z"
   },
   {
    "duration": 73,
    "start_time": "2023-11-06T19:06:28.550Z"
   },
   {
    "duration": 74,
    "start_time": "2023-11-06T19:06:46.357Z"
   },
   {
    "duration": 75,
    "start_time": "2023-11-06T19:06:58.405Z"
   },
   {
    "duration": 76,
    "start_time": "2023-11-06T19:07:06.261Z"
   },
   {
    "duration": 74,
    "start_time": "2023-11-06T19:10:16.544Z"
   },
   {
    "duration": 72,
    "start_time": "2023-11-06T19:11:37.850Z"
   },
   {
    "duration": 72,
    "start_time": "2023-11-06T19:11:44.753Z"
   },
   {
    "duration": 73,
    "start_time": "2023-11-06T19:12:24.409Z"
   },
   {
    "duration": 57,
    "start_time": "2023-11-06T19:24:11.949Z"
   },
   {
    "duration": 49,
    "start_time": "2023-11-06T19:27:42.849Z"
   },
   {
    "duration": 80,
    "start_time": "2023-11-06T19:27:55.008Z"
   },
   {
    "duration": 49,
    "start_time": "2023-11-06T19:30:23.671Z"
   },
   {
    "duration": 53,
    "start_time": "2023-11-06T19:30:29.695Z"
   },
   {
    "duration": 50,
    "start_time": "2023-11-06T19:32:08.264Z"
   },
   {
    "duration": 59,
    "start_time": "2023-11-06T19:33:25.858Z"
   },
   {
    "duration": 47,
    "start_time": "2023-11-06T19:33:35.985Z"
   },
   {
    "duration": 50,
    "start_time": "2023-11-06T19:34:01.768Z"
   },
   {
    "duration": 38,
    "start_time": "2023-11-06T19:34:42.529Z"
   },
   {
    "duration": 50,
    "start_time": "2023-11-06T19:36:20.426Z"
   },
   {
    "duration": 33,
    "start_time": "2023-11-06T19:36:57.587Z"
   },
   {
    "duration": 49,
    "start_time": "2023-11-06T19:40:26.885Z"
   },
   {
    "duration": 60,
    "start_time": "2023-11-06T19:40:49.145Z"
   },
   {
    "duration": 68,
    "start_time": "2023-11-06T19:43:05.286Z"
   },
   {
    "duration": 68,
    "start_time": "2023-11-06T19:45:08.735Z"
   },
   {
    "duration": 65,
    "start_time": "2023-11-06T19:45:21.287Z"
   },
   {
    "duration": 64,
    "start_time": "2023-11-06T19:45:36.638Z"
   },
   {
    "duration": 57,
    "start_time": "2023-11-06T19:45:46.518Z"
   },
   {
    "duration": 36,
    "start_time": "2023-11-06T19:46:50.727Z"
   },
   {
    "duration": 55,
    "start_time": "2023-11-06T19:47:06.328Z"
   },
   {
    "duration": 73,
    "start_time": "2023-11-06T19:47:17.487Z"
   },
   {
    "duration": 56,
    "start_time": "2023-11-06T19:50:37.473Z"
   },
   {
    "duration": 63,
    "start_time": "2023-11-06T19:50:50.489Z"
   },
   {
    "duration": 63,
    "start_time": "2023-11-06T19:51:35.513Z"
   },
   {
    "duration": 53,
    "start_time": "2023-11-06T19:54:55.929Z"
   },
   {
    "duration": 49,
    "start_time": "2023-11-06T19:55:13.707Z"
   },
   {
    "duration": 37,
    "start_time": "2023-11-06T19:55:27.290Z"
   },
   {
    "duration": 38,
    "start_time": "2023-11-06T20:00:04.149Z"
   },
   {
    "duration": 45,
    "start_time": "2023-11-06T20:01:25.509Z"
   },
   {
    "duration": 34,
    "start_time": "2023-11-06T20:01:37.647Z"
   },
   {
    "duration": 38,
    "start_time": "2023-11-06T20:02:11.111Z"
   },
   {
    "duration": 438,
    "start_time": "2023-11-06T20:03:04.996Z"
   },
   {
    "duration": 8330,
    "start_time": "2023-11-06T20:03:05.444Z"
   },
   {
    "duration": 60,
    "start_time": "2023-11-06T20:03:13.778Z"
   },
   {
    "duration": 33,
    "start_time": "2023-11-06T20:03:13.850Z"
   },
   {
    "duration": 32,
    "start_time": "2023-11-06T20:03:13.884Z"
   },
   {
    "duration": 72,
    "start_time": "2023-11-06T20:03:13.918Z"
   },
   {
    "duration": 57,
    "start_time": "2023-11-06T20:03:13.992Z"
   },
   {
    "duration": 504,
    "start_time": "2023-11-06T21:19:14.819Z"
   },
   {
    "duration": 10970,
    "start_time": "2023-11-06T21:19:15.325Z"
   },
   {
    "duration": 63,
    "start_time": "2023-11-06T21:19:26.297Z"
   },
   {
    "duration": 33,
    "start_time": "2023-11-06T21:19:26.362Z"
   },
   {
    "duration": 31,
    "start_time": "2023-11-06T21:19:26.396Z"
   },
   {
    "duration": 54,
    "start_time": "2023-11-06T21:19:26.429Z"
   },
   {
    "duration": 46,
    "start_time": "2023-11-06T21:19:26.485Z"
   },
   {
    "duration": 232,
    "start_time": "2023-11-06T21:19:26.532Z"
   },
   {
    "duration": 30,
    "start_time": "2023-11-06T21:19:26.765Z"
   },
   {
    "duration": 50,
    "start_time": "2023-11-06T21:19:26.797Z"
   },
   {
    "duration": 30,
    "start_time": "2023-11-06T21:19:26.849Z"
   },
   {
    "duration": 39,
    "start_time": "2023-11-06T21:19:26.880Z"
   },
   {
    "duration": 43,
    "start_time": "2023-11-06T21:19:26.921Z"
   },
   {
    "duration": 37,
    "start_time": "2023-11-06T21:19:26.966Z"
   },
   {
    "duration": 34,
    "start_time": "2023-11-06T21:19:27.005Z"
   },
   {
    "duration": 34,
    "start_time": "2023-11-06T21:19:27.040Z"
   },
   {
    "duration": 33,
    "start_time": "2023-11-06T21:19:27.076Z"
   },
   {
    "duration": 53,
    "start_time": "2023-11-09T19:03:13.123Z"
   },
   {
    "duration": 544,
    "start_time": "2023-11-09T19:03:18.425Z"
   },
   {
    "duration": 8574,
    "start_time": "2023-11-09T19:03:18.971Z"
   },
   {
    "duration": 59,
    "start_time": "2023-11-09T19:03:27.547Z"
   },
   {
    "duration": 35,
    "start_time": "2023-11-09T19:03:27.608Z"
   },
   {
    "duration": 32,
    "start_time": "2023-11-09T19:03:27.644Z"
   },
   {
    "duration": 54,
    "start_time": "2023-11-09T19:03:27.677Z"
   },
   {
    "duration": 47,
    "start_time": "2023-11-09T19:03:27.733Z"
   },
   {
    "duration": 230,
    "start_time": "2023-11-09T19:03:27.782Z"
   },
   {
    "duration": 33,
    "start_time": "2023-11-09T19:03:28.014Z"
   },
   {
    "duration": 114,
    "start_time": "2023-11-09T19:03:28.049Z"
   },
   {
    "duration": 0,
    "start_time": "2023-11-09T19:03:28.165Z"
   },
   {
    "duration": 0,
    "start_time": "2023-11-09T19:03:28.166Z"
   },
   {
    "duration": 0,
    "start_time": "2023-11-09T19:03:28.167Z"
   },
   {
    "duration": 0,
    "start_time": "2023-11-09T19:03:28.168Z"
   },
   {
    "duration": 0,
    "start_time": "2023-11-09T19:03:28.169Z"
   },
   {
    "duration": 0,
    "start_time": "2023-11-09T19:03:28.170Z"
   },
   {
    "duration": 0,
    "start_time": "2023-11-09T19:03:28.172Z"
   },
   {
    "duration": 61,
    "start_time": "2023-11-09T19:04:17.609Z"
   },
   {
    "duration": 81,
    "start_time": "2023-11-09T19:04:46.722Z"
   },
   {
    "duration": 515,
    "start_time": "2023-11-09T19:05:47.142Z"
   },
   {
    "duration": 8397,
    "start_time": "2023-11-09T19:05:47.659Z"
   },
   {
    "duration": 57,
    "start_time": "2023-11-09T19:05:56.058Z"
   },
   {
    "duration": 32,
    "start_time": "2023-11-09T19:05:56.117Z"
   },
   {
    "duration": 31,
    "start_time": "2023-11-09T19:05:56.151Z"
   },
   {
    "duration": 63,
    "start_time": "2023-11-09T19:05:56.184Z"
   },
   {
    "duration": 47,
    "start_time": "2023-11-09T19:05:56.249Z"
   },
   {
    "duration": 216,
    "start_time": "2023-11-09T19:05:56.297Z"
   },
   {
    "duration": 29,
    "start_time": "2023-11-09T19:05:56.515Z"
   },
   {
    "duration": 50,
    "start_time": "2023-11-09T19:05:56.546Z"
   },
   {
    "duration": 30,
    "start_time": "2023-11-09T19:05:56.598Z"
   },
   {
    "duration": 35,
    "start_time": "2023-11-09T19:05:56.629Z"
   },
   {
    "duration": 39,
    "start_time": "2023-11-09T19:05:56.666Z"
   },
   {
    "duration": 32,
    "start_time": "2023-11-09T19:05:56.707Z"
   },
   {
    "duration": 32,
    "start_time": "2023-11-09T19:05:56.741Z"
   },
   {
    "duration": 46,
    "start_time": "2023-11-09T19:05:56.775Z"
   },
   {
    "duration": 33,
    "start_time": "2023-11-09T19:05:56.822Z"
   },
   {
    "duration": 73,
    "start_time": "2023-11-09T19:11:29.544Z"
   },
   {
    "duration": 72,
    "start_time": "2023-11-09T19:11:38.860Z"
   },
   {
    "duration": 76,
    "start_time": "2023-11-09T19:11:46.997Z"
   },
   {
    "duration": 78,
    "start_time": "2023-11-09T19:11:53.633Z"
   },
   {
    "duration": 78,
    "start_time": "2023-11-09T19:12:17.653Z"
   },
   {
    "duration": 80,
    "start_time": "2023-11-09T19:12:23.509Z"
   },
   {
    "duration": 75,
    "start_time": "2023-11-09T19:28:01.150Z"
   },
   {
    "duration": 77,
    "start_time": "2023-11-09T19:28:16.099Z"
   },
   {
    "duration": 450,
    "start_time": "2024-02-05T09:39:36.292Z"
   },
   {
    "duration": 8082,
    "start_time": "2024-02-05T09:39:36.745Z"
   },
   {
    "duration": 57,
    "start_time": "2024-02-05T09:39:44.829Z"
   },
   {
    "duration": 31,
    "start_time": "2024-02-05T09:39:44.888Z"
   },
   {
    "duration": 31,
    "start_time": "2024-02-05T09:39:44.920Z"
   },
   {
    "duration": 64,
    "start_time": "2024-02-05T09:39:44.952Z"
   },
   {
    "duration": 46,
    "start_time": "2024-02-05T09:39:45.018Z"
   },
   {
    "duration": 254,
    "start_time": "2024-02-05T09:39:45.065Z"
   },
   {
    "duration": 28,
    "start_time": "2024-02-05T09:39:45.321Z"
   },
   {
    "duration": 52,
    "start_time": "2024-02-05T09:39:45.351Z"
   },
   {
    "duration": 29,
    "start_time": "2024-02-05T09:39:45.404Z"
   },
   {
    "duration": 33,
    "start_time": "2024-02-05T09:39:45.435Z"
   },
   {
    "duration": 37,
    "start_time": "2024-02-05T09:39:45.470Z"
   },
   {
    "duration": 32,
    "start_time": "2024-02-05T09:39:45.508Z"
   },
   {
    "duration": 32,
    "start_time": "2024-02-05T09:39:45.541Z"
   },
   {
    "duration": 36,
    "start_time": "2024-02-05T09:39:45.574Z"
   },
   {
    "duration": 32,
    "start_time": "2024-02-05T09:39:45.611Z"
   },
   {
    "duration": 489,
    "start_time": "2024-02-05T10:06:03.537Z"
   },
   {
    "duration": 8482,
    "start_time": "2024-02-05T10:06:04.030Z"
   },
   {
    "duration": 56,
    "start_time": "2024-02-05T10:06:12.513Z"
   },
   {
    "duration": 30,
    "start_time": "2024-02-05T10:06:12.571Z"
   },
   {
    "duration": 29,
    "start_time": "2024-02-05T10:06:12.602Z"
   },
   {
    "duration": 59,
    "start_time": "2024-02-05T10:06:12.632Z"
   },
   {
    "duration": 44,
    "start_time": "2024-02-05T10:06:12.692Z"
   },
   {
    "duration": 223,
    "start_time": "2024-02-05T10:06:12.737Z"
   },
   {
    "duration": 28,
    "start_time": "2024-02-05T10:06:12.961Z"
   },
   {
    "duration": 50,
    "start_time": "2024-02-05T10:06:12.991Z"
   },
   {
    "duration": 29,
    "start_time": "2024-02-05T10:06:13.042Z"
   },
   {
    "duration": 31,
    "start_time": "2024-02-05T10:06:13.072Z"
   },
   {
    "duration": 35,
    "start_time": "2024-02-05T10:06:13.105Z"
   },
   {
    "duration": 31,
    "start_time": "2024-02-05T10:06:13.141Z"
   },
   {
    "duration": 31,
    "start_time": "2024-02-05T10:06:13.173Z"
   },
   {
    "duration": 31,
    "start_time": "2024-02-05T10:06:13.205Z"
   },
   {
    "duration": 30,
    "start_time": "2024-02-05T10:06:13.237Z"
   },
   {
    "duration": 28,
    "start_time": "2024-02-05T10:12:52.174Z"
   },
   {
    "duration": 31,
    "start_time": "2024-02-05T10:13:44.918Z"
   },
   {
    "duration": 26,
    "start_time": "2024-02-05T10:14:46.566Z"
   },
   {
    "duration": 31,
    "start_time": "2024-02-05T10:14:49.102Z"
   },
   {
    "duration": 27,
    "start_time": "2024-02-05T10:15:13.214Z"
   },
   {
    "duration": 28,
    "start_time": "2024-02-05T10:15:23.862Z"
   },
   {
    "duration": 27,
    "start_time": "2024-02-05T10:15:40.950Z"
   },
   {
    "duration": 30,
    "start_time": "2024-02-05T10:16:02.759Z"
   },
   {
    "duration": 27,
    "start_time": "2024-02-05T10:16:20.518Z"
   },
   {
    "duration": 30,
    "start_time": "2024-02-05T10:16:28.590Z"
   },
   {
    "duration": 82,
    "start_time": "2024-02-05T10:16:39.910Z"
   },
   {
    "duration": 28,
    "start_time": "2024-02-05T10:16:48.551Z"
   },
   {
    "duration": 27,
    "start_time": "2024-02-05T10:17:06.031Z"
   },
   {
    "duration": 29,
    "start_time": "2024-02-05T10:17:15.121Z"
   },
   {
    "duration": 509,
    "start_time": "2024-02-05T10:29:57.139Z"
   },
   {
    "duration": 9215,
    "start_time": "2024-02-05T10:29:57.650Z"
   },
   {
    "duration": 26,
    "start_time": "2024-02-05T10:30:06.866Z"
   },
   {
    "duration": 29,
    "start_time": "2024-02-05T10:30:06.894Z"
   },
   {
    "duration": 27,
    "start_time": "2024-02-05T10:30:06.924Z"
   },
   {
    "duration": 27,
    "start_time": "2024-02-05T10:30:06.952Z"
   },
   {
    "duration": 26,
    "start_time": "2024-02-05T10:30:06.981Z"
   },
   {
    "duration": 27,
    "start_time": "2024-02-05T10:30:07.008Z"
   },
   {
    "duration": 27,
    "start_time": "2024-02-05T10:30:07.036Z"
   },
   {
    "duration": 28,
    "start_time": "2024-02-05T10:30:07.065Z"
   },
   {
    "duration": 27,
    "start_time": "2024-02-05T10:30:07.094Z"
   },
   {
    "duration": 28,
    "start_time": "2024-02-05T10:30:07.122Z"
   },
   {
    "duration": 27,
    "start_time": "2024-02-05T10:30:07.151Z"
   },
   {
    "duration": 73,
    "start_time": "2024-02-05T10:30:07.179Z"
   },
   {
    "duration": 30,
    "start_time": "2024-02-05T10:30:07.254Z"
   },
   {
    "duration": 42,
    "start_time": "2024-02-05T10:30:07.285Z"
   },
   {
    "duration": 35,
    "start_time": "2024-02-05T10:30:07.328Z"
   },
   {
    "duration": 32,
    "start_time": "2024-02-05T10:30:07.364Z"
   },
   {
    "duration": 31,
    "start_time": "2024-02-05T10:30:07.397Z"
   },
   {
    "duration": 31,
    "start_time": "2024-02-05T10:30:07.429Z"
   },
   {
    "duration": 32,
    "start_time": "2024-02-05T10:30:07.462Z"
   }
  ],
  "kernelspec": {
   "display_name": "Python 3 (ipykernel)",
   "language": "python",
   "name": "python3"
  },
  "language_info": {
   "codemirror_mode": {
    "name": "ipython",
    "version": 3
   },
   "file_extension": ".py",
   "mimetype": "text/x-python",
   "name": "python",
   "nbconvert_exporter": "python",
   "pygments_lexer": "ipython3",
   "version": "3.9.5"
  },
  "toc": {
   "base_numbering": 1,
   "nav_menu": {},
   "number_sections": false,
   "sideBar": true,
   "skip_h1_title": true,
   "title_cell": "Table of Contents",
   "title_sidebar": "Contents",
   "toc_cell": false,
   "toc_position": {
    "height": "697.949px",
    "left": "2.98828px",
    "top": "111.113px",
    "width": "195.125px"
   },
   "toc_section_display": true,
   "toc_window_display": false
  }
 },
 "nbformat": 4,
 "nbformat_minor": 2
}
