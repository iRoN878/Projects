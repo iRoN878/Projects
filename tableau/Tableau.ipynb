{
 "cells": [
  {
   "cell_type": "markdown",
   "id": "0029fa40",
   "metadata": {},
   "source": [
    "# Дашборд \"История выступлений\""
   ]
  },
  {
   "cell_type": "markdown",
   "id": "4818e805",
   "metadata": {},
   "source": [
    "# Дашборд \"Тематики выступлений\""
   ]
  },
  {
   "cell_type": "markdown",
   "id": "8ec0a892",
   "metadata": {},
   "source": [
    "# Дашборд \"Авторы выступлений\""
   ]
  },
  {
   "cell_type": "markdown",
   "id": "fd37b5f3",
   "metadata": {},
   "source": [
    "# Дашборд на свободную тему"
   ]
  },
  {
   "cell_type": "markdown",
   "id": "c85c6538",
   "metadata": {},
   "source": [
    "##### Ниже ссылка на дашборд в Tableau:"
   ]
  },
  {
   "cell_type": "markdown",
   "id": "864637a3",
   "metadata": {},
   "source": [
    "https://public.tableau.com/views/TED_16952395484800/Story1?:language=en-US&:display_count=n&:origin=viz_share_link"
   ]
  },
  {
   "cell_type": "code",
   "execution_count": null,
   "id": "04eb81ff",
   "metadata": {},
   "outputs": [],
   "source": []
  }
 ],
 "metadata": {
  "ExecuteTimeLog": [
   {
    "duration": 147,
    "start_time": "2023-09-21T14:00:17.852Z"
   }
  ],
  "kernelspec": {
   "display_name": "Python 3 (ipykernel)",
   "language": "python",
   "name": "python3"
  },
  "language_info": {
   "codemirror_mode": {
    "name": "ipython",
    "version": 3
   },
   "file_extension": ".py",
   "mimetype": "text/x-python",
   "name": "python",
   "nbconvert_exporter": "python",
   "pygments_lexer": "ipython3",
   "version": "3.9.5"
  },
  "toc": {
   "base_numbering": 1,
   "nav_menu": {},
   "number_sections": false,
   "sideBar": true,
   "skip_h1_title": true,
   "title_cell": "Table of Contents",
   "title_sidebar": "Contents",
   "toc_cell": false,
   "toc_position": {},
   "toc_section_display": true,
   "toc_window_display": true
  }
 },
 "nbformat": 4,
 "nbformat_minor": 5
}
